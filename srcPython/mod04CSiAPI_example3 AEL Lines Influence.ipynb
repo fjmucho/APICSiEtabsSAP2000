{
 "cells": [
  {
   "cell_type": "markdown",
   "metadata": {},
   "source": [
    "<center>\n",
    "    <h1 style=\"font-size: 12; font-weight: 900; \">--- 4 ---<h1>\n",
    "    <h2>CSiAPI - ETABS y SAP2000</h2>\n",
    "    <!-- <p><strong></strong</p> -->\n",
    "</center>"
   ]
  },
  {
   "cell_type": "code",
   "execution_count": 1,
   "metadata": {},
   "outputs": [],
   "source": [
    "import os, sys\n",
    "import comtypes.client"
   ]
  },
  {
   "cell_type": "code",
   "execution_count": null,
   "metadata": {},
   "outputs": [],
   "source": [
    "connect_to=1"
   ]
  },
  {
   "cell_type": "code",
   "execution_count": null,
   "metadata": {},
   "outputs": [],
   "source": [
    "# from utilities.plotModel import plotModel2d, plotModel3d\n",
    "\n",
    "# plotModel2d(coords, elems, nameModelProject)"
   ]
  },
  {
   "cell_type": "code",
   "execution_count": null,
   "metadata": {},
   "outputs": [],
   "source": [
    "from utilities.connectcsi import ConnectCSiAPI"
   ]
  },
  {
   "cell_type": "code",
   "execution_count": null,
   "metadata": {},
   "outputs": [],
   "source": [
    "smodel, response = None, None\n",
    "\n",
    "connection = ConnectCSiAPI(connect_to)\n",
    "response, connect_to_app = connection.connect_default()\n",
    "response"
   ]
  },
  {
   "cell_type": "code",
   "execution_count": null,
   "metadata": {},
   "outputs": [],
   "source": [
    "connect_to_app.ApplicationStart()\n",
    "\n",
    "smodel = connect_to_app.SapModel\n",
    "smodel"
   ]
  },
  {
   "cell_type": "code",
   "execution_count": null,
   "metadata": {},
   "outputs": [],
   "source": [
    "kgf_cm_C=14\n",
    "# string Name\n",
    "# eMatType MatType\n",
    "# int Color = -1\n",
    "# string Notes = \"\"\n",
    "# string GUID = \"\"\n",
    "# smodel.SetPresentUnits(kgf_cm_C)\n",
    "\n",
    "smodel.InitializeNewModel(kgf_cm_C)\n",
    "\n",
    "# int NumberStorys | numero de pisos\n",
    "# double TypicalStoryHeight | altura tipico de piso\n",
    "# double BottomStoryHeight  | altura de piso de sotano/abajo\n",
    "# int NumberLinesX  | numero de lineas en x, en el plano\n",
    "# int NumberLinesY  | numero de lineas en y, en el plano\n",
    "# double SpacingX   | espaciado en x, en plano\n",
    "# double SpacingY   | espaciado en y, en plano\n",
    "nmodel = smodel.File.NewGridOnly(4,10,8,4,4,10,10)\n",
    "\n",
    "#\n",
    "name_material=\"fc=280 kgf/cm2\"\n",
    "smodel.PropMaterial.SetMaterial(name_material, 2, -1)\n",
    "#\n",
    "smodel.PropMaterial.SetOConcrete_1(name_material, 280, False, 0, 1, 2, 0.0022, 0.0052, -0.1, 0, 0)\n",
    "name_materail_rebar = \"A615Gr60\"\n",
    "smodel.PropMaterial.SetMaterial(name_materail_rebar, 6)\n",
    "\n",
    "kgf_m_C=8\n",
    "smodel.SetPresentUnits(kgf_cm_C)\n",
    "\n",
    "# Sections | secciones\n",
    "sectionName = 'Viga 30x60'\n",
    "smodel.PropFrame.SetRectangle(sectionName, name_material, 0.65, 0.30)\n",
    "\n",
    "# falta una configuracion aquii\n",
    "\n",
    "# Patterns | patrones\n",
    "ret = smodel.LoadPatterns.Add(\"SCM\", 2)\n",
    "ret = smodel.LoadPatterns.Add(\"Dead\", 1)\n",
    "ret = smodel.LoadPatterns.Add(\"Live\", 3)\n",
    " \n",
    "# Cases | casos\n",
    "ret = smodel.LoadCases.StaticLinear.SetCase(\"SCM\")\n",
    "ret = smodel.LoadCases.StaticLinear.SetCase(\"Dead\")\n",
    "ret = smodel.LoadCases.StaticLinear.SetCase(\"Live\")\n",
    "\n",
    "# Combinations | combinaciones\n",
    "ret = smodel.RespCombo.Add(\"UDCon1\", 0)\n",
    "ret = smodel.RespCombo.Add(\"UDCon2\", 0)\n",
    "\n",
    "CNameType = 0\n",
    "ret = smodel.RespCombo.SetCaseList(\"UDCon1\", CNameType, \"Dead\", 1.4)\n",
    "ret = smodel.RespCombo.SetCaseList(\"UDCon1\", CNameType, \"SCM\", 1.4)\n",
    "\n",
    "ret = smodel.RespCombo.SetCaseList(\"UDCon2\", CNameType, \"Dead\", 1.2)\n",
    "ret = smodel.RespCombo.SetCaseList(\"UDCon2\", CNameType, \"Live\", 1.6)\n",
    "ret = smodel.RespCombo.SetCaseList(\"UDCon2\", CNameType, \"SCM\", 1.2)\n",
    "\n",
    "# NumberItems = 0\n",
    "# CNameType = []\n",
    "# CName = []\n",
    "# sfSF = []\n",
    "# smodel.RespCombo.GetCaseList(\"UDCon1\", NumberItems, CNameType, CName, sfSF)\n",
    "\n",
    "# Elements | elementos\n",
    "FrameName1 = ' '\n",
    "[FrameName1, ret] = smodel.FrameObj.AddByCoord(304.8, 0, 243.84, 609.6, 0, 243.84, FrameName1, sectionName, '1', 'Global')\n",
    "\n",
    "# Assigning restraints\n",
    "PointName1 = ' '\n",
    "PointName2 = ' '\n",
    "Restraint = [True, True, True, False, False, False] #UX,UY,UZ, MX,MY,MZ\n",
    "[PointName1, PointName2, ret] = smodel.FrameObj.GetPoints(FrameName1, PointName1, PointName2)\n",
    "ret = smodel.PointObj.SetRestraint(PointName1, Restraint)\n",
    "\n",
    "Restraint = [False, False, True, False, False, False] #UX,UY,UZ, MX,MY,MZ\n",
    "[PointName1, PointName2, ret] = smodel.FrameObj.GetPoints(FrameName1, PointName1, PointName2)\n",
    "ret = smodel.PointObj.SetRestraint(PointName2, Restraint)\n",
    "\n",
    "smodel.View.RefreshView();\n",
    "\n",
    "# cambio de orientacion.\n",
    "# vName=\"v1\"\n",
    "# vCardinalPoint=2\n",
    "# vMirror2=False\n",
    "# vStiffTransform=False\n",
    "# vOffset1=[]\n",
    "# vOffset2=[]\n",
    "# ret = smodel.FrameObj.SetInsertionPoint(vName, vCardinalPoint, vMirror2, vStiffTransform, vOffset1, vOffset2)\n",
    "\n",
    "# Se definen registros de salida\n",
    "projectPath = r'C:\\\\CSi_API_Example';\n",
    "if not os.path.exists(projectPath):\n",
    "    try: os.makedirs(projectPath)\n",
    "    except OSError: pass\n",
    "ModelPath = projectPath + os.sep + 'Beam3D.edb'\n",
    "# save model | guardar nuestro modelo\n",
    "ret = smodel.File.Save(ModelPath)\n",
    "\n",
    "# run model (this will create the analysis model)\n",
    "ret = smodel.Analyze.RunAnalysis()"
   ]
  },
  {
   "cell_type": "code",
   "execution_count": null,
   "metadata": {},
   "outputs": [],
   "source": []
  },
  {
   "cell_type": "markdown",
   "metadata": {},
   "source": [
    "## Referencias."
   ]
  },
  {
   "cell_type": "markdown",
   "metadata": {},
   "source": [
    "- aa"
   ]
  }
 ],
 "metadata": {
  "kernelspec": {
   "display_name": "Python 3",
   "language": "python",
   "name": "python3"
  },
  "language_info": {
   "codemirror_mode": {
    "name": "ipython",
    "version": 3
   },
   "file_extension": ".py",
   "mimetype": "text/x-python",
   "name": "python",
   "nbconvert_exporter": "python",
   "pygments_lexer": "ipython3",
   "version": "3.12.7"
  }
 },
 "nbformat": 4,
 "nbformat_minor": 2
}
