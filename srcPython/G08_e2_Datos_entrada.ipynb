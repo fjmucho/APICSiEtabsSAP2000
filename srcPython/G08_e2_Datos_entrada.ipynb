{
 "cells": [
  {
   "cell_type": "code",
   "execution_count": null,
   "metadata": {},
   "outputs": [],
   "source": [
    "from utilities.G08_Modelo_ETABS import *"
   ]
  },
  {
   "cell_type": "code",
   "execution_count": null,
   "metadata": {},
   "outputs": [],
   "source": [
    "units = 14    # kgf_cm_C\n",
    "\n",
    "# Definición de parámetros sísmicos\n",
    "\n",
    "Z = 0.45            # Factor de zonificación sísmica\n",
    "U = 1.00            # Factor de uso de importancia\n",
    "S = 1.20            # Factor de suelo\n",
    "Tp = 0.4            # Periodo que define la plataforma del factor C\n",
    "Tl = 2.5            # Periodo que define el inicio de la zona del factor C con desplazamiento constante\n",
    "\n",
    "# Direccion X\n",
    "Ipx = 1.00          # Factor de irregularidad en planta\n",
    "Iax = 1.00          # Factor de irregularidad en altura\n",
    "Rox = 8.00          # Coeficiente básico de reducción sísmica\n",
    "Rx = Rox*Iax*Ipx    # Coeficiente de reducción sísmica\n",
    "\n",
    "# Direccion Y\n",
    "Ipy = 1.00          # Factor de irregularidad en planta\n",
    "Iay = 1.00          # Factor de irregularidad en altura\n",
    "Roy = 8.00          # Coeficiente básico de reducción sísmica\n",
    "Ry = Roy*Iay*Ipy    # Coeficiente de reducción sísmica\n",
    "\n",
    "if Ipx == 1.00 and Iax == 1.00: condicion_x = 'Regular'\n",
    "else: condicion_x = 'Irregular'\n",
    "\n",
    "if Ipy == 1.00 and Iay == 1.00: condicion_y = 'Regular'\n",
    "else: condicion_y = 'Irregular'\n",
    "\n",
    "x = Modelo_ETABS(\n",
    "    units, Z, U, S, \n",
    "    Rx, Ry, Tp, Tl, \n",
    "    condicion_x, condicion_y, \n",
    "    2\n",
    "    )\n",
    "\n",
    "x.Response_Spectrum(Tp, Tl)"
   ]
  },
  {
   "cell_type": "code",
   "execution_count": null,
   "metadata": {},
   "outputs": [],
   "source": [
    "# # Close the program | Cerrar la aplicacio\n",
    "# if(connect_to_app.ApplicationExit(False)): print(\"No se pudo cerrar la coneccion!\")\n",
    "# else: print(\"Se cerro con exito.\")\n",
    "    \n",
    "# onnect_to_app, smodel = None, None\n",
    "# del (connect_to_app, smodel)"
   ]
  },
  {
   "cell_type": "markdown",
   "metadata": {},
   "source": [
    "https://youtu.be/HpJJ5q1QtME"
   ]
  },
  {
   "cell_type": "markdown",
   "metadata": {},
   "source": []
  }
 ],
 "metadata": {
  "kernelspec": {
   "display_name": "Python 3",
   "language": "python",
   "name": "python3"
  },
  "language_info": {
   "codemirror_mode": {
    "name": "ipython",
    "version": 3
   },
   "file_extension": ".py",
   "mimetype": "text/x-python",
   "name": "python",
   "nbconvert_exporter": "python",
   "pygments_lexer": "ipython3",
   "version": "3.12.7"
  }
 },
 "nbformat": 4,
 "nbformat_minor": 2
}
