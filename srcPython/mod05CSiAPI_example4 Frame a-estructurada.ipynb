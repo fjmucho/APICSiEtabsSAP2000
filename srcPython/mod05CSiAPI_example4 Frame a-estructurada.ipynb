{
 "cells": [
  {
   "cell_type": "markdown",
   "metadata": {},
   "source": [
    "<center>\n",
    "    <h1 style=\"font-size: 12; font-weight: 900; \">--- 5 ---<h1>\n",
    "    <h2>CSiAPI - ETABS y SAP2000</h2>\n",
    "    <!-- <p><strong></strong</p> -->\n",
    "</center>"
   ]
  },
  {
   "cell_type": "markdown",
   "metadata": {},
   "source": [
    "# Marco Parametrico (Frame 2D)"
   ]
  },
  {
   "cell_type": "code",
   "execution_count": 49,
   "metadata": {},
   "outputs": [],
   "source": [
    "import os, sys\n",
    "import comtypes.client"
   ]
  },
  {
   "cell_type": "code",
   "execution_count": 50,
   "metadata": {},
   "outputs": [],
   "source": [
    "import numpy as np"
   ]
  },
  {
   "cell_type": "markdown",
   "metadata": {},
   "source": [
    "## 1. Uso de sistema de Unidades"
   ]
  },
  {
   "cell_type": "code",
   "execution_count": 51,
   "metadata": {},
   "outputs": [],
   "source": [
    "# Unidades Base mks\n",
    "m = 1\n",
    "kg = 1\n",
    "s = 1\n",
    "\n",
    "# Otras Unidades\n",
    "cm = 0.01*m\n",
    "kgf = 9.80665*kg*m/s**2\n",
    "tonf = 1000*kgf\n",
    "\n",
    "# Constantes Físicas\n",
    "g = 9.80665*m/s**2\n",
    "\n",
    "# configuraciones de unidades\n",
    "kN_m_C = 6\n",
    "kgf_m_C = 8\n",
    "Tonf_m_C = 12"
   ]
  },
  {
   "cell_type": "markdown",
   "metadata": {},
   "source": [
    "## 2. Propiedades, materiales y geometria o modelo"
   ]
  },
  {
   "cell_type": "markdown",
   "metadata": {},
   "source": [
    "### Ejemplo-01"
   ]
  },
  {
   "cell_type": "markdown",
   "metadata": {},
   "source": [
    "Analizar completamente la estructura mostrada. Considerar que el marco es de concreto armado donde E = 217370.65 kg/cm2 y las propiedades geométricas de los elementos estructurales son para vigas: 25 × 50 cm2 y para columnas: 25 × 25 cm2. La zapata en el apoyo izquierdo\n",
    "es de 80 × 80 cm2 y en el apoyo derecho es de 100 × 100 cm2.\n",
    "\n",
    "<center>\n",
    "\n",
    "![e-02](./images/e2.png)\n",
    "\n",
    "</center>\n",
    "\n",
    "Nota: El presente ejercicio es resuelto en el PROBLEMA 10-10 con simulación de apoyo elástico. ref (Alder Jhosue Quispe Panca)"
   ]
  },
  {
   "cell_type": "code",
   "execution_count": null,
   "metadata": {},
   "outputs": [],
   "source": [
    "fc = 210 * (kg/cm**2)   # Concrete strength [kg/cm2]\n",
    "# E = 151 * fc **0.5 *(kgf/cm**2)\n",
    "E = 217370.65 *(kg/cm**2)\n",
    "v = 0.2\n",
    "G = 0.5 *E / (1+v) # Shear modulus [kgf/cm**2]\n",
    "coeficienteTermico = 0\n",
    "\n",
    "material_type = 2;\n",
    "material_name = f'fc={str(fc)} kg/cm^2'; # fc=280kg/cm^2\n",
    "\n",
    "# --- secciones para la viga y columna\n",
    "secBeamb = 25*cm # cm\n",
    "secBeamh = 50*cm # cm\n",
    "beamName = f'V{str(secBeamb)}x{str(secBeamh)}'\n",
    "secColumnb = 25*cm # cm\n",
    "secColumnh = 25*cm # cm\n",
    "columnName = f'C{str(secColumnb)}x{str(secColumnh)}'\n",
    "\n",
    "coords = np.array([\n",
    "    [0.0, 0.0, 0.0],\n",
    "    [5.0, 0.0, 0.0],\n",
    "    [0.0, 0.0, 4.0],\n",
    "    [5.0, 0.0, 4.0],\n",
    "    [0.0, 0.0, 7.0],\n",
    "    [5.0, 0.0, 7.0],\n",
    "]);\n",
    "elems = np.array([\n",
    "    [0, 2, 1], # columna=1\n",
    "    [1, 3, 1], # columna\n",
    "    [2, 3, 2], # viga=2\n",
    "    [2, 4, 1], # columna\n",
    "    [3, 5, 1], # columna\n",
    "    [4, 5, 2], # viga\n",
    "]);\n",
    "\n",
    "apoyos = np.array([\n",
    "    [0, True, True, True, True, True, True],\n",
    "    [1, True, True, True, True, True, True],\n",
    "]);\n",
    "\n",
    "# cargas puntuales\n",
    "NameLoadP, LTYPE = \"CPuntual\", 8 # LTYPE_OTHER=8\n",
    "#   cargasEnNodo[idNodo, Fx, Fy, Fz, Rx, Ry, Rz]\n",
    "cargasEnNodo = np.array([\n",
    "    [2, 700, 0.0, 0.0, 0.0, 0.0, 0.0],\n",
    "    [5, 1_000, 0.0, 0.0, 0.0, 0.0, 0.0],\n",
    "])\n",
    "\n",
    "DName, LName = \"CMuerta\", \"CViva\"\n",
    "# cargas distribuidas\n",
    "#   cargasDistr[idElem, node_i, node_j, F/L, [1:g,2:r,3:b], i, j, tipoCarga, node_i, node_j, F/L, [1:g,2:r,3:b], i, j, tipoCarga]\n",
    "cargasDistr = np.array([\n",
    "    [2, -0.4, -0.4, 1, 2, 0, 1, \"Dead\", -0.4, -0.4, 1, 2, 0, 1, \"Live\"],\n",
    "    [5, -0.4, -0.4, 1, 2, 0, 1, \"Dead\", -0.25, -0.25, 1, 2, 0, 1, \"Live\"],\n",
    "])\n",
    "\n",
    "nameModelProject = 'Marco de 2 Niveles Regular (2D)'\n",
    "# Coneccion: 1 para sap2000 y 2 para etabs\n",
    "connect_to = 1;\n",
    "\n",
    "# Variable para definir una instancia manual para el programa y definir la ruta.\n",
    "rutaEspecifica = False\n",
    "if rutaEspecifica:\n",
    "    ruta_app = \"C:\\\\Program Files\\\\Computers and Structures\\\\SAP2000 23\\\\SAP2000.exe\" if connect_to else \"C:\\\\Program Files\\\\Computers and Structures\\\\ETABS 21\\\\ETABS.exe\"\n",
    "else: \n",
    "    ruta_app = None"
   ]
  },
  {
   "cell_type": "markdown",
   "metadata": {},
   "source": [
    "### Ejemplo-02"
   ]
  },
  {
   "cell_type": "code",
   "execution_count": null,
   "metadata": {},
   "outputs": [],
   "source": []
  },
  {
   "cell_type": "markdown",
   "metadata": {},
   "source": [
    "## 3. Coneccion"
   ]
  },
  {
   "cell_type": "code",
   "execution_count": 53,
   "metadata": {},
   "outputs": [
    {
     "data": {
      "image/png": "[encoded data removed]",
      "text/plain": [
       "<Figure size 640x480 with 1 Axes>"
      ]
     },
     "metadata": {},
     "output_type": "display_data"
    }
   ],
   "source": [
    "from utilities.plotModel import plotModel2d, plotModel3d\n",
    "\n",
    "plotModel2d(coords, elems, nameModelProject)"
   ]
  },
  {
   "cell_type": "code",
   "execution_count": 54,
   "metadata": {},
   "outputs": [],
   "source": [
    "from utilities.connectcsi import ConnectCSiAPI"
   ]
  },
  {
   "cell_type": "code",
   "execution_count": 55,
   "metadata": {},
   "outputs": [
    {
     "name": "stdout",
     "output_type": "stream",
     "text": [
      "SAP2000\n",
      "Coneccion establecida para SAP2000!.\n"
     ]
    }
   ],
   "source": [
    "smodel, response = None, None\n",
    "\n",
    "connection = ConnectCSiAPI(connect_to)\n",
    "response, connect_to_app = connection.connect_default()"
   ]
  },
  {
   "cell_type": "code",
   "execution_count": 56,
   "metadata": {},
   "outputs": [],
   "source": [
    "connect_to_app.ApplicationStart()\n",
    "\n",
    "smodel = connect_to_app.SapModel"
   ]
  },
  {
   "cell_type": "markdown",
   "metadata": {},
   "source": [
    "## 4. Se crea un nuevo Lienzo y Modelo"
   ]
  },
  {
   "cell_type": "code",
   "execution_count": 57,
   "metadata": {},
   "outputs": [
    {
     "data": {
      "text/plain": [
       "0"
      ]
     },
     "execution_count": 57,
     "metadata": {},
     "output_type": "execute_result"
    }
   ],
   "source": [
    "smodel.SetModelIsLocked(False)"
   ]
  },
  {
   "cell_type": "code",
   "execution_count": 58,
   "metadata": {},
   "outputs": [
    {
     "name": "stdout",
     "output_type": "stream",
     "text": [
      "12\n"
     ]
    },
    {
     "data": {
      "text/plain": [
       "0"
      ]
     },
     "execution_count": 58,
     "metadata": {},
     "output_type": "execute_result"
    }
   ],
   "source": [
    "# ------------------- creacion de nuevo modelo ------------------\n",
    "\n",
    "# Se crea un nuevo lienzo\n",
    "# smodel.InitializeNewModel; # esto es valido tambien\n",
    "smodel.InitializeNewModel(Tonf_m_C)\n",
    "print(smodel.GetPresentUnits())\n",
    "\n",
    "if connect_to == 2:\n",
    "    # create grid-only template model | Crea una nueva hoja con grilla\n",
    "    response_status = smodel.File.NewGridOnly(3, 3*m,3*m, 5*m,4*m, 4*m,4*m)\n",
    "else:\n",
    "    response_status = smodel.File.NewBlank()\n",
    "\n",
    "response_status"
   ]
  },
  {
   "cell_type": "code",
   "execution_count": 59,
   "metadata": {},
   "outputs": [
    {
     "name": "stdout",
     "output_type": "stream",
     "text": [
      "6\n"
     ]
    }
   ],
   "source": [
    "# Unit Preferences | Preferencias de Sistema de Unidades\n",
    "# .... en la parte de unidades se define las medidadas ...\n",
    "smodel.SetPresentUnits(kN_m_C)\n",
    "\n",
    "# get present units | Optener la presente unidad(s)\n",
    "print(smodel.GetPresentUnits())"
   ]
  },
  {
   "cell_type": "code",
   "execution_count": 60,
   "metadata": {},
   "outputs": [],
   "source": [
    "smodel.View.RefreshView(0, False);"
   ]
  },
  {
   "cell_type": "markdown",
   "metadata": {},
   "source": [
    "## 5. Se establece las propiedades del concreto"
   ]
  },
  {
   "cell_type": "code",
   "execution_count": 61,
   "metadata": {},
   "outputs": [
    {
     "data": {
      "text/plain": [
       "0"
      ]
     },
     "metadata": {},
     "output_type": "display_data"
    }
   ],
   "source": [
    "# definicion del material\n",
    "response_status = smodel.PropMaterial.SetMaterial( material_name, material_type )\n",
    "# propiedades mecanicas del material\n",
    "response_status = smodel.PropMaterial.SetMPIsotropic( \n",
    "    material_name, \n",
    "    E, \n",
    "    v, \n",
    "    coeficienteTermico \n",
    "    )\n",
    "display(response_status)"
   ]
  },
  {
   "cell_type": "code",
   "execution_count": 62,
   "metadata": {},
   "outputs": [
    {
     "data": {
      "text/plain": [
       "0"
      ]
     },
     "metadata": {},
     "output_type": "display_data"
    }
   ],
   "source": [
    "# Secciones de viga y columna\n",
    "response_status = smodel.PropFrame.SetRectangle(beamName, material_name, secBeamb, secBeamh) # seccion para la viga\n",
    "response_status = smodel.PropFrame.SetRectangle(columnName, material_name, secColumnb, secColumnh) # seccion para la columna\n",
    "display(response_status)"
   ]
  },
  {
   "cell_type": "code",
   "execution_count": 63,
   "metadata": {},
   "outputs": [],
   "source": [
    "smodel.View.RefreshView(0, False);"
   ]
  },
  {
   "cell_type": "markdown",
   "metadata": {},
   "source": [
    "## 6. Geometria de la estructura"
   ]
  },
  {
   "cell_type": "code",
   "execution_count": 64,
   "metadata": {},
   "outputs": [
    {
     "data": {
      "text/plain": [
       "0"
      ]
     },
     "metadata": {},
     "output_type": "display_data"
    },
    {
     "data": {
      "text/plain": [
       "0"
      ]
     },
     "metadata": {},
     "output_type": "display_data"
    },
    {
     "data": {
      "text/plain": [
       "0"
      ]
     },
     "metadata": {},
     "output_type": "display_data"
    },
    {
     "data": {
      "text/plain": [
       "0"
      ]
     },
     "metadata": {},
     "output_type": "display_data"
    },
    {
     "data": {
      "text/plain": [
       "0"
      ]
     },
     "metadata": {},
     "output_type": "display_data"
    },
    {
     "data": {
      "text/plain": [
       "0"
      ]
     },
     "metadata": {},
     "output_type": "display_data"
    }
   ],
   "source": [
    "# 2da forma de ingreso\n",
    "FrameName1 = ''\n",
    "mbrName = ''\n",
    "for idx, mbr in enumerate(elems):\n",
    "    deNodo = int(mbr[0])\n",
    "    alNodo = int(mbr[1])\n",
    "    identificador = int(mbr[2]) # columna o viga\n",
    "    xi, yi, zi = coords[deNodo, 0], coords[deNodo, 1], coords[deNodo, 2]\n",
    "    xf, yf, zf = coords[alNodo, 0], coords[alNodo, 1], coords[alNodo, 2]\n",
    "    # columnas\n",
    "    if identificador == 1: mbrName = columnName\n",
    "    # vigas\n",
    "    elif identificador == 2: mbrName = beamName\n",
    "    else: pass\n",
    "    [FrameName1, response_status] = smodel.FrameObj.AddByCoord(\n",
    "        xi,yi,zi, xf,yf,zf, \"FrameName\"+str(idx+1), mbrName, str(idx+1), 'Global'\n",
    "        # xi,yi,zi, xf,yf,zf, str(idx+1), mbrName, str(idx+1), 'Global'\n",
    "    )\n",
    "    display(response_status)"
   ]
  },
  {
   "cell_type": "code",
   "execution_count": 65,
   "metadata": {},
   "outputs": [],
   "source": [
    "smodel.View.RefreshView(0, False);"
   ]
  },
  {
   "cell_type": "code",
   "execution_count": 66,
   "metadata": {},
   "outputs": [],
   "source": [
    "# frameName, point1, point2, ret = \"\", \"\", \"\", \"\"\n",
    "# [FrameName1, ret] = smodel.FrameObj.AddByCoord(0, 0, 0, 0, 0, 3, frameName);# True,\"Defualt\",\"\",\"Global\"\n",
    "# [FrameName1, ret] = smodel.FrameObj.AddByCoord(6, 0, 0, 6, 0, 3, frameName);\n",
    "# [FrameName1, ret] = smodel.FrameObj.AddByCoord(0, 0, 3, 6, 0, 3, frameName);\n",
    "\n",
    "# restr = [True, True, True, True, True, True];\n",
    "# smodel.Pointobj.SetRestraint(point1, restr);\n",
    "# smodel.Pointobj.SetRestraint(point2, restr);\n",
    "\n",
    "# lpName = \"Test\";\n",
    "# # 1 = Force per unit length\n",
    "# # 2 = Moment per unit length\n",
    "# # smodel.FrameObj.SetLoadDistributed(FrameName, \"DEAD\", 1, 10, 0.0, 1.0, 15.0, 5.0);\n",
    "# smodel.FrameObj.SetLoadDistributed(frameName, lpName, 1, 10, 0.0, 1.0, 15.0, 5.0);\n"
   ]
  },
  {
   "cell_type": "markdown",
   "metadata": {},
   "source": [
    "## 7. Restricciones o condiciones de borde (apoyos)"
   ]
  },
  {
   "cell_type": "code",
   "execution_count": 73,
   "metadata": {},
   "outputs": [
    {
     "name": "stdout",
     "output_type": "stream",
     "text": [
      "0 [(True, True, True, True, True, True), 0] ['FrameName1', [1, 1, 1, 1, 1, 1]]\n",
      "0 [(True, True, True, True, True, True), 0] ['FrameName2', [1, 1, 1, 1, 1, 1]]\n"
     ]
    }
   ],
   "source": [
    "nrestrict = apoyos.shape[0]\n",
    "node_i, node_j = ' ', ' '\n",
    "for node, restricts in enumerate(apoyos):\n",
    "    [node_i, node_j, response_status1] = smodel.FrameObj.GetPoints(\n",
    "        str(int(restricts[0])+1), \n",
    "        node_i, \n",
    "        node_j\n",
    "        )\n",
    "    response_status = smodel.Pointobj.SetRestraint(\n",
    "        node_i, \n",
    "        [*apoyos[node,1::].tolist()]\n",
    "        );\n",
    "    \n",
    "    print(response_status1, response_status, [\"FrameName\"+str(restricts[0]+1), apoyos[node,1::].tolist()])"
   ]
  },
  {
   "cell_type": "code",
   "execution_count": 74,
   "metadata": {},
   "outputs": [],
   "source": [
    "smodel.View.RefreshView(0, False);"
   ]
  },
  {
   "cell_type": "markdown",
   "metadata": {},
   "source": [
    "## 8. Se establece carga muertas y vivas (puntual, distribuida)"
   ]
  },
  {
   "cell_type": "markdown",
   "metadata": {},
   "source": [
    "8.1 establecemos las unidades de las cargas"
   ]
  },
  {
   "cell_type": "code",
   "execution_count": 75,
   "metadata": {},
   "outputs": [
    {
     "name": "stdout",
     "output_type": "stream",
     "text": [
      "6\n"
     ]
    }
   ],
   "source": [
    "smodel.SetPresentUnits(kN_m_C) # configuracion de unidades para la carga\n",
    "print(smodel.GetPresentUnits())"
   ]
  },
  {
   "cell_type": "markdown",
   "metadata": {},
   "source": [
    "8.2 patron de carga"
   ]
  },
  {
   "cell_type": "code",
   "execution_count": 94,
   "metadata": {},
   "outputs": [
    {
     "data": {
      "text/plain": [
       "1"
      ]
     },
     "execution_count": 94,
     "metadata": {},
     "output_type": "execute_result"
    }
   ],
   "source": [
    "# eLoadPatternType\n",
    "smodel.LoadPatterns.Add(NameLoadP, LTYPE, True) # patron para la cargas puntuales (Other=8)\n",
    "smodel.LoadPatterns.Add(LName, 3) # patron para la carga distribuida viva (Live=3)\n",
    "smodel.LoadPatterns.Add(DName, 1) # patron para la carga muerta (Dead=1)"
   ]
  },
  {
   "cell_type": "markdown",
   "metadata": {},
   "source": [
    "8.3 Asignamos la carga"
   ]
  },
  {
   "cell_type": "code",
   "execution_count": 95,
   "metadata": {},
   "outputs": [
    {
     "name": "stdout",
     "output_type": "stream",
     "text": [
      "[700.0, 0.0, 0.0, 0.0, 0.0, 0.0] estado = 0\n",
      "[1000.0, 0.0, 0.0, 0.0, 0.0, 0.0] estado = 0\n"
     ]
    }
   ],
   "source": [
    "#  --- cargas en nodos ---\n",
    "# altura_entrepiso = [2.5, 2.5, 3]\n",
    "# altura_acumulada = [sum(altura_entrepiso[:i]) for i in range(len(altura_entrepiso)+1)]\n",
    "# Colimna_i = [[(0,0,i), f'col_i_{i}'] for i in altura_acumulada]\n",
    "# for a,b in zip(Colimna_i, [0,5,10,12]):\n",
    "#     print(a[1])\n",
    "\n",
    "for _, carga_en_nudo in enumerate(cargasEnNodo):\n",
    "    PointName1 = int(carga_en_nudo[0])\n",
    "    node_load = carga_en_nudo[1:].tolist()\n",
    "    response = smodel.PointObj.SetLoadForce(\n",
    "        str(PointName1), \n",
    "        NameLoadP, \n",
    "        node_load\n",
    "        )\n",
    "    \n",
    "    print( f\"{node_load} estado = {response[1]}\" )"
   ]
  },
  {
   "cell_type": "code",
   "execution_count": 103,
   "metadata": {},
   "outputs": [
    {
     "name": "stdout",
     "output_type": "stream",
     "text": [
      "carga muerta: ['-0.4', '-0.4', '1', '2', '0', '1'], carga viva: ['-0.4', '-0.4', '1', '2', '0', '1']\n",
      "carga muerta: ['-0.4', '-0.4', '1', '2', '0', '1'], carga viva: ['-0.25', '-0.25', '1', '2', '0', '1']\n"
     ]
    }
   ],
   "source": [
    "# --- cargas viva y muerta ---\n",
    "FrameName4, FrameName5 = ' ',' '\n",
    "for _, carga in enumerate(cargasDistr):\n",
    "    PointName1 = int(carga[0])\n",
    "    cmuerta, cviva = carga[1:7].tolist(), carga[8:-1].tolist()\n",
    "    print(f\"carga muerta: {cmuerta}, carga viva: {cviva}\")\n",
    "    \n",
    "    # smodel.FrameObj.SetLoadPoint('carga_viva', 'LIVE', 1, 4, )\n",
    "    # response_status = smodel.FrameObj.SetLoadDistributed(FrameName4, \"Dead\", 1, 2, 0,1, -0.4, -0.4, \"Local\");\n",
    "    # response_status = smodel.FrameObj.SetLoadDistributed(FrameName5, \"Live\", 1, 2, 0,1, -0.25, -0.25, \"Local\");\n",
    "\n",
    "# response_status"
   ]
  },
  {
   "cell_type": "code",
   "execution_count": null,
   "metadata": {},
   "outputs": [],
   "source": [
    "# --- Cargas distribuidas ---\n"
   ]
  },
  {
   "cell_type": "markdown",
   "metadata": {},
   "source": [
    "## 8. Guardamos el modelo"
   ]
  },
  {
   "cell_type": "code",
   "execution_count": null,
   "metadata": {},
   "outputs": [],
   "source": [
    "# full path to the model, set it to the desired path of your model\n",
    "APIPath = 'C:\\\\CSi_API_Example'\n",
    "if not os.path.exists(APIPath):\n",
    "    try: os.makedirs(APIPath)\n",
    "    except OSError: pass\n",
    "ModelPath = APIPath + os.sep + 'Frame3D.edb'\n",
    "\n",
    "smodel.File.Save(ModelPath);"
   ]
  },
  {
   "cell_type": "markdown",
   "metadata": {},
   "source": [
    "## 9. Ejecutar analisis"
   ]
  },
  {
   "cell_type": "code",
   "execution_count": null,
   "metadata": {},
   "outputs": [],
   "source": [
    "# ------------------ Analisis y ejecucion del modelo -----------------\n",
    "# # una ves ejecutado una primera vez ya se peude \n",
    "# # comentar de la linia 26 a 56 y descomentar 60 a 63\n",
    "# smodel.SetModelIsLocked(false);\n",
    "# for i in range(3):\n",
    "#     smodel.FrameObj.SetEndLengthOffset(str(i), flase, 0.0, 0.0, 0.0);\n",
    "\n",
    "# 'run analysis\n",
    "smodel.Analyze.RunAnalysis();"
   ]
  },
  {
   "cell_type": "markdown",
   "metadata": {},
   "source": [
    "## 10. Mostramos los resultados y Cerramos la coneccion o la aplicacion"
   ]
  },
  {
   "cell_type": "code",
   "execution_count": null,
   "metadata": {},
   "outputs": [],
   "source": [
    "# 'deselect all cases and combos\n",
    "ret = smodel.Results.Setup.DeselectAllCasesAndCombosForOutput();\n",
    "# 'check if case is selected\n",
    "ret = smodel.Results.Setup.SetCaseSelectedForOutput(lpName);\n",
    "\n",
    "# 'get frame forces\n",
    "name=\"\"\n",
    "eItemElm = 0\n",
    "numberResults = 0;\n",
    "obj = [];\n",
    "objSta = [];\n",
    "elm = [];\n",
    "elmSta = [];\n",
    "loadCase = [];\n",
    "stepType = [];\n",
    "stepNum = [];\n",
    "p = [];\n",
    "v2 = [];\n",
    "v3 = [];\n",
    "t = [];\n",
    "m2 = [];\n",
    "m3 = [];\n",
    "[name, eItemElm, numberResults, \n",
    "    obj, objSta, elm, elmSta, loadCase, stepType, stepNum,\n",
    "    p, v2, v3, t, m2] = smodel.Results.FrameForce(\"All\", eItemElm, numberResults,\n",
    "    obj, objSta, elm, elmSta, loadCase, stepType, stepNum,\n",
    "    p, v2, v3, t, m2, m3);\n",
    "\n",
    "# \n",
    "print(\"Mesage de salida\\nmesnage1\\tmensage2\\tmensage3\");\n",
    "for i in range(ret[2]):\n",
    "    print(f\"{obj[i]}\\t{[i]}\\t{ret[15][i]}\");\n"
   ]
  },
  {
   "cell_type": "code",
   "execution_count": 104,
   "metadata": {},
   "outputs": [
    {
     "ename": "NameError",
     "evalue": "name 'connect_to_app' is not defined",
     "output_type": "error",
     "traceback": [
      "\u001b[1;31m---------------------------------------------------------------------------\u001b[0m",
      "\u001b[1;31mNameError\u001b[0m                                 Traceback (most recent call last)",
      "Cell \u001b[1;32mIn[104], line 2\u001b[0m\n\u001b[0;32m      1\u001b[0m \u001b[38;5;66;03m# Close the program | Cerrar la aplicacio\u001b[39;00m\n\u001b[1;32m----> 2\u001b[0m \u001b[38;5;28;01mif\u001b[39;00m(connect_to_app\u001b[38;5;241m.\u001b[39mApplicationExit(\u001b[38;5;28;01mFalse\u001b[39;00m)): \u001b[38;5;28mprint\u001b[39m(\u001b[38;5;124m\"\u001b[39m\u001b[38;5;124mNo se pudo cerrar la coneccion!\u001b[39m\u001b[38;5;124m\"\u001b[39m)\n\u001b[0;32m      3\u001b[0m \u001b[38;5;28;01melse\u001b[39;00m: \u001b[38;5;28mprint\u001b[39m(\u001b[38;5;124m\"\u001b[39m\u001b[38;5;124mSe cerro con exito.\u001b[39m\u001b[38;5;124m\"\u001b[39m)\n\u001b[0;32m      5\u001b[0m onnect_to_app, smodel \u001b[38;5;241m=\u001b[39m \u001b[38;5;28;01mNone\u001b[39;00m, \u001b[38;5;28;01mNone\u001b[39;00m\n",
      "\u001b[1;31mNameError\u001b[0m: name 'connect_to_app' is not defined"
     ]
    }
   ],
   "source": [
    "# Close the program | Cerrar la aplicacio\n",
    "if(connect_to_app.ApplicationExit(False)): print(\"No se pudo cerrar la coneccion!\")\n",
    "else: print(\"Se cerro con exito.\")\n",
    "    \n",
    "onnect_to_app, smodel = None, None\n",
    "del (connect_to_app, smodel)"
   ]
  }
 ],
 "metadata": {
  "kernelspec": {
   "display_name": "Python 3",
   "language": "python",
   "name": "python3"
  },
  "language_info": {
   "codemirror_mode": {
    "name": "ipython",
    "version": 3
   },
   "file_extension": ".py",
   "mimetype": "text/x-python",
   "name": "python",
   "nbconvert_exporter": "python",
   "pygments_lexer": "ipython3",
   "version": "3.12.7"
  }
 },
 "nbformat": 4,
 "nbformat_minor": 2
}
