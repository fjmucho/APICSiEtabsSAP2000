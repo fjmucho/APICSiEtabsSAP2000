{
 "cells": [
  {
   "cell_type": "markdown",
   "metadata": {},
   "source": []
  },
  {
   "cell_type": "code",
   "execution_count": null,
   "metadata": {},
   "outputs": [],
   "source": [
    "import os, sys\n",
    "import comtypes.client"
   ]
  },
  {
   "cell_type": "code",
   "execution_count": null,
   "metadata": {},
   "outputs": [],
   "source": [
    "# coords = np.array([]);\n",
    "# elems = np.array([]);\n",
    "# apoyos = np.array([]);\n",
    "# loads = \n",
    "\n",
    "# Coneccion: 1 para sap2000 y 2 para etabs\n",
    "connect_to = 2;\n",
    "# True: para anjuntar a etabs o sap200 en ejecucion.\n",
    "rutaEspecifica = False"
   ]
  },
  {
   "cell_type": "code",
   "execution_count": null,
   "metadata": {},
   "outputs": [],
   "source": [
    "smodel, ret = None, None\n",
    "conn = {};\n",
    "if connect_to: # SAP2000\n",
    "    conn = {\n",
    "        'app_ruta': \"C:\\\\Program Files\\\\Computers and Structures\\\\SAP2000 23\\\\SAP2000.exe\",\n",
    "        'app_adjunto': \"CSI.SAP2000.API.SapObject\",\n",
    "        'app_helper': 'SAP2000v1.Helper',\n",
    "        'app_helper_query': comtypes.gen.SAP2000v1.cHelper,\n",
    "        }\n",
    "elif (connect_to==2): # ETABS\n",
    "    conn = {\n",
    "        'app_ruta': \"C:\\\\Program Files\\\\Computers and Structures\\\\ETABS 21\\\\ETABS.exe\",\n",
    "        'app_adjunto': \"CSI.ETABS.API.ETABSObject\",\n",
    "        'app_helper': \"ETABSv1.Helper\",\n",
    "        'app_helper_query': comtypes.gen.ETABSv1.cHelper,\n",
    "        }\n",
    "else: \n",
    "    print(\"No tenemos soporte ...\")\n",
    "    sys.exit()\n",
    "\n",
    "try:\n",
    "    connect_to_app = comtypes.client.GetActiveObject(conn['app_adjunto'])\n",
    "    print(\"Coneccion exitosa!.\\nadjuntando a una instancia existente.\")\n",
    "except (OSError, comtypes.COMError):\n",
    "    print(\"No se encontró ninguna instancia en ejecución del programa(Etabs).\")\n",
    "\n",
    "    print(\"Tratando de Ejecutar etabs!.\")\n",
    "    #create API helper object\n",
    "    helper = comtypes.client.CreateObject(conn['app_helper'])\n",
    "    helper = helper.QueryInterface(conn['app_helper_query'])\n",
    "    # helper = comtypes.client.CreateObject(conn['app_helper']).QueryInterface(conn['app_helper_query'])\n",
    "    if rutaEspecifica: # para versiones anteriores a la ultima version instalada\n",
    "        ProgramPath = conn['app_ruta'];\n",
    "        try:\n",
    "            connect_to_app = helper.CreateObject(ProgramPath)\n",
    "            print(\"Coneccion establecida!.\\nConexion Manual\")\n",
    "        except (OSError, comtypes.COMError):\n",
    "            print(\"Cannot start a new instance of the program from \" + ProgramPath)\n",
    "            sys.exit(-1)\n",
    "    else:\n",
    "        try: \n",
    "            connect_to_app = helper.CreateObjectProgID(conn['app_adjunto']) \n",
    "            print(\"Coneccion establecida!.\")\n",
    "        except (OSError, comtypes.COMError):\n",
    "            print(\"Cannot start a new instance of the program.\")\n",
    "            sys.exit(-1)\n",
    "    print(\"Ejecutando etabs!.  ultima version instalada o existente\")\n",
    "    #start ETABS application | ejecutar la Aplicacion ETABS.\n",
    "    connect_to_app.ApplicationStart()\n",
    "\n",
    "smodel = connect_to_app.SapModel;"
   ]
  },
  {
   "cell_type": "markdown",
   "metadata": {},
   "source": [
    "## Creacion de nuevo modelo"
   ]
  },
  {
   "cell_type": "code",
   "execution_count": null,
   "metadata": {},
   "outputs": [],
   "source": [
    "# ------------------- creacion de nuevo modelo ------------------\n",
    "smodel.SetModelIsLocked(False)\n",
    "\n",
    "kN_m_C=6\n",
    "# string Name\n",
    "# eMatType MatType\n",
    "# int Color = -1\n",
    "# string Notes = \"\"\n",
    "# string GUID = \"\"\n",
    "# smodel.SetPresentUnits(kN_m_C)\n",
    "smodel.InitializeNewModel(kN_m_C)\n",
    "\n",
    "ret = smodel.File.NewBlank()\n",
    "ret"
   ]
  },
  {
   "cell_type": "code",
   "execution_count": null,
   "metadata": {},
   "outputs": [],
   "source": [
    "frameName = \"\"\n",
    "point1 = \"\"\n",
    "point2 = \"\"\n",
    "# ret = \"\"\n",
    "[FrameName1, ret] = smodel.FrameObj.AddByCoord(0, 0, 0, 0, 0, 3, frameName);# True,\"Defualt\",\"\",\"Global\"\n",
    "[FrameName1, ret] = smodel.FrameObj.AddByCoord(6, 0, 0, 6, 0, 3, frameName);\n",
    "[FrameName1, ret] = smodel.FrameObj.AddByCoord(0, 0, 3, 6, 0, 3, frameName);\n",
    "\n",
    "restr = [True, True, True, True, True, True];\n",
    "smodel.Pointobj.SetRestraint(point1, restr);\n",
    "smodel.Pointobj.SetRestraint(point2, restr);\n",
    "\n",
    "lpName = \"Test\";\n",
    "# 1 = Force per unit length\n",
    "# 2 = Moment per unit length\n",
    "# smodel.FrameObj.SetLoadDistributed(FrameName, \"DEAD\", 1, 10, 0.0, 1.0, 15.0, 5.0);\n",
    "smodel.FrameObj.SetLoadDistributed(frameName, lpName, 1, 10, 0.0, 1.0, 15.0, 5.0);\n",
    "\n",
    "smodel.View.RefreshView(0, False);\n",
    "\n",
    "# Save model\n",
    "#full path to the model, set it to the desired path of your model\n",
    "APIPath = 'C:\\\\CSi_API_Example'\n",
    "if not os.path.exists(APIPath):\n",
    "    try: os.makedirs(APIPath)\n",
    "    except OSError: pass\n",
    "ModelPath = APIPath + os.sep + 'Frame3D.edb'\n",
    "smodel.File.Save(ModelPath);"
   ]
  },
  {
   "cell_type": "code",
   "execution_count": null,
   "metadata": {},
   "outputs": [],
   "source": [
    "# ------------------ Analisis y ejecucion del modelo -----------------\n",
    "# # una ves ejecutado una primera vez ya se peude \n",
    "# # comentar de la linia 26 a 56 y descomentar 60 a 63\n",
    "# smodel.SetModelIsLocked(false);\n",
    "# for i in range(3):\n",
    "#     smodel.FrameObj.SetEndLengthOffset(str(i), flase, 0.0, 0.0, 0.0);\n",
    "\n",
    "# 'run analysis\n",
    "smodel.Analyze.RunAnalysis();"
   ]
  },
  {
   "cell_type": "code",
   "execution_count": null,
   "metadata": {},
   "outputs": [],
   "source": [
    "# 'deselect all cases and combos\n",
    "ret = smodel.Results.Setup.DeselectAllCasesAndCombosForOutput();\n",
    "# 'check if case is selected\n",
    "ret = smodel.Results.Setup.SetCaseSelectedForOutput(lpName);\n",
    "\n",
    "# 'get frame forces\n",
    "name=\"\"\n",
    "eItemElm = 0\n",
    "numberResults = 0;\n",
    "obj = [];\n",
    "objSta = [];\n",
    "elm = [];\n",
    "elmSta = [];\n",
    "loadCase = [];\n",
    "stepType = [];\n",
    "stepNum = [];\n",
    "p = [];\n",
    "v2 = [];\n",
    "v3 = [];\n",
    "t = [];\n",
    "m2 = [];\n",
    "m3 = [];\n",
    "[name, eItemElm, numberResults, \n",
    "    obj, objSta, elm, elmSta, loadCase, stepType, stepNum,\n",
    "    p, v2, v3, t, m2] = smodel.Results.FrameForce(\"All\", eItemElm, numberResults,\n",
    "    obj, objSta, elm, elmSta, loadCase, stepType, stepNum,\n",
    "    p, v2, v3, t, m2, m3);\n",
    "\n",
    "# \n",
    "print(\"Mesage de salida\\nmesnage1\\tmensage2\\tmensage3\");\n",
    "for i in range(ret[2]):\n",
    "    print(f\"{obj[i]}\\t{[i]}\\t{ret[15][i]}\");\n"
   ]
  },
  {
   "cell_type": "code",
   "execution_count": null,
   "metadata": {},
   "outputs": [],
   "source": [
    "# Close the program | Cerrar la aplicacio\n",
    "if(connect_to_app.ApplicationExit(False)): print(\"No se pudo cerrar la coneccion!\")\n",
    "else: print(\"Se cerro con exito.\")\n",
    "    \n",
    "onnect_to_app, smodel = None, None\n",
    "del (connect_to_app, smodel)"
   ]
  }
 ],
 "metadata": {
  "kernelspec": {
   "display_name": "Python 3",
   "language": "python",
   "name": "python3"
  },
  "language_info": {
   "codemirror_mode": {
    "name": "ipython",
    "version": 3
   },
   "file_extension": ".py",
   "mimetype": "text/x-python",
   "name": "python",
   "nbconvert_exporter": "python",
   "pygments_lexer": "ipython3",
   "version": "3.11.5"
  }
 },
 "nbformat": 4,
 "nbformat_minor": 2
}
