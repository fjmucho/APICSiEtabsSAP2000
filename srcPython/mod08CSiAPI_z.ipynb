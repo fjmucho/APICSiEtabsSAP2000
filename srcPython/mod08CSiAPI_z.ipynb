{
 "cells": [
  {
   "cell_type": "markdown",
   "metadata": {},
   "source": []
  },
  {
   "cell_type": "markdown",
   "metadata": {},
   "source": [
    "## Trabajo con reporte de datos de ETABS o SAP2000, ...\n",
    "\n",
    "Solicitar informacion a ETABS o SAP200 para filtrar y hacer reporte personalizado de `Datos`"
   ]
  },
  {
   "cell_type": "markdown",
   "metadata": {},
   "source": [
    "### 1. Dependecnias"
   ]
  },
  {
   "cell_type": "code",
   "execution_count": 1,
   "metadata": {},
   "outputs": [],
   "source": [
    "import numpy as np, pandas as pd\n",
    "import os, sys\n",
    "# from matplotlib import pyplot as plt\n",
    "import comtypes.client\n",
    "import ipywidgets as widgets"
   ]
  },
  {
   "cell_type": "markdown",
   "metadata": {},
   "source": [
    "<!-- ### 2. Importar la funcion o metodo para conectarnos y poder solicitar informacion -->\n",
    "### 2. Seleccion de la apliacion"
   ]
  },
  {
   "cell_type": "code",
   "execution_count": 2,
   "metadata": {},
   "outputs": [],
   "source": [
    "# from CSiAPI.ConnectCSiAPI import metodo\n",
    "# Indicar el programa a usar\n",
    "connect_to = 2; #1 para SAP2000 y 2 para ETABS\n",
    "\n",
    "connect_to_app, smodel = None, None"
   ]
  },
  {
   "cell_type": "code",
   "execution_count": null,
   "metadata": {},
   "outputs": [],
   "source": [
    "conn = {};\n",
    "if connect_to == 1:  # SAP2000\n",
    "    name_app = \"SAP2000\"\n",
    "    conn = {\n",
    "        'app_ruta': \"C:\\\\Program Files\\\\Computers and Structures\\\\SAP2000 23\\\\SAP2000.exe\",\n",
    "        'app_adjunto': \"CSI.SAP2000.API.SapObject\",\n",
    "        'app_helper': 'SAP2000v1.Helper'\n",
    "        }\n",
    "elif (connect_to == 2): # ETABS\n",
    "    name_app = \"ETABS\"\n",
    "    conn = {\n",
    "        'app_ruta': \"C:\\\\Program Files\\\\Computers and Structures\\\\ETABS 21\\\\ETABS.exe\",\n",
    "        'app_adjunto': \"CSI.ETABS.API.ETABSObject\",\n",
    "        'app_helper': \"ETABSv1.Helper\"\n",
    "        }\n",
    "else: \n",
    "    print(\"No tenemos soporte aun\")\n",
    "    sys.exit()"
   ]
  },
  {
   "cell_type": "code",
   "execution_count": null,
   "metadata": {},
   "outputs": [],
   "source": [
    "# match connect_to:\n",
    "#     case 1:\n",
    "#         name_app = \"SAP2000\"\n",
    "#         conn = {\n",
    "#             'app_ruta': \"C:\\\\Program Files\\\\Computers and Structures\\\\SAP2000 23\\\\SAP2000.exe\",\n",
    "#             'app_adjunto': \"CSI.SAP2000.API.SapObject\",\n",
    "#             'app_helper': 'SAP2000v1.Helper'\n",
    "#             }\n",
    "#     case 2:\n",
    "#         name_app = \"ETABS\"\n",
    "#         conn = {\n",
    "#             'app_ruta': \"C:\\\\Program Files\\\\Computers and Structures\\\\ETABS 21\\\\ETABS.exe\",\n",
    "#             'app_adjunto': \"CSI.ETABS.API.ETABSObject\",\n",
    "#             'app_helper': \"ETABSv1.Helper\"\n",
    "#             }"
   ]
  },
  {
   "cell_type": "markdown",
   "metadata": {},
   "source": [
    "### 3. Coneccion a la aplicacion"
   ]
  },
  {
   "cell_type": "markdown",
   "metadata": {},
   "source": [
    "**Primera forma**"
   ]
  },
  {
   "cell_type": "code",
   "execution_count": null,
   "metadata": {},
   "outputs": [],
   "source": [
    "try:\n",
    "    connect_to_app = comtypes.client.GetActiveObject(conn[\"app_adjunto\"])\n",
    "    print(f\"Instancia establecida (adjuntada) a {name_app}\")\n",
    "except (OSError, comtypes.COMError):\n",
    "    print(\"No running instance of the program found or failed to attach.\")\n",
    "    sys.exit(-1)"
   ]
  },
  {
   "cell_type": "markdown",
   "metadata": {},
   "source": [
    "**Segunda forma**"
   ]
  },
  {
   "cell_type": "code",
   "execution_count": null,
   "metadata": {},
   "outputs": [],
   "source": [
    "# helper = comtypes.client.CreateObject(conn[\"app_helper\"])\n",
    "# if connect_to == 1: \n",
    "#     helper = helper.QueryInterface(comtypes.gen.SAP2000v1.cHelper)\n",
    "# else: \n",
    "#     helper = helper.QueryInterface(comtypes.gen.ETABSv1.cHelper);\n",
    "# try:\n",
    "#     connect_to_app = helper.GetObject(conn[\"app_adjunto\"])\n",
    "#     print(f\"Instancia establecida (adjuntada) a {name_app}\")\n",
    "# except (OSError, comtypes.COMError):\n",
    "#     print(\"No running instance of the program found or failed to attach.\")\n",
    "#     sys.exit(-1)"
   ]
  },
  {
   "cell_type": "markdown",
   "metadata": {},
   "source": [
    "### 4. Se crea el objeto SapModel o instancia a la Clase"
   ]
  },
  {
   "cell_type": "code",
   "execution_count": null,
   "metadata": {},
   "outputs": [],
   "source": [
    "smodel = connect_to_app.SapModel;"
   ]
  },
  {
   "cell_type": "markdown",
   "metadata": {},
   "source": [
    "### 5. Se establece desbloqueo para ejecutar analisis."
   ]
  },
  {
   "cell_type": "code",
   "execution_count": null,
   "metadata": {},
   "outputs": [],
   "source": [
    "print(smodel.GetModelIsLocked()) # False\n",
    "\n",
    "smodel.SetModelIsLocked(False)"
   ]
  },
  {
   "cell_type": "markdown",
   "metadata": {},
   "source": [
    "### 6. Ejecucion del modelo"
   ]
  },
  {
   "cell_type": "code",
   "execution_count": null,
   "metadata": {},
   "outputs": [],
   "source": [
    "smodel.Analyze.RunAnalysis()"
   ]
  },
  {
   "cell_type": "markdown",
   "metadata": {},
   "source": [
    "### 7. Solicitud de informacion"
   ]
  },
  {
   "cell_type": "code",
   "execution_count": 11,
   "metadata": {},
   "outputs": [],
   "source": [
    "# def database(filtro):\n",
    "#     pass"
   ]
  },
  {
   "cell_type": "code",
   "execution_count": 2,
   "metadata": {},
   "outputs": [],
   "source": [
    "# radio_btn = widgets.RadioButtons(\n",
    "#     options=[('MODEL DEFINITION', 1), ('ANALYSIS RESULTS', 2), ('DESIGN DATA', 3)],\n",
    "#     value=1,\n",
    "#     description='Filtro:',\n",
    "#     disabled=False\n",
    "# )\n",
    "# widgets.interact(\n",
    "#     database,\n",
    "#     filtro=radio_btn, # Parmetro que se le envia\n",
    "#     value=2,\n",
    "#     # description='Filtro:'\n",
    "# )"
   ]
  },
  {
   "cell_type": "code",
   "execution_count": 1,
   "metadata": {},
   "outputs": [],
   "source": [
    "# accordion = widgets.Accordion(\n",
    "#     children=[\n",
    "#         widgets.IntSlider(), \n",
    "#         widgets.Text(),\n",
    "#         widgets.Text()\n",
    "#     ]\n",
    "# )\n",
    "# accordion.set_title(0, 'Slider')\n",
    "# accordion.set_title(1, 'Text')\n",
    "# accordion.set_title(2, 'otro')\n",
    "# # accordion\n",
    "\n",
    "# tab_nest = widgets.Tab()\n",
    "# tab_nest.children = [accordion]\n",
    "# tab_nest.set_title(0, 'An accordion')\n",
    "# # tab_nest.set_title(1, 'Copy of the accordion')\n",
    "# tab_nest"
   ]
  },
  {
   "cell_type": "code",
   "execution_count": null,
   "metadata": {},
   "outputs": [],
   "source": [
    "name_tbl = \"Modal Participating Mass Ratios\"\n",
    "data = smodel.DatabaseTables.GetTableForDisplayArray(name_tbl, GroupName=\"\")\n",
    "\n",
    "cols, no_of_rows = data[2], data[3]\n",
    "data_values = np.array_split(data[4], no_of_rows)\n",
    "df = pd.DataFrame(data_values)\n",
    "df.columns = cols\n",
    "df"
   ]
  },
  {
   "cell_type": "markdown",
   "metadata": {},
   "source": [
    "### Filtrado y tratamiento de datos"
   ]
  },
  {
   "cell_type": "code",
   "execution_count": null,
   "metadata": {},
   "outputs": [],
   "source": [
    "# df = df.drop(columns=[\"SumUZ\"])\n",
    "# df"
   ]
  },
  {
   "cell_type": "code",
   "execution_count": null,
   "metadata": {},
   "outputs": [],
   "source": [
    "df = df.drop(['UZ','SumUZ'], axis=1)\n",
    "df"
   ]
  },
  {
   "cell_type": "markdown",
   "metadata": {},
   "source": [
    "### Cerrar la coneccion y aplicacion"
   ]
  },
  {
   "cell_type": "code",
   "execution_count": null,
   "metadata": {},
   "outputs": [],
   "source": [
    "if (connect_to_app.ApplicationExit(False)): print(\"No se pudo cerrar\")\n",
    "else: print(\"Se cerro con exito.\")\n",
    "\n",
    "smodel, connect_to_app = None, None\n",
    "del smodel, connect_to_app\n",
    "exit(-1)"
   ]
  },
  {
   "cell_type": "markdown",
   "metadata": {},
   "source": [
    "## referencias.\n",
    "\n",
    "- [ipywidgets](https://ipywidgets.readthedocs.io/en/7.x/examples/Widget%20List.html)"
   ]
  }
 ],
 "metadata": {
  "kernelspec": {
   "display_name": "Python 3",
   "language": "python",
   "name": "python3"
  },
  "language_info": {
   "codemirror_mode": {
    "name": "ipython",
    "version": 3
   },
   "file_extension": ".py",
   "mimetype": "text/x-python",
   "name": "python",
   "nbconvert_exporter": "python",
   "pygments_lexer": "ipython3",
   "version": "3.11.5"
  }
 },
 "nbformat": 4,
 "nbformat_minor": 2
}
