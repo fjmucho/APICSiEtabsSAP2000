{
 "cells": [
  {
   "cell_type": "code",
   "execution_count": 1,
   "metadata": {},
   "outputs": [],
   "source": [
    "from utilities.G08_Modelo_ETABS import *"
   ]
  },
  {
   "cell_type": "code",
   "execution_count": 2,
   "metadata": {},
   "outputs": [
    {
     "ename": "AttributeError",
     "evalue": "'NoneType' object has no attribute 'SapModel'",
     "output_type": "error",
     "traceback": [
      "\u001b[1;31m---------------------------------------------------------------------------\u001b[0m",
      "\u001b[1;31mAttributeError\u001b[0m                            Traceback (most recent call last)",
      "Cell \u001b[1;32mIn[2], line 29\u001b[0m\n\u001b[0;32m     26\u001b[0m \u001b[38;5;28;01mif\u001b[39;00m Ipy \u001b[38;5;241m==\u001b[39m \u001b[38;5;241m1.00\u001b[39m \u001b[38;5;129;01mand\u001b[39;00m Iay \u001b[38;5;241m==\u001b[39m \u001b[38;5;241m1.00\u001b[39m: condicion_y \u001b[38;5;241m=\u001b[39m \u001b[38;5;124m'\u001b[39m\u001b[38;5;124mRegular\u001b[39m\u001b[38;5;124m'\u001b[39m\n\u001b[0;32m     27\u001b[0m \u001b[38;5;28;01melse\u001b[39;00m: condicion_y \u001b[38;5;241m=\u001b[39m \u001b[38;5;124m'\u001b[39m\u001b[38;5;124mIrregular\u001b[39m\u001b[38;5;124m'\u001b[39m\n\u001b[1;32m---> 29\u001b[0m x \u001b[38;5;241m=\u001b[39m \u001b[43mModelo_ETABS\u001b[49m\u001b[43m(\u001b[49m\n\u001b[0;32m     30\u001b[0m \u001b[43m    \u001b[49m\u001b[43munits\u001b[49m\u001b[43m,\u001b[49m\u001b[43m \u001b[49m\u001b[43mZ\u001b[49m\u001b[43m,\u001b[49m\u001b[43m \u001b[49m\u001b[43mU\u001b[49m\u001b[43m,\u001b[49m\u001b[43m \u001b[49m\u001b[43mS\u001b[49m\u001b[43m,\u001b[49m\u001b[43m \u001b[49m\n\u001b[0;32m     31\u001b[0m \u001b[43m    \u001b[49m\u001b[43mRx\u001b[49m\u001b[43m,\u001b[49m\u001b[43m \u001b[49m\u001b[43mRy\u001b[49m\u001b[43m,\u001b[49m\u001b[43m \u001b[49m\u001b[43mTp\u001b[49m\u001b[43m,\u001b[49m\u001b[43m \u001b[49m\u001b[43mTl\u001b[49m\u001b[43m,\u001b[49m\u001b[43m \u001b[49m\n\u001b[0;32m     32\u001b[0m \u001b[43m    \u001b[49m\u001b[43mcondicion_x\u001b[49m\u001b[43m,\u001b[49m\u001b[43m \u001b[49m\u001b[43mcondicion_y\u001b[49m\u001b[43m,\u001b[49m\u001b[43m \u001b[49m\n\u001b[0;32m     33\u001b[0m \u001b[43m    \u001b[49m\u001b[38;5;241;43m2\u001b[39;49m\n\u001b[0;32m     34\u001b[0m \u001b[43m    \u001b[49m\u001b[43m)\u001b[49m\n\u001b[0;32m     36\u001b[0m x\u001b[38;5;241m.\u001b[39mResponse_Spectrum(Tp, Tl)\n",
      "File \u001b[1;32md:\\Ciencias de Ing. Civil & Arquitectura\\F API-CSi&Autodesk&RFEM\\APICSiEtabsSAP2000\\srcPython\\utilities\\G08_Modelo_ETABS.py:19\u001b[0m, in \u001b[0;36mModelo_ETABS.__init__\u001b[1;34m(self, units, Z, U, S, Rx, Ry, Tp, Tl, condition_x, condition_y, app)\u001b[0m\n\u001b[0;32m     16\u001b[0m \u001b[38;5;28mself\u001b[39m\u001b[38;5;241m.\u001b[39mcondition_x \u001b[38;5;241m=\u001b[39m condition_x\n\u001b[0;32m     17\u001b[0m \u001b[38;5;28mself\u001b[39m\u001b[38;5;241m.\u001b[39mcondition_y \u001b[38;5;241m=\u001b[39m condition_y\n\u001b[1;32m---> 19\u001b[0m \u001b[38;5;28mself\u001b[39m\u001b[38;5;241m.\u001b[39mSapModel, \u001b[38;5;28mself\u001b[39m\u001b[38;5;241m.\u001b[39mETABSObject, \u001b[38;5;28mself\u001b[39m\u001b[38;5;241m.\u001b[39mhelper \u001b[38;5;241m=\u001b[39m \u001b[38;5;28;43mself\u001b[39;49m\u001b[38;5;241;43m.\u001b[39;49m\u001b[43mConnect_app\u001b[49m\u001b[43m(\u001b[49m\u001b[43mapp\u001b[49m\u001b[43m)\u001b[49m\n\u001b[0;32m     21\u001b[0m \u001b[38;5;28mself\u001b[39m\u001b[38;5;241m.\u001b[39mUnits(\u001b[38;5;28mself\u001b[39m\u001b[38;5;241m.\u001b[39munits)\n\u001b[0;32m     22\u001b[0m \u001b[38;5;28mself\u001b[39m\u001b[38;5;241m.\u001b[39mLoad_Combinations()\n",
      "File \u001b[1;32md:\\Ciencias de Ing. Civil & Arquitectura\\F API-CSi&Autodesk&RFEM\\APICSiEtabsSAP2000\\srcPython\\utilities\\G08_Modelo_ETABS.py:35\u001b[0m, in \u001b[0;36mModelo_ETABS.Connect_app\u001b[1;34m(self, connect_to)\u001b[0m\n\u001b[0;32m     32\u001b[0m CSiObject \u001b[38;5;241m=\u001b[39m helper\u001b[38;5;241m.\u001b[39mGetObject(\u001b[38;5;124m\"\u001b[39m\u001b[38;5;124mCSI.ETABS.API.ETABSObject\u001b[39m\u001b[38;5;124m\"\u001b[39m)\n\u001b[0;32m     33\u001b[0m \u001b[38;5;66;03m# CSiObject = helper.CreateObjectProgID(\"CSI.ETABS.API.ETABSObject\")\u001b[39;00m\n\u001b[0;32m     34\u001b[0m \u001b[38;5;66;03m# CSiObject.ApplicationStart()\u001b[39;00m\n\u001b[1;32m---> 35\u001b[0m SapModel \u001b[38;5;241m=\u001b[39m \u001b[43mCSiObject\u001b[49m\u001b[38;5;241;43m.\u001b[39;49m\u001b[43mSapModel\u001b[49m\n\u001b[0;32m     36\u001b[0m \u001b[38;5;28;01mreturn\u001b[39;00m SapModel, CSiObject, helper\n",
      "\u001b[1;31mAttributeError\u001b[0m: 'NoneType' object has no attribute 'SapModel'"
     ]
    }
   ],
   "source": [
    "units = 14    # kgf_cm_C\n",
    "\n",
    "# Definición de parámetros sísmicos\n",
    "\n",
    "Z = 0.45            # Factor de zonificación sísmica\n",
    "U = 1.00            # Factor de uso de importancia\n",
    "S = 1.20            # Factor de suelo\n",
    "Tp = 0.4            # Periodo que define la plataforma del factor C\n",
    "Tl = 2.5            # Periodo que define el inicio de la zona del factor C con desplazamiento constante\n",
    "\n",
    "# Direccion X\n",
    "Ipx = 1.00          # Factor de irregularidad en planta\n",
    "Iax = 1.00          # Factor de irregularidad en altura\n",
    "Rox = 8.00          # Coeficiente básico de reducción sísmica\n",
    "Rx = Rox*Iax*Ipx    # Coeficiente de reducción sísmica\n",
    "\n",
    "# Direccion Y\n",
    "Ipy = 1.00          # Factor de irregularidad en planta\n",
    "Iay = 1.00          # Factor de irregularidad en altura\n",
    "Roy = 8.00          # Coeficiente básico de reducción sísmica\n",
    "Ry = Roy*Iay*Ipy    # Coeficiente de reducción sísmica\n",
    "\n",
    "if Ipx == 1.00 and Iax == 1.00: condicion_x = 'Regular'\n",
    "else: condicion_x = 'Irregular'\n",
    "\n",
    "if Ipy == 1.00 and Iay == 1.00: condicion_y = 'Regular'\n",
    "else: condicion_y = 'Irregular'\n",
    "\n",
    "x = Modelo_ETABS(\n",
    "    units, Z, U, S, \n",
    "    Rx, Ry, Tp, Tl, \n",
    "    condicion_x, condicion_y, \n",
    "    2\n",
    "    )\n",
    "\n",
    "x.Response_Spectrum(Tp, Tl)"
   ]
  },
  {
   "cell_type": "code",
   "execution_count": null,
   "metadata": {},
   "outputs": [],
   "source": [
    "# # Close the program | Cerrar la aplicacio\n",
    "# if(connect_to_app.ApplicationExit(False)): print(\"No se pudo cerrar la coneccion!\")\n",
    "# else: print(\"Se cerro con exito.\")\n",
    "    \n",
    "# onnect_to_app, smodel = None, None\n",
    "# del (connect_to_app, smodel)"
   ]
  },
  {
   "cell_type": "markdown",
   "metadata": {},
   "source": [
    "https://youtu.be/HpJJ5q1QtME"
   ]
  },
  {
   "cell_type": "markdown",
   "metadata": {},
   "source": []
  }
 ],
 "metadata": {
  "kernelspec": {
   "display_name": "Python 3",
   "language": "python",
   "name": "python3"
  },
  "language_info": {
   "codemirror_mode": {
    "name": "ipython",
    "version": 3
   },
   "file_extension": ".py",
   "mimetype": "text/x-python",
   "name": "python",
   "nbconvert_exporter": "python",
   "pygments_lexer": "ipython3",
   "version": "3.12.7"
  }
 },
 "nbformat": 4,
 "nbformat_minor": 2
}
