{
 "cells": [
  {
   "cell_type": "markdown",
   "metadata": {},
   "source": [
    "\n",
    "<div>\n",
    "    <h1 align=center style=\"font-size: 12; font-weight: 900; \">--- 3 ---<h1>\n",
    "    <h2 align=center>CSiAPI - ETABS y SAP200</h2>\n",
    "    <!-- <p><strong></strong</p> -->\n",
    "    <p align=\"center\"><font color = orange >Bach. Ing. Francisco Jimenez Mucho (fjmucho0@gmail.com)</font></p> \n",
    "    <p align=\"center\"><font color = green >2022</font></p> \n",
    "</div>\n",
    "\n",
    "---"
   ]
  },
  {
   "cell_type": "markdown",
   "metadata": {},
   "source": [
    "# Código parametrico para estructuras tipo cercha o Armadura"
   ]
  },
  {
   "cell_type": "code",
   "execution_count": 238,
   "metadata": {},
   "outputs": [],
   "source": [
    "# !pip install comtypes numpy"
   ]
  },
  {
   "cell_type": "code",
   "execution_count": 239,
   "metadata": {},
   "outputs": [],
   "source": [
    "import os, sys, numpy as np\n",
    "import comtypes.client"
   ]
  },
  {
   "cell_type": "markdown",
   "metadata": {},
   "source": [
    "## 1. Uso de sistema de Unidades"
   ]
  },
  {
   "cell_type": "code",
   "execution_count": 240,
   "metadata": {},
   "outputs": [],
   "source": [
    "# Unidades Base mks\n",
    "m = 1\n",
    "kg = 1\n",
    "s = 1\n",
    "\n",
    "# Otras Unidades\n",
    "cm = 0.01*m\n",
    "kgf = 9.80665*kg*m/s**2\n",
    "tonf = 1000*kgf\n",
    "\n",
    "# Constantes Físicas\n",
    "g = 9.80665*m/s**2\n",
    "\n",
    "# configuraciones de unidades\n",
    "kip_in_F = 3\n",
    "kN_m_C = 6\n",
    "kgf_m_C = 8\n",
    "Tonf_m_C = 12"
   ]
  },
  {
   "cell_type": "markdown",
   "metadata": {},
   "source": [
    "## 2. Propiedades, materiales y geometria o modelo"
   ]
  },
  {
   "cell_type": "markdown",
   "metadata": {},
   "source": [
    "- Ejemplos extraidos del Articulo http://dx.doi.org/10.1016/j.eswa.2015.04.072"
   ]
  },
  {
   "cell_type": "markdown",
   "metadata": {},
   "source": [
    "### Ejemplo-01"
   ]
  },
  {
   "cell_type": "markdown",
   "metadata": {},
   "source": [
    "<center>\n",
    "<img src=\"./images/truss-e1.png\" alt=\"\" width=\"50%\" />\n",
    "</center>"
   ]
  },
  {
   "cell_type": "code",
   "execution_count": 241,
   "metadata": {},
   "outputs": [],
   "source": [
    "# E = 1e4 #* (ksi)\n",
    "# v = 0.3\n",
    "# G = 0.5 *E / (1+v) # Shear modulus [kgf/cm**2]\n",
    "# coeficienteTermico = 7.85e-9\n",
    "\n",
    "# material_type = 1;\n",
    "# material_name = f'STEEL';\n",
    "\n",
    "# my_type_section = 'general'\n",
    "# # --- parametros para una secciones general de tipo truss de fierro o acero\n",
    "# Name = \"truss\"\n",
    "# MatProp = material_name # The name of the material property for the section.\n",
    "# t3 = 0.001 # The section depth. [L]\n",
    "# t2 = 0.001 # The section width. [L]\n",
    "# area = 0.111 # The cross-sectional area. [L2], [in^2]\n",
    "# As2 = 0.111 # The shear area for forces in the section local 2-axis direction. [L2]\n",
    "# As3 = 0.111 # The shear area for forces in the section local 3-axis direction. [L2]\n",
    "# Torsion = 1e-6 # The torsional constant. [L4]\n",
    "# I22 = 1e-6 # The moment of inertia for bending about the local 2 axis. [L4]\n",
    "# I33 = 1e-6 # The moment of inertia for bending about the local 3 axis. [L4]\n",
    "# S22 = 1e-6 # The section modulus for bending about the local 2 axis. [L3]\n",
    "# S33 = 1e-6 # The section modulus for bending about the local 3 axis. [L3]\n",
    "# Z22 = 1e-6 # The plastic modulus for bending about the local 2 axis. [L3]\n",
    "# Z33 = 1e-6 # The plastic modulus for bending about the local 3 axis. [L3]\n",
    "# R22 = 1e-6 # The radius of gyration about the local 2 axis. [L]\n",
    "# R33 = 1e-6 # The radius of gyration about the local 3 axis. [L]\n",
    "# # Opcionales\n",
    "# Color = -1\n",
    "# Notes = \"\"\n",
    "# GUID = \"\"\n",
    "\n",
    "# #  coordenadas : coords[x, y, z], se va graficar en el plano XZ \n",
    "# coords = [\n",
    "#     (0.0, 0.0, 120.0 ),\n",
    "#     (120.0, 0.0, 120.0 ),\n",
    "#     (240.0, 0.0, 120.0 ),\n",
    "#     (360.0, 0.0, 120.0 ),\n",
    "#     (0.0, 0.0, 0.0 ),\n",
    "#     (120.0, 0.0, 0.0 ),\n",
    "#     (240.0, 0.0, 0.0 ),\n",
    "#     (360.0, 0.0, 0.0 ),\n",
    "# ];\n",
    "\n",
    "# elems = [\n",
    "#     (0, 1), # elemento 0\n",
    "#     (1, 2), # elemento 1\n",
    "#     (2, 3), # elemento 2\n",
    "#     (4, 5), # elemento 3\n",
    "#     (5, 6), # elemento 4\n",
    "#     (6, 7), # elemento 5\n",
    "#     (5, 1), # elemento 6\n",
    "#     (6, 2), # elemento 7\n",
    "#     (7, 3), # elemento 8\n",
    "#     (0, 5), # elemento 9\n",
    "#     (4, 1), # elemento 10\n",
    "#     (1, 6), # elemento 11\n",
    "#     (5, 2), # elemento 12\n",
    "#     (2, 7), # elemento 13\n",
    "#     (6, 3), # elemento 14\n",
    "# ];\n",
    "# # reles | Releases, deshabilitar los grados de libertad\n",
    "# restraint_ij_start_end = np.array([\n",
    "#     [False, False, 0.0, 0.0], # Axial Load\n",
    "#     [False, False, 0.0, 0.0], # Shear Force 2 (Major)\n",
    "#     [False, False, 0.0, 0.0], # Shear Force 3 (Minor)\n",
    "#     [False, False, 0.0, 0.0], # Torsion\n",
    "#     [False, False, 0.0, 0.0], # Moment 22 (Minor)\n",
    "#     [True, True, 0.0, 0.0], # Moment 33 (Major)\n",
    "# ]);\n",
    "\n",
    "# apoyos = np.array([\n",
    "#     [1, True, True, True, False, False, False],\n",
    "#     [5, True, True, True, False, False, False],\n",
    "# ]);\n",
    "\n",
    "# # cargas puntual\n",
    "# NamePattern = \"CargaPuntual\"\n",
    "# #   cargaPuntual[idNodo, Fx, Fy, Fz, Rx, Ry, Rz]\n",
    "# LTYPE = 8 # LTYPE_OTHER=8\n",
    "# cargaPuntuales = np.array([\n",
    "#     [7, 0.0, 0.0, -10.0, 0.0, 0.0, 0.0],\n",
    "# ])\n",
    "\n",
    "# nameModelProject = 'Ejemplo academico de Cercha (2D)'\n",
    "# # Coneccion: 1 para sap2000 y 2 para etabs\n",
    "# connect_to = 1;\n",
    "\n",
    "# # # Variable para definir una instancia manual para el programa y definir la ruta.\n",
    "# # rutaEspecifica = False\n",
    "# # path_sap200 = \"C:\\\\Program Files\\\\Computers and Structures\\\\SAP2000 23\\\\SAP2000.exe\"\n",
    "# # path_etabs =  \"C:\\\\Program Files\\\\Computers and Structures\\\\ETABS 20\\\\ETABS.exe\""
   ]
  },
  {
   "cell_type": "markdown",
   "metadata": {},
   "source": [
    "### Ejemplo-02"
   ]
  },
  {
   "cell_type": "markdown",
   "metadata": {},
   "source": [
    "<center>\n",
    "<img src=\"./images/truss-e1-3d.png\" alt=\"\" width=\"50%\" />\n",
    "</center>"
   ]
  },
  {
   "cell_type": "code",
   "execution_count": 242,
   "metadata": {},
   "outputs": [],
   "source": [
    "E = 1e4 #* (ksi)\n",
    "v = 0.2\n",
    "# G = 0.5 *E / (1+v) # Shear modulus [kgf/cm**2]\n",
    "coeficienteTermico = 0.0000055\n",
    "area = (0.111)**(0.5)\n",
    "\n",
    "Name = \"truss\"\n",
    "material_type = 1; # MATERIAL_CONCRETE = 1\n",
    "material_name = 'OTROS';\n",
    "\n",
    "# --- parametros para una secciones general de tipo truss de fierro o acero\n",
    "my_type_section = 'rectangular'\n",
    "section_name = 'R1';\n",
    "\n",
    "#  coordenadas : coords[x, y, z], se va graficar en el plano XZ \n",
    "coords = [\n",
    "    (-37.5, 0.0, 200.0),\n",
    "    (37.5, 0.0, 200.0),\n",
    "    (-37.5, 37.5, 100.0),\n",
    "    (37.5, 37.5, 100.0),\n",
    "    (37.5, -37.5, 100.0),\n",
    "    (-37.5, -37.5, 100.0),\n",
    "    (-100.0, 100.0, 0.0),\n",
    "    (100.0, 100.0, 0.0),\n",
    "    (100.0, -100.0, 0.0),\n",
    "    (-100.0, -100.0, 0.0)\n",
    "];\n",
    "\n",
    "elems = [\n",
    "    [0,1], # elemento 1\n",
    "    [3,2], # elemento 2\n",
    "    [2,1], # elemento 3\n",
    "    [4,0], # elemento 4\n",
    "    [5,1], # elemento 5\n",
    "    [3,1], # elemento 6\n",
    "    [4,1], # elemento 7\n",
    "    [2,0], # elemento 8\n",
    "    [5,0], # elemento 9\n",
    "    [5,2], # elemento 10\n",
    "    [4,3], # elemento 11\n",
    "    [2,3], # elemento 12\n",
    "    [5,4], # elemento 13\n",
    "    [9,2], # elemento 14\n",
    "    [6,5], # elemento 15\n",
    "    [8,3], # elemento 16\n",
    "    [7,4], # elemento 17\n",
    "    [6,3], # elemento 18\n",
    "    [7,2], # elemento 19\n",
    "    [9,4], # elemento 20\n",
    "    [8,5], # elemento 21\n",
    "    [9,5], # elemento 22\n",
    "    [6,2], # elemento 23\n",
    "    [7,3], # elemento 24\n",
    "    [8,4], # elemento 25\n",
    "];\n",
    "# reles | Releases, deshabilitar los grados de libertad\n",
    "restraint_ij_start_end = np.array([\n",
    "    [True, True, 0, 0], # Axial Load\n",
    "    [True, True, 0, 0], # Shear Force 2 (Major)\n",
    "    [False, False, 0, 0], # Shear Force 2 (Minor)\n",
    "    [False, False, 0, 0], # Torsion\n",
    "    [False, False, 0, 0], # Moment 22 (Minor)\n",
    "    [False, False, 0, 0] # Moment 33 (Major)\n",
    "]);\n",
    "\n",
    "# Restricciones | restraints\n",
    "apoyos = np.array([\n",
    "    [7, True, True, True, True, False, False],\n",
    "    [8, True, True, True, True, False, False],\n",
    "    [9, True, True, True, True, False, False],\n",
    "    [10, True, True, True, True, False, False]\n",
    "]);\n",
    "\n",
    "# cargas puntual | LoadPoint\n",
    "NamePattern = \"CargaPuntual\"\n",
    "LTYPE = 8 # LTYPE_OTHER=8\n",
    "#   cargaPuntual[idNodo, Fx, Fy, Fz, Rx, Ry, Rz]\n",
    "cargaPuntuales = np.array([\n",
    "    [1, 1.0, -10.0, -10.0, 0.0, 0.0, 0.0],\n",
    "    [2, 0.0, -10.0, -10.0, 0.0, 0.0, 0.0],\n",
    "    [3, 0.5, 0.0, 0.0, 0.0, 0.0, 0.0],\n",
    "    [6, 0.6, 0.0, 0.0, 0.0, 0.0, 0.0],\n",
    "])\n",
    "\n",
    "nameModelProject = 'Ejemplo academico de Cercha (3D)'\n",
    "# Coneccion: 1 para sap2000 y 2 para etabs\n",
    "connect_to = 1;\n",
    "\n",
    "# # Variable para definir una instancia manual para el programa y definir la ruta.\n",
    "# rutaEspecifica = False\n",
    "# path_sap200 = \"C:\\\\Program Files\\\\Computers and Structures\\\\SAP2000 23\\\\SAP2000.exe\"\n",
    "# path_etabs =  \"C:\\\\Program Files\\\\Computers and Structures\\\\ETABS 20\\\\ETABS.exe\""
   ]
  },
  {
   "cell_type": "markdown",
   "metadata": {},
   "source": [
    "## 3. Coneccion"
   ]
  },
  {
   "cell_type": "code",
   "execution_count": 243,
   "metadata": {},
   "outputs": [
    {
     "data": {
      "image/png": "[encoded data removed]",
      "text/plain": [
       "<Figure size 640x480 with 1 Axes>"
      ]
     },
     "metadata": {},
     "output_type": "display_data"
    }
   ],
   "source": [
    "from utilities.plotModel import plotModel2d, plotModel3d\n",
    "\n",
    "plotModel2d(coords, elems, nameModelProject)"
   ]
  },
  {
   "cell_type": "code",
   "execution_count": 244,
   "metadata": {},
   "outputs": [],
   "source": [
    "from utilities.connectcsi import ConnectCSiAPI"
   ]
  },
  {
   "cell_type": "markdown",
   "metadata": {},
   "source": [
    "Coneccion por defecto o uso de una version mas reciente instalada."
   ]
  },
  {
   "cell_type": "code",
   "execution_count": 245,
   "metadata": {},
   "outputs": [
    {
     "name": "stdout",
     "output_type": "stream",
     "text": [
      "SAP2000\n",
      "Coneccion establecida para SAP2000!.\n"
     ]
    },
    {
     "data": {
      "text/plain": [
       "True"
      ]
     },
     "execution_count": 245,
     "metadata": {},
     "output_type": "execute_result"
    }
   ],
   "source": [
    "smodel, response = None, None\n",
    "\n",
    "connection = ConnectCSiAPI(connect_to)\n",
    "response, connect_to_app = connection.connect_default()\n",
    "response"
   ]
  },
  {
   "cell_type": "markdown",
   "metadata": {},
   "source": [
    "Instancia a una aplicacion en especifico bajo ruta"
   ]
  },
  {
   "cell_type": "code",
   "execution_count": 246,
   "metadata": {},
   "outputs": [],
   "source": [
    "# if rutaEspecifica: \n",
    "#     ruta_programa = path_sap200 if (connect_to==1) else path_etabs\n",
    "# response, connect_to_app = connection.connect_manually(ruta_programa)"
   ]
  },
  {
   "cell_type": "markdown",
   "metadata": {},
   "source": [
    "Abrir o ejecutar la aplicacion"
   ]
  },
  {
   "cell_type": "code",
   "execution_count": 247,
   "metadata": {},
   "outputs": [
    {
     "data": {
      "text/plain": [
       "<POINTER(cSapModel) ptr=0x1dafa10dfa0 at 1daf99ba6d0>"
      ]
     },
     "execution_count": 247,
     "metadata": {},
     "output_type": "execute_result"
    }
   ],
   "source": [
    "connect_to_app.ApplicationStart()\n",
    "\n",
    "smodel = connect_to_app.SapModel\n",
    "smodel"
   ]
  },
  {
   "cell_type": "markdown",
   "metadata": {},
   "source": [
    "## 4. Se crea un nuevo Lienzo y Modelo"
   ]
  },
  {
   "cell_type": "code",
   "execution_count": 248,
   "metadata": {},
   "outputs": [],
   "source": [
    "# smodel.SetModelIsLocked(False)"
   ]
  },
  {
   "cell_type": "code",
   "execution_count": 249,
   "metadata": {},
   "outputs": [
    {
     "data": {
      "text/plain": [
       "0"
      ]
     },
     "execution_count": 249,
     "metadata": {},
     "output_type": "execute_result"
    }
   ],
   "source": [
    "# ------------------- creacion de nuevo modelo ------------------\n",
    "\n",
    "# .... se puede definir antes o en la parte de unidades se define las medidadas ...\n",
    "# Se crea un nuevo lienzo\n",
    "# smodel.InitializeNewModel; # esto es valido tambien\n",
    "smodel.InitializeNewModel(kip_in_F)\n",
    "\n",
    "response = smodel.File.NewBlank()\n",
    "\n",
    "response"
   ]
  },
  {
   "cell_type": "code",
   "execution_count": 250,
   "metadata": {},
   "outputs": [
    {
     "name": "stdout",
     "output_type": "stream",
     "text": [
      "3\n"
     ]
    }
   ],
   "source": [
    "# # Unit Preferences | Preferencias de Sistema de Unidades\n",
    "# smodel.SetPresentUnits(kip_in_F)\n",
    "\n",
    "# get present units | Optener la presente unidad(s)\n",
    "print(smodel.GetPresentUnits())"
   ]
  },
  {
   "cell_type": "code",
   "execution_count": 251,
   "metadata": {},
   "outputs": [],
   "source": [
    "smodel.View.RefreshView(0, False);"
   ]
  },
  {
   "cell_type": "markdown",
   "metadata": {},
   "source": [
    "## 5. Se establece las propiedades"
   ]
  },
  {
   "cell_type": "markdown",
   "metadata": {},
   "source": [
    "### 5.1 Para el concreto (concrete) o el fierro (Steel)"
   ]
  },
  {
   "cell_type": "code",
   "execution_count": 252,
   "metadata": {},
   "outputs": [
    {
     "data": {
      "text/plain": [
       "0"
      ]
     },
     "metadata": {},
     "output_type": "display_data"
    },
    {
     "data": {
      "text/plain": [
       "0"
      ]
     },
     "execution_count": 252,
     "metadata": {},
     "output_type": "execute_result"
    }
   ],
   "source": [
    "# definicion del material\n",
    "response = smodel.PropMaterial.SetMaterial( material_name, material_type )\n",
    "display(response)\n",
    "\n",
    "# propiedades mecanicas del material\n",
    "response = smodel.PropMaterial.SetMPIsotropic( \n",
    "    material_name, \n",
    "    E, \n",
    "    v, \n",
    "    coeficienteTermico \n",
    "    )\n",
    "response"
   ]
  },
  {
   "cell_type": "markdown",
   "metadata": {},
   "source": [
    "Tipo de seccion"
   ]
  },
  {
   "cell_type": "code",
   "execution_count": 253,
   "metadata": {},
   "outputs": [
    {
     "data": {
      "text/plain": [
       "[(1.0, 1.0, 1.0, 1.0, 1.0, 1.0, 1.0, 1.0), 0]"
      ]
     },
     "execution_count": 253,
     "metadata": {},
     "output_type": "execute_result"
    }
   ],
   "source": [
    "# --- Seccion rectangular ---\n",
    "if my_type_section == 'rectangular':\n",
    "    # Secciones de viga y columna\n",
    "    response = smodel.PropFrame.SetRectangle(section_name, material_name, area, area) # seccion para la viga\n",
    "    ModValue = [1, 1, 1, 1, 1, 1, 1, 1]\n",
    "    response = smodel.PropFrame.SetModifiers(section_name, ModValue)\n",
    "\n",
    "# --- Seccion general ---\n",
    "if my_type_section == 'general':\n",
    "    response = smodel.PropFrame.SetGeneral(\n",
    "        Name, MatProp, \n",
    "        t3, t2, area, As2, As3, Torsion, \n",
    "        I22, I33, S22, S33, Z22, Z33, R22, R33, \n",
    "        Color, Notes, GUID\n",
    "        )\n",
    "response"
   ]
  },
  {
   "cell_type": "markdown",
   "metadata": {},
   "source": [
    "## 6. Geometria de la estructura"
   ]
  },
  {
   "cell_type": "markdown",
   "metadata": {},
   "source": [
    "### 6.1 Coordenadas"
   ]
  },
  {
   "cell_type": "code",
   "execution_count": 255,
   "metadata": {},
   "outputs": [
    {
     "name": "stdout",
     "output_type": "stream",
     "text": [
      "Coordenada 1:  (-37.5, 0.0, 200.0): 0\n",
      "Coordenada 2:  (37.5, 0.0, 200.0): 0\n",
      "Coordenada 3:  (-37.5, 37.5, 100.0): 0\n",
      "Coordenada 4:  (37.5, 37.5, 100.0): 0\n",
      "Coordenada 5:  (37.5, -37.5, 100.0): 0\n",
      "Coordenada 6:  (-37.5, -37.5, 100.0): 0\n",
      "Coordenada 7:  (-100.0, 100.0, 0.0): 0\n",
      "Coordenada 8:  (100.0, 100.0, 0.0): 0\n",
      "Coordenada 9:  (100.0, -100.0, 0.0): 0\n",
      "Coordenada 10:  (-100.0, -100.0, 0.0): 0\n"
     ]
    }
   ],
   "source": [
    "for idx, coord in enumerate(coords):\n",
    "    response = smodel.PointObj.AddCartesian(coord[0], coord[1], coord[2], str(idx))\n",
    "    print(f\"Coordenada {idx+1}:  {coord}: {response[1]}\")"
   ]
  },
  {
   "cell_type": "markdown",
   "metadata": {},
   "source": [
    "### 6.2 Elementos"
   ]
  },
  {
   "cell_type": "code",
   "execution_count": null,
   "metadata": {},
   "outputs": [
    {
     "name": "stdout",
     "output_type": "stream",
     "text": [
      " Elemento 1: 0 a 1\n",
      " Elemento 2: 3 a 2\n",
      " Elemento 3: 2 a 1\n",
      " Elemento 4: 4 a 0\n",
      " Elemento 5: 5 a 1\n",
      " Elemento 6: 3 a 1\n",
      " Elemento 7: 4 a 1\n",
      " Elemento 8: 2 a 0\n",
      " Elemento 9: 5 a 0\n",
      " Elemento 10: 5 a 2\n",
      " Elemento 11: 4 a 3\n",
      " Elemento 12: 2 a 3\n",
      " Elemento 13: 5 a 4\n",
      " Elemento 14: 9 a 2\n",
      " Elemento 15: 6 a 5\n",
      " Elemento 16: 8 a 3\n",
      " Elemento 17: 7 a 4\n",
      " Elemento 18: 6 a 3\n",
      " Elemento 19: 7 a 2\n",
      " Elemento 20: 9 a 4\n",
      " Elemento 21: 8 a 5\n",
      " Elemento 22: 9 a 5\n",
      " Elemento 23: 6 a 2\n",
      " Elemento 24: 7 a 3\n",
      " Elemento 25: 8 a 4\n"
     ]
    }
   ],
   "source": [
    "for idx, mbr in enumerate(elems, start=1):\n",
    "    smodel.FrameObj.AddByPoint(\n",
    "        str(mbr[0]+1), \n",
    "        str(mbr[1]+1),  \n",
    "        Name+str(idx), \n",
    "        material_name,\n",
    "    )\n",
    "\n",
    "    # Reliase[Axial Load, Shear Force 2 (major), Shear Force 3 (Minor), Torsion, Moment 22 (Minor), Moment 33 (Major)] \n",
    "    release_i = restraint_ij_start_end[:,0].astype(bool).tolist()\n",
    "    release_j = restraint_ij_start_end[:,1].astype(bool).tolist()\n",
    "    release_values_i = restraint_ij_start_end[:,2].tolist() # kip-in/rad\n",
    "    release_values_j = restraint_ij_start_end[:,3].tolist() # kip-in/rad\n",
    "    smodel.FrameObj.SetReleases(\n",
    "        str(idx), \n",
    "        release_i, \n",
    "        release_j, \n",
    "        release_values_i, \n",
    "        release_values_j\n",
    "    )\n",
    "    \n",
    "    print(f\" Elemento {idx}: {mbr[0]} a {mbr[1]}\")\n",
    "    # print(release_values_i)\n",
    "\n",
    "smodel.View.RefreshView(0, False);"
   ]
  },
  {
   "cell_type": "markdown",
   "metadata": {},
   "source": [
    "### 6.3 Restricciones o condiciones de borde (apoyos)"
   ]
  },
  {
   "cell_type": "code",
   "execution_count": 257,
   "metadata": {},
   "outputs": [
    {
     "name": "stdout",
     "output_type": "stream",
     "text": [
      "7 [1 1 1 1 0 0] 0\n",
      "8 [1 1 1 1 0 0] 0\n",
      "9 [1 1 1 1 0 0] 0\n",
      "10 [1 1 1 1 0 0] 0\n"
     ]
    }
   ],
   "source": [
    "nrestrict = apoyos.shape[0]\n",
    "node_i, node_j = ' ', ' '\n",
    "for node, restricts in enumerate(apoyos):\n",
    "    [node_i, node_j, response_status] = smodel.FrameObj.GetPoints(str(restricts[0]), node_i, node_j)\n",
    "    # response_status = smodel.Pointobj.SetRestraint(node_i, [*apoyos[node,1::]]);\n",
    "    response_status = smodel.Pointobj.SetRestraint(str(restricts[0].item()), [*apoyos[node,1::]]);\n",
    "    print(restricts[0].item(), *[apoyos[node,1::]], response_status[1])\n",
    "    # print(response_status, [\"FrameName\"+str(restricts[0]+1),[*apoyos[node,1::]]])\n",
    "\n",
    "smodel.View.RefreshView(0, False);"
   ]
  },
  {
   "cell_type": "markdown",
   "metadata": {},
   "source": [
    "## 7. Asignacion de cargas"
   ]
  },
  {
   "cell_type": "markdown",
   "metadata": {},
   "source": [
    "### 7.1 establecemos las unidades de las cargas"
   ]
  },
  {
   "cell_type": "code",
   "execution_count": 258,
   "metadata": {},
   "outputs": [
    {
     "data": {
      "text/plain": [
       "0"
      ]
     },
     "execution_count": 258,
     "metadata": {},
     "output_type": "execute_result"
    }
   ],
   "source": [
    "# # switch to k-in units\n",
    "smodel.SetPresentUnits(kip_in_F)"
   ]
  },
  {
   "cell_type": "markdown",
   "metadata": {},
   "source": [
    "### 7.2 patron de carga"
   ]
  },
  {
   "cell_type": "code",
   "execution_count": 259,
   "metadata": {},
   "outputs": [
    {
     "data": {
      "text/plain": [
       "0"
      ]
     },
     "execution_count": 259,
     "metadata": {},
     "output_type": "execute_result"
    }
   ],
   "source": [
    "smodel.LoadPatterns.Add(NamePattern, LTYPE, 0, True)"
   ]
  },
  {
   "cell_type": "markdown",
   "metadata": {},
   "source": [
    "### 7.3 Asignamos la carga"
   ]
  },
  {
   "cell_type": "code",
   "execution_count": 234,
   "metadata": {},
   "outputs": [],
   "source": [
    "# cargaPuntual = [value.item() for value in cargaPuntuales.flatten()[1:]]\n",
    "# smodel.PointObj.SetLoadForce(str(8), f\"{NamePattern}\", cargaPuntual)"
   ]
  },
  {
   "cell_type": "code",
   "execution_count": 260,
   "metadata": {},
   "outputs": [
    {
     "name": "stdout",
     "output_type": "stream",
     "text": [
      "Aplicando carga puntual en el nodo 2, 0\n",
      "Aplicando carga puntual en el nodo 3, 0\n",
      "Aplicando carga puntual en el nodo 4, 0\n",
      "Aplicando carga puntual en el nodo 7, 0\n"
     ]
    }
   ],
   "source": [
    "for idx, carga in enumerate(cargaPuntuales):\n",
    "    PointName1 = carga[0]+1\n",
    "    node_load = carga[1:].tolist()\n",
    "    response = smodel.PointObj.SetLoadForce( str(int(PointName1)), NamePattern, node_load )\n",
    "    print(f\"Aplicando carga puntual en el nodo {str(int(PointName1))}, {response[1]}\")\n",
    "PointName1, node_load = None, None"
   ]
  },
  {
   "cell_type": "code",
   "execution_count": 261,
   "metadata": {},
   "outputs": [],
   "source": [
    "smodel.View.RefreshView(0, False);"
   ]
  },
  {
   "cell_type": "markdown",
   "metadata": {},
   "source": [
    "## 8. Guardamos el modelo"
   ]
  },
  {
   "cell_type": "code",
   "execution_count": 262,
   "metadata": {},
   "outputs": [],
   "source": [
    "APIPath = 'C:\\\\CSi_API_Example'\n",
    "if not os.path.exists(APIPath):\n",
    "    try: os.makedirs(APIPath, exist_ok=True)\n",
    "    except OSError: pass\n",
    "if connect_to == 1: ModelPath = APIPath + os.sep + 'Cercha_e1-001.sdb'\n",
    "else: ModelPath = APIPath + os.sep + 'cercha_e1-001.edb'"
   ]
  },
  {
   "cell_type": "code",
   "execution_count": 263,
   "metadata": {},
   "outputs": [
    {
     "data": {
      "text/plain": [
       "0"
      ]
     },
     "execution_count": 263,
     "metadata": {},
     "output_type": "execute_result"
    }
   ],
   "source": [
    "#save model\n",
    "smodel.File.Save(ModelPath)"
   ]
  },
  {
   "cell_type": "markdown",
   "metadata": {},
   "source": [
    "## 9. Ejecutar analisis"
   ]
  },
  {
   "cell_type": "code",
   "execution_count": 264,
   "metadata": {},
   "outputs": [
    {
     "data": {
      "text/plain": [
       "0"
      ]
     },
     "execution_count": 264,
     "metadata": {},
     "output_type": "execute_result"
    }
   ],
   "source": [
    "#run model (this will create the analysis model)\n",
    "smodel.Analyze.RunAnalysis()"
   ]
  },
  {
   "cell_type": "markdown",
   "metadata": {},
   "source": [
    "## 10. Mostramos los resultados y Cerramos la coneccion o la aplicacion"
   ]
  },
  {
   "cell_type": "code",
   "execution_count": 265,
   "metadata": {},
   "outputs": [
    {
     "data": {
      "text/plain": [
       "(25, 4, 10)"
      ]
     },
     "execution_count": 265,
     "metadata": {},
     "output_type": "execute_result"
    }
   ],
   "source": [
    "nele, nres, nnode = np.array(elems).shape[0], np.array(apoyos).shape[0], len(coords)\n",
    "nele, nres, nnode"
   ]
  },
  {
   "cell_type": "code",
   "execution_count": 208,
   "metadata": {},
   "outputs": [],
   "source": [
    "# response = smodel.Results.Setup.DeselectAllCasesAndCombosForOutput()\n",
    "# response = smodel.Results.Setup.SetCaseSelectedForOutput(NamePattern)\n",
    "\n",
    "# res = smodel.Results.JointDispl(\"8\",0)\n",
    "# xy = res[6], res[8] \n",
    "# xy"
   ]
  },
  {
   "cell_type": "code",
   "execution_count": 266,
   "metadata": {},
   "outputs": [
    {
     "name": "stdout",
     "output_type": "stream",
     "text": [
      "Axial Force\n",
      "[[ 5.34745916e-01]\n",
      " [-2.96091707e+00]\n",
      " [ 7.91690565e+00]\n",
      " [-9.30419020e-01]\n",
      " [-7.10749349e+00]\n",
      " [ 2.42014787e+00]\n",
      " [-1.37625549e+01]\n",
      " [ 7.07277111e-04]\n",
      " [ 7.60722552e-01]\n",
      " [-5.17911786e+00]\n",
      " [ 9.88654778e-01]\n",
      " [ 9.88654778e-01]\n",
      " [ 1.49306801e+00]\n",
      " [-8.65229522e+00]\n",
      " [ 3.61809968e+00]\n",
      " [-3.83310912e-01]\n",
      " [-3.97376059e+00]\n",
      " [ 4.41674999e+00]\n",
      " [-3.66474029e+00]\n",
      " [-8.56548959e+00]\n",
      " [-3.33163602e-01]\n",
      " [-8.73899376e+00]\n",
      " [ 3.82683807e+00]\n",
      " [ 5.18467985e-02]\n",
      " [-8.91058254e+00]]\n",
      "Reaction forces\n",
      "[[-6.99308676  6.06244146 -7.30294857]\n",
      " [-4.12861142 -4.25657479  4.17797014]\n",
      " [-4.55788085  4.57862661  7.07202986]\n",
      " [13.57957903 13.61550672 16.05294857]]\n",
      "Joint Displacement\n",
      "[[ 1.152176   -0.39333759 -0.46024612]\n",
      " [ 1.18830748 -5.0718128  -1.25471306]\n",
      " [ 0.84871551 -1.58589635 -0.90752833]\n",
      " [ 0.64865355 -0.06081491  0.37571916]\n",
      " [-0.55106025 -0.12761591 -1.69456038]\n",
      " [-0.65194322 -1.23595596 -0.22243532]\n",
      " [ 0.          0.          0.        ]\n",
      " [ 0.          0.          0.        ]\n",
      " [ 0.          0.          0.        ]\n",
      " [ 0.          0.          0.        ]]\n"
     ]
    }
   ],
   "source": [
    "#initialize for results\n",
    "\n",
    "Axial = np.zeros(nele)\n",
    "Reactions = np.zeros([nres,3])\n",
    "Displacement = np.zeros([nnode,3])\n",
    "\n",
    "response = smodel.Results.Setup.DeselectAllCasesAndCombosForOutput()\n",
    "response = smodel.Results.Setup.SetCaseSelectedForOutput(NamePattern)\n",
    "\n",
    "NumberResults = 0\n",
    "Obj = []\n",
    "Elm = []\n",
    "ACase = []\n",
    "StepType = []\n",
    "StepNum = []\n",
    "ObjectElm = 0\n",
    "ObjSta = []\n",
    "ElmSta = []\n",
    "P = []\n",
    "V2, V3 = [], []\n",
    "T = []\n",
    "M2, M3 = [], []\n",
    "Element = 1\n",
    "F1, F2, F3, R1, R2, R3 = [], [], [], [], [], []\n",
    "GroupElm = 2\n",
    "U1, U2, U3, U4, U5, U6 = [], [], [], [], [], []\n",
    "\n",
    "# get results for load cases 1 through 7\n",
    "# optener resultados para los casos de carga 1 a 7\n",
    "for i in range(nele):\n",
    "    [NumberResults, Obj, ObjSta, ELm, ElmSta, ACase, StepType, StepNum, P, V2, V3, T, M2, M3, response] = \\\n",
    "    smodel.Results.FrameForce(str(i+1), ObjectElm, NumberResults, Obj, ObjSta, Elm, ElmSta, ACase, StepType, StepNum, P, V2, V3, T, M2, M3)\n",
    "    Axial[i] = P[0]\n",
    "\n",
    "for i in range(nres):\n",
    "    [NumberResults, Obj, Elm, ACase, StepType, StepNum, F1, F2, F3, R1, R2, R3, response] = \\\n",
    "    smodel.Results.JointReact(str(i+7), Element, NumberResults, Obj, Elm, ACase, StepType, StepNum, F1, F2, R1, R2, R3)\n",
    "    Reactions[i,0] = F1[0]\n",
    "    Reactions[i,1] = F2[0]\n",
    "    Reactions[i,2] = F3[0]\n",
    "\n",
    "for i in range(nnode):\n",
    "    [NumberResults, Obj, Elm, ACase, StepType, StepNum, U1,U2,U3,U4,U5,U6, response] = \\\n",
    "    smodel.Results.JointDispl(str(i+1), Element, NumberResults, Obj, Elm, ACase, StepType, StepNum, U1, U2, U3, U4, U5, U6)\n",
    "    Displacement[i,0] = U1[0]\n",
    "    Displacement[i,1] = U2[0]\n",
    "    Displacement[i,2] = U3[0]\n",
    "\n",
    "#display results | mostra resultados\n",
    "print(f\"Axial Force\\n{Axial[np.newaxis].T}\")\n",
    "print(f\"Reaction forces\\n{Reactions}\")\n",
    "print(f\"Joint Displacement\\n{Displacement}\")"
   ]
  },
  {
   "cell_type": "code",
   "execution_count": 268,
   "metadata": {},
   "outputs": [
    {
     "data": {
      "text/plain": [
       "1"
      ]
     },
     "execution_count": 268,
     "metadata": {},
     "output_type": "execute_result"
    }
   ],
   "source": [
    "import ctypes\n",
    "ctypes.windll.user32.MessageBoxW(0, f\"Ejecucion terminado\", \"CSiAPI\", 64)"
   ]
  },
  {
   "cell_type": "code",
   "execution_count": 267,
   "metadata": {},
   "outputs": [
    {
     "name": "stdout",
     "output_type": "stream",
     "text": [
      "Se cerro con exito.\n"
     ]
    }
   ],
   "source": [
    "print(\"No se pudo cerrar\") if (connect_to_app.ApplicationExit(False)) else print(\"Se cerro con exito.\")\n",
    "\n",
    "smodel, connect_to_app = None, None\n",
    "del smodel, connect_to_app\n",
    "exit(-1)"
   ]
  },
  {
   "cell_type": "markdown",
   "metadata": {},
   "source": [
    "# Referecnias."
   ]
  },
  {
   "cell_type": "markdown",
   "metadata": {},
   "source": [
    "- Structural Tech [4 jun 2025], Análisis Estructural de Armaduras con Python, Opensees y SAP2000 (video) https://youtu.be/nZpuiho-TC4\n",
    "- Engineer Hunter [6 jul 2021] SAP2000 OAPI (Open Application Programming Interface) using Python (video) https://youtu.be/P6RO-GnQYiM"
   ]
  }
 ],
 "metadata": {
  "kernelspec": {
   "display_name": "Python 3",
   "language": "python",
   "name": "python3"
  },
  "language_info": {
   "codemirror_mode": {
    "name": "ipython",
    "version": 3
   },
   "file_extension": ".py",
   "mimetype": "text/x-python",
   "name": "python",
   "nbconvert_exporter": "python",
   "pygments_lexer": "ipython3",
   "version": "3.12.7"
  }
 },
 "nbformat": 4,
 "nbformat_minor": 2
}
