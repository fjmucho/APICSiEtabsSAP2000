{
 "cells": [
  {
   "cell_type": "markdown",
   "id": "32fc0a61",
   "metadata": {},
   "source": [
    "\n",
    "<div>\n",
    "    <h1 align=center style=\"font-size: 12; font-weight: 900; \">--- 08 ---<h1>\n",
    "    <h2 align=center>CSiAPI - ETABS y SAP200</h2>\n",
    "    <!-- <p><strong></strong</p> -->\n",
    "    <p align=\"center\"><font color = orange >Bach. Ing. Francisco Jimenez Mucho (fjmucho0@gmail.com)</font></p> \n",
    "    <p align=\"center\"><font color = green >2022, update: 2025</font></p> \n",
    "</div>\n",
    "\n",
    "---"
   ]
  },
  {
   "cell_type": "markdown",
   "id": "312943f5",
   "metadata": {},
   "source": [
    "## Trabajo con reporte de datos de ETABS o SAP2000, ...\n",
    "\n",
    "Solicitar informacion a ETABS o SAP200 para filtrar y hacer reporte personalizado de `Datos`"
   ]
  },
  {
   "cell_type": "markdown",
   "id": "bf2e8527",
   "metadata": {},
   "source": [
    "### 1. Dependecnias"
   ]
  },
  {
   "cell_type": "code",
   "execution_count": 12,
   "id": "b9e016ce",
   "metadata": {},
   "outputs": [],
   "source": [
    "import os, sys\n",
    "\n",
    "# import numpy as np\n",
    "import pandas as pd\n",
    "\n",
    "import ipywidgets as widgets\n",
    "\n",
    "# from matplotlib import pyplot as plt"
   ]
  },
  {
   "cell_type": "code",
   "execution_count": 13,
   "id": "55ed0be9",
   "metadata": {},
   "outputs": [],
   "source": [
    "import comtypes.client"
   ]
  },
  {
   "cell_type": "markdown",
   "id": "5d6cbabe",
   "metadata": {},
   "source": [
    "<!-- ### 2. Importar la funcion o metodo para conectarnos y poder solicitar informacion -->\n",
    "### 2. Seleccion de la apliacion"
   ]
  },
  {
   "cell_type": "code",
   "execution_count": 14,
   "id": "3a419b44",
   "metadata": {},
   "outputs": [],
   "source": [
    "# from CSiAPI.ConnectCSiAPI import metodo\n",
    "# Indicar el programa a usar\n",
    "connect_to = 2; #1 para SAP2000 y 2 para ETABS\n",
    "\n",
    "connect_to_app, smodel = None, None"
   ]
  },
  {
   "cell_type": "code",
   "execution_count": 15,
   "id": "61f86c90",
   "metadata": {},
   "outputs": [],
   "source": [
    "match connect_to:\n",
    "    case 1:\n",
    "        name_app = \"SAP2000\"\n",
    "        conn = {\n",
    "            'app_ruta': \"C:\\\\Program Files\\\\Computers and Structures\\\\SAP2000 23\\\\SAP2000.exe\",\n",
    "            'app_adjunto': \"CSI.SAP2000.API.SapObject\",\n",
    "            'app_helper': 'SAP2000v1.Helper'\n",
    "        }\n",
    "    case 2:\n",
    "        name_app = \"ETABS\"\n",
    "        conn = {\n",
    "            'app_ruta': \"C:\\\\Program Files\\\\Computers and Structures\\\\ETABS 21\\\\ETABS.exe\",\n",
    "            'app_adjunto': \"CSI.ETABS.API.ETABSObject\",\n",
    "            'app_helper': \"ETABSv1.Helper\"\n",
    "        }"
   ]
  },
  {
   "cell_type": "markdown",
   "id": "ea7f3d76",
   "metadata": {},
   "source": [
    "### 3. Coneccion a la aplicacion"
   ]
  },
  {
   "cell_type": "code",
   "execution_count": 16,
   "id": "e3c27d98",
   "metadata": {},
   "outputs": [
    {
     "name": "stdout",
     "output_type": "stream",
     "text": [
      "Instancia establecida (adjuntada) a ETABS\n"
     ]
    }
   ],
   "source": [
    "# Connecting | coneccion\n",
    "try:\n",
    "    connect_to_app = comtypes.client.GetActiveObject(conn[\"app_adjunto\"])\n",
    "    print(f\"Instancia establecida (adjuntada) a {name_app}\")\n",
    "except (OSError, comtypes.COMError):\n",
    "    print(\"No running instance of the program found or failed to attach.\")\n",
    "    sys.exit(-1)"
   ]
  },
  {
   "cell_type": "markdown",
   "id": "34fb42f6",
   "metadata": {},
   "source": [
    "### 4. Se crea el objeto SapModel o instancia a la Clase"
   ]
  },
  {
   "cell_type": "code",
   "execution_count": 17,
   "id": "93446c92",
   "metadata": {},
   "outputs": [],
   "source": [
    "smodel = connect_to_app.SapModel"
   ]
  },
  {
   "cell_type": "code",
   "execution_count": 18,
   "id": "5920551d",
   "metadata": {},
   "outputs": [
    {
     "name": "stdout",
     "output_type": "stream",
     "text": [
      "['ETABS', '20.0.0', 'Ultimate ', 0]\n"
     ]
    }
   ],
   "source": [
    "full_info_software = smodel.GetProgramInfo()\n",
    "print(full_info_software)"
   ]
  },
  {
   "cell_type": "markdown",
   "id": "75cce9ed",
   "metadata": {},
   "source": [
    "### 5. Se establece desbloqueo para ejecutar analisis."
   ]
  },
  {
   "cell_type": "code",
   "execution_count": 19,
   "id": "453cb55f",
   "metadata": {},
   "outputs": [
    {
     "data": {
      "text/plain": [
       "0"
      ]
     },
     "execution_count": 19,
     "metadata": {},
     "output_type": "execute_result"
    }
   ],
   "source": [
    "# Unlocking model | Abriendo modelo (hace referencia al candadito de etabs)\n",
    "smodel.SetModelIsLocked(False)"
   ]
  },
  {
   "cell_type": "markdown",
   "id": "bdcc1e7c",
   "metadata": {},
   "source": [
    "### 6. Ejecucion del modelo"
   ]
  },
  {
   "cell_type": "code",
   "execution_count": 20,
   "id": "0ef3c669",
   "metadata": {},
   "outputs": [
    {
     "data": {
      "text/plain": [
       "0"
      ]
     },
     "execution_count": 20,
     "metadata": {},
     "output_type": "execute_result"
    }
   ],
   "source": [
    "#run model (this will create the analysis model)\n",
    "ret_analysis = smodel.Analyze.RunAnalysis()\n",
    "ret_analysis"
   ]
  },
  {
   "cell_type": "markdown",
   "id": "62dcac8c",
   "metadata": {},
   "source": [
    "### 7. Solicitud de informacion"
   ]
  },
  {
   "cell_type": "code",
   "execution_count": 23,
   "id": "cdccaa85",
   "metadata": {},
   "outputs": [
    {
     "name": "stdout",
     "output_type": "stream",
     "text": [
      "Respuesta: 1\n",
      "()\n"
     ]
    }
   ],
   "source": [
    "# Ahora entremos en las fuerzas internas de elemento, eligiendo combinaciones. \n",
    "# Procedamos eliminando primero todos los combos seleccionados y \n",
    "# luego seleccionando solo los combos que usaremos.\n",
    "\n",
    "# deselect all cases and combos\n",
    "ret_deselectCombo = smodel.Results.Setup.DeselectAllCasesAndCombosForOutput()\n",
    "\n",
    "response_status = smodel.Results.Setup.SetComboSelectedForOutput(\"COMB1\")\n",
    "# ret_selectCombo = smodel.Results.Setup.SetComboSelectedForOutput(\"1D + 1L + 1EQY\")\n",
    "print(f\"Respuesta: {response_status}\")\n",
    "\n",
    "ObjectElm = 0\n",
    "NumberResults = 0\n",
    "obj = []\n",
    "ObjStr = []\n",
    "Elm = []\n",
    "ElmStr = []\n",
    "LoadCase = []\n",
    "StepType = []\n",
    "P = []\n",
    "V2 = []\n",
    "V3 = []\n",
    "T = []\n",
    "M2 = []\n",
    "M3 = []\n",
    "ret_frameForces = smodel.Results.FrameForce(\n",
    "\t\"1\", ObjectElm, NumberResults, obj, ObjStr, Elm, \n",
    "\tElmStr, LoadCase, StepType, P, V2, V3, T, M2, M3)\n",
    "\n",
    "# print(ret_frameForces)\n",
    "print(ret_frameForces[8])\n",
    "\n",
    "ret_frameForces = None\n",
    "del ret_frameForces\n"
   ]
  },
  {
   "cell_type": "markdown",
   "id": "dea6dcc9",
   "metadata": {},
   "source": [
    "### Cerrar la coneccion y aplicacion"
   ]
  },
  {
   "cell_type": "code",
   "execution_count": 24,
   "id": "7108ad1e",
   "metadata": {},
   "outputs": [
    {
     "name": "stdout",
     "output_type": "stream",
     "text": [
      "Se cerro con exito.\n"
     ]
    }
   ],
   "source": [
    "if (connect_to_app.ApplicationExit(False)): print(\"No se pudo cerrar\")\n",
    "else: print(\"Se cerro con exito.\")\n",
    "\n",
    "smodel, connect_to_app = None, None\n",
    "del smodel, connect_to_app\n",
    "exit(-1)"
   ]
  }
 ],
 "metadata": {
  "kernelspec": {
   "display_name": "Python 3",
   "language": "python",
   "name": "python3"
  },
  "language_info": {
   "codemirror_mode": {
    "name": "ipython",
    "version": 3
   },
   "file_extension": ".py",
   "mimetype": "text/x-python",
   "name": "python",
   "nbconvert_exporter": "python",
   "pygments_lexer": "ipython3",
   "version": "3.12.7"
  }
 },
 "nbformat": 4,
 "nbformat_minor": 5
}
