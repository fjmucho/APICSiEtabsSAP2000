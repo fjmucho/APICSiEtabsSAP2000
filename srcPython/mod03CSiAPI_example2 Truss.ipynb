{
 "cells": [
  {
   "cell_type": "markdown",
   "metadata": {},
   "source": [
    "<center>\n",
    "    <h1 style=\"font-size: 12; font-weight: 900; \">--- 3 ---<h1>\n",
    "    <h2>CSiAPI - ETABS y SAP200</h2>\n",
    "    <!-- <p><strong></strong</p> -->\n",
    "</center>"
   ]
  },
  {
   "cell_type": "markdown",
   "metadata": {},
   "source": [
    "# Código parametrico generado para estrcuturas tipo cercha"
   ]
  },
  {
   "cell_type": "code",
   "execution_count": null,
   "metadata": {},
   "outputs": [],
   "source": [
    "# !pip install comtypes numpy"
   ]
  },
  {
   "cell_type": "code",
   "execution_count": null,
   "metadata": {},
   "outputs": [],
   "source": [
    "import os, sys, numpy as np\n",
    "import comtypes.client\n",
    "\n",
    "# from CSiAPI import ConnectCSiAPI"
   ]
  },
  {
   "cell_type": "code",
   "execution_count": null,
   "metadata": {},
   "outputs": [],
   "source": []
  },
  {
   "cell_type": "code",
   "execution_count": null,
   "metadata": {},
   "outputs": [],
   "source": [
    "\n",
    "\n",
    "# Indicar el programa a usar\n",
    "connect_to = 1; #1 para SAP2000 y 2 para ETABS\n",
    "# Variable para definir una instancia manual para el programa y definir la ruta.\n",
    "rutaEspecifica = False"
   ]
  },
  {
   "cell_type": "code",
   "execution_count": 3,
   "metadata": {},
   "outputs": [],
   "source": [
    "smodel, response_status = None, None\n",
    "conn = {};\n",
    "if connect_to == 1:  # SAP2000\n",
    "    name_app=\"SAP2000\"\n",
    "    conn = {\n",
    "        'app_ruta': \"C:\\\\Program Files\\\\Computers and Structures\\\\SAP2000 23\\\\SAP2000.exe\",\n",
    "        'app_adjunto': \"CSI.SAP2000.API.SapObject\",\n",
    "        'app_helper': 'SAP2000v1.Helper'\n",
    "        }\n",
    "elif (connect_to == 2): # ETABS\n",
    "    name_app=\"ETABS\"\n",
    "    conn = {\n",
    "        'app_ruta': \"C:\\\\Program Files\\\\Computers and Structures\\\\ETABS 21\\\\ETABS.exe\",\n",
    "        'app_adjunto': \"CSI.ETABS.API.ETABSObject\",\n",
    "        'app_helper': \"ETABSv1.Helper\"\n",
    "        }\n",
    "else: \n",
    "    print(\"No tenemos soporte aun\") \n",
    "    sys.exit()"
   ]
  },
  {
   "cell_type": "code",
   "execution_count": 4,
   "metadata": {},
   "outputs": [
    {
     "name": "stdout",
     "output_type": "stream",
     "text": [
      "No se encontró ninguna instancia en ejecución del ETABS.\n",
      "Tratando de Ejecutar ETABS!.\n",
      "Coneccion establecida!.\n",
      "Ejecutando!.\n"
     ]
    }
   ],
   "source": [
    "try:\n",
    "    connect_to_app = comtypes.client.GetActiveObject(conn['app_adjunto'])\n",
    "    print(\"Coneccion exitosa!.\\nadjuntando a una instancia existente.\")\n",
    "except (OSError, comtypes.COMError):\n",
    "    print(f\"No se encontró ninguna instancia en ejecución del {name_app}.\")\n",
    "\n",
    "    print(f\"Tratando de Ejecutar {name_app}!.\")\n",
    "    #create API helper object\n",
    "    helper = comtypes.client.CreateObject(conn['app_helper'])\n",
    "    if connect_to == 1: helper = helper.QueryInterface(comtypes.gen.SAP2000v1.cHelper)\n",
    "    else: helper = helper.QueryInterface(comtypes.gen.ETABSv1.cHelper);\n",
    "    # helper = comtypes.client.CreateObject(conn['app_helper']).QueryInterface()\n",
    "    if rutaEspecifica: # para versiones anteriores a la ultima version instalada\n",
    "        ProgramPath = conn['app_ruta'];\n",
    "        try:\n",
    "            connect_to_app = helper.CreateObject(ProgramPath)\n",
    "            print(\"Coneccion establecida!.\\nConexion Manual\")\n",
    "        except (OSError, comtypes.COMError):\n",
    "            print(\"Cannot start a new instance of the program from \" + ProgramPath)\n",
    "            sys.exit(-1)\n",
    "    else:\n",
    "        try: \n",
    "            connect_to_app = helper.CreateObjectProgID(conn['app_adjunto']) \n",
    "            print(\"Coneccion establecida!.\")\n",
    "        except (OSError, comtypes.COMError):\n",
    "            print(\"Cannot start a new instance of the program.\")\n",
    "            sys.exit(-1)\n",
    "    print(\"Ejecutando!.\")\n",
    "    #start ETABS application | ejecutar la Aplicacion ETABS.\n",
    "    connect_to_app.ApplicationStart()\n",
    "\n",
    "smodel = connect_to_app.SapModel;"
   ]
  },
  {
   "cell_type": "code",
   "execution_count": null,
   "metadata": {},
   "outputs": [],
   "source": []
  },
  {
   "cell_type": "code",
   "execution_count": 12,
   "metadata": {},
   "outputs": [
    {
     "ename": "AttributeError",
     "evalue": "'NoneType' object has no attribute 'Application'",
     "output_type": "error",
     "traceback": [
      "\u001b[1;31m---------------------------------------------------------------------------\u001b[0m",
      "\u001b[1;31mAttributeError\u001b[0m                            Traceback (most recent call last)",
      "Cell \u001b[1;32mIn[12], line 2\u001b[0m\n\u001b[0;32m      1\u001b[0m \u001b[38;5;66;03m# Cierra la aplicación\u001b[39;00m\n\u001b[1;32m----> 2\u001b[0m \u001b[43msmodel\u001b[49m\u001b[38;5;241;43m.\u001b[39;49m\u001b[43mApplication\u001b[49m\u001b[38;5;241m.\u001b[39mExit()\n",
      "\u001b[1;31mAttributeError\u001b[0m: 'NoneType' object has no attribute 'Application'"
     ]
    }
   ],
   "source": [
    "# Cierra la aplicación\n",
    "smodel.Application.Exit()"
   ]
  }
 ],
 "metadata": {
  "kernelspec": {
   "display_name": "Python 3",
   "language": "python",
   "name": "python3"
  },
  "language_info": {
   "codemirror_mode": {
    "name": "ipython",
    "version": 3
   },
   "file_extension": ".py",
   "mimetype": "text/x-python",
   "name": "python",
   "nbconvert_exporter": "python",
   "pygments_lexer": "ipython3",
   "version": "3.12.7"
  }
 },
 "nbformat": 4,
 "nbformat_minor": 2
}
