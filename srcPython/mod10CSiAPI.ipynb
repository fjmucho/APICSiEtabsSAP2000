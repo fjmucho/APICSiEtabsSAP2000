{
 "cells": [
  {
   "cell_type": "markdown",
   "metadata": {},
   "source": [
    "\n",
    "<div>\n",
    "    <h1 align=center style=\"font-size: 12; font-weight: 900; \">--- 10 ---<h1>\n",
    "    <h2 align=center>CSiAPI - ETABS y SAP200</h2>\n",
    "    <!-- <p><strong></strong</p> -->\n",
    "    <p align=\"center\"><font color = orange >Bach. Ing. Francisco Jimenez Mucho (fjmucho0@gmail.com)</font></p> \n",
    "    <p align=\"center\"><font color = green >2022, update: 2025</font></p> \n",
    "</div>\n",
    "\n",
    "---"
   ]
  },
  {
   "cell_type": "markdown",
   "metadata": {},
   "source": [
    "## Trabajo con reporte de datos de ETABS o SAP2000, ...\n",
    "\n",
    "Solicitar informacion a ETABS o SAP200 para filtrar y hacer reporte personalizado de `Datos`"
   ]
  },
  {
   "cell_type": "markdown",
   "metadata": {},
   "source": [
    "### 1. Dependecnias"
   ]
  },
  {
   "cell_type": "code",
   "execution_count": 34,
   "metadata": {},
   "outputs": [],
   "source": [
    "import os, sys\n",
    "\n",
    "import numpy as np, pandas as pd\n",
    "\n",
    "import ipywidgets as widgets\n",
    "\n",
    "# from matplotlib import pyplot as plt"
   ]
  },
  {
   "cell_type": "code",
   "execution_count": 35,
   "metadata": {},
   "outputs": [],
   "source": [
    "import comtypes.client"
   ]
  },
  {
   "cell_type": "markdown",
   "metadata": {},
   "source": [
    "<!-- ### 2. Importar la funcion o metodo para conectarnos y poder solicitar informacion -->\n",
    "### 2. Seleccion de la apliacion"
   ]
  },
  {
   "cell_type": "code",
   "execution_count": 36,
   "metadata": {},
   "outputs": [],
   "source": [
    "# from CSiAPI.ConnectCSiAPI import metodo\n",
    "# Indicar el programa a usar\n",
    "connect_to = 2; #1 para SAP2000 y 2 para ETABS\n",
    "\n",
    "connect_to_app, smodel = None, None"
   ]
  },
  {
   "cell_type": "code",
   "execution_count": 37,
   "metadata": {},
   "outputs": [],
   "source": [
    "conn = {};\n",
    "if connect_to == 1:  # SAP2000\n",
    "    name_app = \"SAP2000\"\n",
    "    conn = {\n",
    "        'app_ruta': \"C:\\\\Program Files\\\\Computers and Structures\\\\SAP2000 23\\\\SAP2000.exe\",\n",
    "        'app_adjunto': \"CSI.SAP2000.API.SapObject\",\n",
    "        'app_helper': 'SAP2000v1.Helper'\n",
    "        }\n",
    "elif (connect_to == 2): # ETABS\n",
    "    name_app = \"ETABS\"\n",
    "    conn = {\n",
    "        'app_ruta': \"C:\\\\Program Files\\\\Computers and Structures\\\\ETABS 21\\\\ETABS.exe\",\n",
    "        'app_adjunto': \"CSI.ETABS.API.ETABSObject\",\n",
    "        'app_helper': \"ETABSv1.Helper\"\n",
    "        }\n",
    "else: \n",
    "    print(\"No tenemos soporte aun\")\n",
    "    sys.exit()\n",
    "\n",
    "# match connect_to:\n",
    "#     case 1:\n",
    "#         name_app = \"SAP2000\"\n",
    "#         conn = {\n",
    "#             'app_ruta': \"C:\\\\Program Files\\\\Computers and Structures\\\\SAP2000 23\\\\SAP2000.exe\",\n",
    "#             'app_adjunto': \"CSI.SAP2000.API.SapObject\",\n",
    "#             'app_helper': 'SAP2000v1.Helper'\n",
    "#         }\n",
    "#     case 2:\n",
    "#         name_app = \"ETABS\"\n",
    "#         conn = {\n",
    "#             'app_ruta': \"C:\\\\Program Files\\\\Computers and Structures\\\\ETABS 21\\\\ETABS.exe\",\n",
    "#             'app_adjunto': \"CSI.ETABS.API.ETABSObject\",\n",
    "#             'app_helper': \"ETABSv1.Helper\"\n",
    "#         }"
   ]
  },
  {
   "cell_type": "markdown",
   "metadata": {},
   "source": [
    "### 3. Coneccion a la aplicacion"
   ]
  },
  {
   "cell_type": "markdown",
   "metadata": {},
   "source": [
    "**Primera forma**"
   ]
  },
  {
   "cell_type": "code",
   "execution_count": 38,
   "metadata": {},
   "outputs": [
    {
     "name": "stdout",
     "output_type": "stream",
     "text": [
      "Instancia establecida (adjuntada) a ETABS\n"
     ]
    }
   ],
   "source": [
    "try:\n",
    "    connect_to_app = comtypes.client.GetActiveObject(conn[\"app_adjunto\"])\n",
    "    print(f\"Instancia establecida (adjuntada) a {name_app}\")\n",
    "except (OSError, comtypes.COMError):\n",
    "    print(\"No running instance of the program found or failed to attach.\")\n",
    "    sys.exit(-1)"
   ]
  },
  {
   "cell_type": "markdown",
   "metadata": {},
   "source": [
    "**Segunda forma**"
   ]
  },
  {
   "cell_type": "code",
   "execution_count": 39,
   "metadata": {},
   "outputs": [],
   "source": [
    "# helper = comtypes.client.CreateObject(conn[\"app_helper\"])\n",
    "# if connect_to == 1: \n",
    "#     helper = helper.QueryInterface(comtypes.gen.SAP2000v1.cHelper)\n",
    "# else: \n",
    "#     helper = helper.QueryInterface(comtypes.gen.ETABSv1.cHelper);\n",
    "# try:\n",
    "#     connect_to_app = helper.GetObject(conn[\"app_adjunto\"])\n",
    "#     print(f\"Instancia establecida (adjuntada) a {name_app}\")\n",
    "# except (OSError, comtypes.COMError):\n",
    "#     print(\"No running instance of the program found or failed to attach.\")\n",
    "#     sys.exit(-1)"
   ]
  },
  {
   "cell_type": "markdown",
   "metadata": {},
   "source": [
    "### 4. Se crea el objeto SapModel o instancia a la Clase"
   ]
  },
  {
   "cell_type": "code",
   "execution_count": 40,
   "metadata": {},
   "outputs": [],
   "source": [
    "smodel = connect_to_app.SapModel;"
   ]
  },
  {
   "cell_type": "code",
   "execution_count": 41,
   "metadata": {},
   "outputs": [
    {
     "name": "stdout",
     "output_type": "stream",
     "text": [
      "['ETABS', '20.0.0', 'Ultimate ', 0]\n"
     ]
    }
   ],
   "source": [
    "full_info_software = smodel.GetProgramInfo()\n",
    "print(full_info_software)"
   ]
  },
  {
   "cell_type": "markdown",
   "metadata": {},
   "source": [
    "### 5. Se establece desbloqueo para ejecutar analisis."
   ]
  },
  {
   "cell_type": "code",
   "execution_count": 42,
   "metadata": {},
   "outputs": [
    {
     "name": "stdout",
     "output_type": "stream",
     "text": [
      "Esta abierto, listo para analizar.\n"
     ]
    }
   ],
   "source": [
    "if (smodel.GetModelIsLocked()): smodel.SetModelIsLocked(False)\n",
    "else: print(\"Esta abierto, listo para analizar.\")"
   ]
  },
  {
   "cell_type": "markdown",
   "metadata": {},
   "source": [
    "### 6. Ejecucion del modelo"
   ]
  },
  {
   "cell_type": "code",
   "execution_count": 9,
   "metadata": {},
   "outputs": [
    {
     "data": {
      "text/plain": [
       "0"
      ]
     },
     "execution_count": 9,
     "metadata": {},
     "output_type": "execute_result"
    }
   ],
   "source": [
    "smodel.Analyze.RunAnalysis()"
   ]
  },
  {
   "cell_type": "markdown",
   "metadata": {},
   "source": [
    "### 7. Solicitud de informacion"
   ]
  },
  {
   "cell_type": "code",
   "execution_count": 30,
   "metadata": {},
   "outputs": [],
   "source": [
    "response_frame_names = smodel.FrameObj.GetLabelNameList()\n",
    "if response_frame_names[0]>0:\n",
    "    vertices = [i for i in response_frame_names[1]] # filtro de nodos\n",
    "    aristas = [j for j in response_frame_names[2]] # filtro de todos los elementos\n",
    "    name_cols = list( set( [idx for idx in aristas if 'C' in idx] ) ) # filtro de columnas\n",
    "    id_cols = []\n",
    "    for name_col in name_cols:\n",
    "        idx_col = name_col.split('C')\n",
    "        # print(idx_col)\n",
    "        id_cols.append( int(idx_col[1]) )\n",
    "else:\n",
    "    print(\"No hay datos en combos...\")\n"
   ]
  },
  {
   "cell_type": "code",
   "execution_count": 31,
   "metadata": {},
   "outputs": [
    {
     "name": "stdout",
     "output_type": "stream",
     "text": [
      "['ETABS', '20.0.0', 'Ultimate ', 0]\n"
     ]
    }
   ],
   "source": []
  },
  {
   "cell_type": "markdown",
   "metadata": {},
   "source": [
    "### 8. Acceso a la base de datos, Filtros"
   ]
  },
  {
   "cell_type": "code",
   "execution_count": 130,
   "metadata": {},
   "outputs": [
    {
     "name": "stdout",
     "output_type": "stream",
     "text": [
      "0 --> Analysis Options - Active Degrees of Freedom\n",
      "1 --> Analysis Options - Analysis Model for Nonlinear Hinges\n",
      "2 --> Analysis Options - Automatic Mesh Settings for Floors\n",
      "3 --> Analysis Options - Automatic Rectangular Mesh Options for Walls\n",
      "4 --> Analysis Options - Cracking Analysis Options\n",
      "5 --> Analysis Options - Design and Response Recovery Options\n",
      "6 --> Analysis Options - SAPFire Options\n",
      "7 --> Area Assignments - Auto Edge Constraints\n",
      "8 --> Area Assignments - Floor Auto Mesh Options\n",
      "9 --> Area Assignments - Insertion Point\n",
      "10 --> Area Assignments - Section Properties\n",
      "11 --> Area Assignments - Summary\n",
      "12 --> Area Load Assignments - Uniform\n",
      "13 --> Area Section Property Definitions - Summary\n",
      "14 --> Beam Bays\n",
      "15 --> Beam Object Connectivity\n",
      "16 --> Column Bays\n",
      "17 --> Column Object Connectivity\n",
      "18 --> Composite Beam Design Preferences - AISC 360-10\n",
      "19 --> Composite Column Design Preferences - AISC 360-10\n",
      "20 --> Concrete Beam Overwrites - ACI 318-08\n",
      "21 --> Concrete Column Overwrites - ACI 318-08\n",
      "22 --> Concrete Frame Design Preferences - ACI 318-08\n",
      "23 --> Concrete Slab Design Overwrites - Finite Element Based\n",
      "24 --> Concrete Slab Design Overwrites - Punching Shear - General\n",
      "25 --> Concrete Slab Design Preferences - ACI 318-08\n",
      "26 --> Deck Property Definitions\n",
      "27 --> Diaphragm Definitions\n",
      "28 --> Dimension Line Object Geometry\n",
      "29 --> Floor Bays\n",
      "30 --> Floor Object Connectivity\n",
      "31 --> Frame Assignments - End Length Offsets\n",
      "32 --> Frame Assignments - Frame Auto Mesh Options\n",
      "33 --> Frame Assignments - Insertion Point\n",
      "34 --> Frame Assignments - Output Stations\n",
      "35 --> Frame Assignments - Rebar Ratio For Creep Analysis\n",
      "36 --> Frame Assignments - Section Properties\n",
      "37 --> Frame Assignments - Summary\n",
      "38 --> Frame Loads Assignments - Open Structure Wind Parameters\n",
      "39 --> Frame Section Property Definitions - Concrete Beam Reinforcing\n",
      "40 --> Frame Section Property Definitions - Concrete Column Reinforcing\n",
      "41 --> Frame Section Property Definitions - Concrete Rectangular\n",
      "42 --> Frame Section Property Definitions - Summary\n",
      "43 --> Functions - Response Spectrum - User Defined\n",
      "44 --> Functions - Time History - User Defined\n",
      "45 --> Grid Definitions - General\n",
      "46 --> Grid Definitions - Grid Lines\n",
      "47 --> Group Definitions\n",
      "48 --> Joint Assignments - Restraints\n",
      "49 --> Joint Assignments - Summary\n",
      "50 --> Link Property Definitions - Linear\n",
      "51 --> Link Property Definitions - Summary\n",
      "52 --> Load Case Definitions - Linear Static\n",
      "53 --> Load Case Definitions - Summary\n",
      "54 --> Load Pattern Definitions\n",
      "55 --> Mass Source Definition\n",
      "56 --> Material List by Object Type\n",
      "57 --> Material List by Section Property\n",
      "58 --> Material List by Story\n",
      "59 --> Material Properties - Acceptance Criteria\n",
      "60 --> Material Properties - Basic Mechanical Properties\n",
      "61 --> Material Properties - Concrete Data\n",
      "62 --> Material Properties - Damping Parameters\n",
      "63 --> Material Properties - General\n",
      "64 --> Material Properties - Hysteresis Parameters - Concrete\n",
      "65 --> Material Properties - Rebar Data\n",
      "66 --> Material Properties - Steel Data\n",
      "67 --> Material Properties - Tendon Data\n",
      "68 --> Miscellaneous Options\n",
      "69 --> Modal Case Definitions - Eigen\n",
      "70 --> Null Area Bays\n",
      "71 --> Null Area Object Connectivity\n",
      "72 --> Options - Colors - Display\n",
      "73 --> Options - Colors - Output\n",
      "74 --> Panel Zone Property Definitions\n",
      "75 --> Pier Label Definitions\n",
      "76 --> Point Bays\n",
      "77 --> Point Object Connectivity\n",
      "78 --> Preferences - Graphics\n",
      "79 --> Preferences - Tolerance\n",
      "80 --> Program Control\n",
      "81 --> Project Information\n",
      "82 --> Reinforcing Bar Sizes\n",
      "83 --> Shear Wall Design Preferences - ACI 318-08\n",
      "84 --> Slab Property Definitions\n",
      "85 --> Spandrel Label Definitions\n",
      "86 --> Steel Frame Design Preferences - AISC 360-10\n",
      "87 --> Steel Joist Design Preferences - SJI-2010\n",
      "88 --> Story Definitions\n",
      "89 --> Tendon Section Properties\n",
      "90 --> Tower and Base Story Definitions\n",
      "91 --> Wall Property Definitions - Specified\n"
     ]
    }
   ],
   "source": [
    "filtro_tabla = 1 # 1:MODEL DEFINITION, 2:DESIGN DATA, 3: ....\n",
    "\n",
    "NumberTables = 1\n",
    "TableKey = []\n",
    "TableName = []\n",
    "ImportType = []\n",
    "db_report_tables = smodel.DatabaseTables.GetAvailableTables(NumberTables, TableKey, TableName, ImportType)\n",
    "# print(len(db_report_tables))\n",
    "for idx in range(db_report_tables[0]):\n",
    "    print(idx, '-->', db_report_tables[filtro_tabla][idx])\n"
   ]
  },
  {
   "cell_type": "code",
   "execution_count": 128,
   "metadata": {},
   "outputs": [],
   "source": [
    "# name_tbl = \"Modal Participating Mass Ratios\"\n",
    "# data = smodel.DatabaseTables.GetTableForDisplayArray(name_tbl, GroupName=\"\")\n",
    "\n",
    "# cols, no_of_rows = data[2], data[3]\n",
    "# data_values = np.array_split(data[4], no_of_rows)\n",
    "# df = pd.DataFrame(data_values)\n",
    "# df.columns = cols\n",
    "# df"
   ]
  },
  {
   "cell_type": "code",
   "execution_count": null,
   "metadata": {},
   "outputs": [],
   "source": [
    "# df = df.drop(['UZ','SumUZ'], axis=1)\n",
    "# df"
   ]
  },
  {
   "cell_type": "markdown",
   "metadata": {},
   "source": [
    "### 9. otros"
   ]
  },
  {
   "cell_type": "markdown",
   "metadata": {},
   "source": [
    "### 10. Cerrar la coneccion y aplicacion"
   ]
  },
  {
   "cell_type": "code",
   "execution_count": null,
   "metadata": {},
   "outputs": [],
   "source": [
    "if (connect_to_app.ApplicationExit(False)): print(\"No se pudo cerrar\")\n",
    "else: print(\"Se cerro con exito.\")\n",
    "\n",
    "smodel, connect_to_app = None, None\n",
    "del smodel, connect_to_app\n",
    "exit(-1)"
   ]
  },
  {
   "cell_type": "markdown",
   "metadata": {},
   "source": [
    "## Referencias.\n",
    "\n",
    "- [1] Interaccion con html ipywidgets: https://ipywidgets.readthedocs.io/en/7.x/examples/Widget%20List.html\n",
    "- [2] ..."
   ]
  }
 ],
 "metadata": {
  "kernelspec": {
   "display_name": "Python 3",
   "language": "python",
   "name": "python3"
  },
  "language_info": {
   "codemirror_mode": {
    "name": "ipython",
    "version": 3
   },
   "file_extension": ".py",
   "mimetype": "text/x-python",
   "name": "python",
   "nbconvert_exporter": "python",
   "pygments_lexer": "ipython3",
   "version": "3.12.7"
  }
 },
 "nbformat": 4,
 "nbformat_minor": 2
}
