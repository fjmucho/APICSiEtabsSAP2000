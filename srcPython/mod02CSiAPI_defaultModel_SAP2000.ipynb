{
 "cells": [
  {
   "cell_type": "markdown",
   "metadata": {},
   "source": [
    "# Modelo por defecto para SAP2000\n"
   ]
  },
  {
   "cell_type": "markdown",
   "metadata": {},
   "source": [
    "**1. dependencias**"
   ]
  },
  {
   "cell_type": "code",
   "execution_count": 26,
   "metadata": {},
   "outputs": [],
   "source": [
    "import os, sys\n",
    "import comtypes.client"
   ]
  },
  {
   "cell_type": "markdown",
   "metadata": {},
   "source": [
    "**2. Establecimiento de coneccion por defecto o manual**"
   ]
  },
  {
   "cell_type": "code",
   "execution_count": 27,
   "metadata": {},
   "outputs": [
    {
     "name": "stdout",
     "output_type": "stream",
     "text": [
      "Ejecucion a la ultima version del programa\n"
     ]
    }
   ],
   "source": [
    "#establezca el siguiente indicador en True para adjuntarlo a una instancia existente del programa SAP2000\n",
    "# True o 1: Para indicar si va a trabajar con el programa abierto de SAP2000\n",
    "AttachToInstance = False\n",
    "\n",
    "# establezca el siguiente indicador en True para especificar manualmente la ruta a SAP2000.exe\n",
    "# esto permite una conexión a una versión de SAP2000 que no sea la última instalación\n",
    "# de lo contrario, se lanzará la última versión instalada de SAP2000\n",
    "SpecifyPath = False\n",
    "\n",
    "ProgramPath = \"C:\\\\Program Files\\\\Computers and Structures\\\\SAP2000 23\\\\SAP2000.exe\"\n",
    "\n",
    "# helper = comtypes.client.CreateObject('SAP2000v1.helper')\n",
    "# helper = helper.QueryInterface(comtypes.gen.SAP2000v19.cHelper)\n",
    "helper = comtypes\\\n",
    "    .client.CreateObject('SAP2000v1.Helper')\\\n",
    "    .QueryInterface(comtypes.gen.SAP2000v1.cHelper)\n",
    "\n",
    "if AttachToInstance:\n",
    "    try:\n",
    "        SAP2000Object = helper.GetObject(\"CSI.SAP2000.API.SapObject\")\n",
    "        print(\"Coneccion exitosa!.\\nadjuntando a una instancia existente.\")\n",
    "    except (OSError, comtypes.COMError):\n",
    "        print(\"No se encontró ninguna instancia en ejecución del programa.\")\n",
    "        sys.exit(-1)\n",
    "else:\n",
    "    if SpecifyPath: # para versiones anteriores a la ultima version\n",
    "        try:\n",
    "            SAP2000Object = helper.CreateObject(ProgramPath)\n",
    "            print(\"Coneccion esitosa!.\\nConexion Manual\")\n",
    "        except (OSError, comtypes.COMError):\n",
    "            print(\"Cannot start a new instance of the program from \" + ProgramPath)\n",
    "            sys.exit(-1)\n",
    "    else:\n",
    "        try: \n",
    "            SAP2000Object = helper.CreateObjectProgID(\"CSI.SAP2000.API.SapObject\")\n",
    "            print(\"Coneccion esitosa!. ultima version instalada\")\n",
    "        except (OSError, comtypes.COMError):\n",
    "            print(\"Cannot start a new instance of the program.\")\n",
    "            sys.exit(-1)\n",
    "\n",
    "    #start SAP2000 application\n",
    "    SAP2000Object.ApplicationStart()"
   ]
  },
  {
   "cell_type": "markdown",
   "metadata": {},
   "source": [
    "**3. Se crea el objeto SapModel o instancia a la Clase (se crea un objeto o instancia)**"
   ]
  },
  {
   "cell_type": "code",
   "execution_count": 28,
   "metadata": {},
   "outputs": [
    {
     "data": {
      "text/plain": [
       "<POINTER(cSapModel) ptr=0x1df26faf8a0 at 1df487c7b50>"
      ]
     },
     "execution_count": 28,
     "metadata": {},
     "output_type": "execute_result"
    }
   ],
   "source": [
    "#create SapModel object | crea instancia del objeto SapModel\n",
    "smodel = SAP2000Object.SapModel # es equivalente a smodel = SAP2000Object.SapModel()\n",
    "smodel"
   ]
  },
  {
   "cell_type": "markdown",
   "metadata": {},
   "source": [
    "**4. Inicia o crear un lienzo en blanco**"
   ]
  },
  {
   "cell_type": "code",
   "execution_count": 29,
   "metadata": {},
   "outputs": [
    {
     "data": {
      "text/plain": [
       "0"
      ]
     },
     "execution_count": 29,
     "metadata": {},
     "output_type": "execute_result"
    }
   ],
   "source": [
    "# 'initialize model | Inicializa una hoja en blanco para definir un modelo\n",
    "# resUnit = smodel.InitializeNewModel # este tambien es aceptado, pero es un metodo sin parametros\n",
    "smodel.InitializeNewModel() # en cambio aqui se puede enviar parametros"
   ]
  },
  {
   "cell_type": "markdown",
   "metadata": {},
   "source": [
    "**5. Ahora se crea un nuevo modelo**"
   ]
  },
  {
   "cell_type": "code",
   "execution_count": 30,
   "metadata": {},
   "outputs": [
    {
     "data": {
      "text/plain": [
       "0"
      ]
     },
     "metadata": {},
     "output_type": "display_data"
    }
   ],
   "source": [
    "#create new blank model\n",
    "res = smodel.File.NewBlank()\n",
    "display(res)"
   ]
  },
  {
   "cell_type": "markdown",
   "metadata": {},
   "source": [
    "**7. Se establece propiedades mecanicas del material para la estructura**\n",
    "\n",
    "Propiedades mecanicas del concreto"
   ]
  },
  {
   "cell_type": "code",
   "execution_count": 31,
   "metadata": {},
   "outputs": [
    {
     "data": {
      "text/plain": [
       "0"
      ]
     },
     "metadata": {},
     "output_type": "display_data"
    }
   ],
   "source": [
    "#define material property | Define propiedes de material\n",
    "MATERIAL_CONCRETE = 2\n",
    "res = smodel.PropMaterial.SetMaterial('CONC', MATERIAL_CONCRETE)\n",
    "display(res)"
   ]
  },
  {
   "cell_type": "code",
   "execution_count": 32,
   "metadata": {},
   "outputs": [
    {
     "data": {
      "text/plain": [
       "0"
      ]
     },
     "metadata": {},
     "output_type": "display_data"
    }
   ],
   "source": [
    "#assign isotropic mechanical properties to material | Asigna Propiedades isotropicas al material en MPa\n",
    "res = smodel.PropMaterial.SetMPIsotropic(\n",
    "    'CONC', # nombre\n",
    "    3600, # E: modulo young o elasticidad\n",
    "    0.2, # v: modulo de posson\n",
    "    0.0000055 # T: Coeficiente termico\n",
    "    )\n",
    "display(res)"
   ]
  },
  {
   "cell_type": "markdown",
   "metadata": {},
   "source": [
    "**8. Se establece propiedades de material para el Frame**"
   ]
  },
  {
   "cell_type": "code",
   "execution_count": 33,
   "metadata": {},
   "outputs": [
    {
     "data": {
      "text/plain": [
       "0"
      ]
     },
     "metadata": {},
     "output_type": "display_data"
    }
   ],
   "source": [
    "#define rectangular frame section property | Define seccion de tipo rectangular al elemento (frame)\n",
    "res = smodel.PropFrame.SetRectangle('R1', 'CONC', 12, 12)\n",
    "display(res)"
   ]
  },
  {
   "cell_type": "code",
   "execution_count": 34,
   "metadata": {},
   "outputs": [
    {
     "data": {
      "text/plain": [
       "[(1000.0, 0.0, 0.0, 1.0, 1.0, 1.0, 1.0, 1.0), 0]"
      ]
     },
     "metadata": {},
     "output_type": "display_data"
    }
   ],
   "source": [
    "#define frame section property modifiers | Define Modificadores de propiedades al frame\n",
    "ModValue = [1000, 0, 0, 1, 1, 1, 1, 1]\n",
    "res = smodel.PropFrame.SetModifiers('R1', ModValue)\n",
    "display(res)"
   ]
  },
  {
   "cell_type": "markdown",
   "metadata": {},
   "source": [
    "**9. Se establece Unidades para el modelo**"
   ]
  },
  {
   "cell_type": "code",
   "execution_count": 35,
   "metadata": {},
   "outputs": [
    {
     "data": {
      "text/plain": [
       "0"
      ]
     },
     "metadata": {},
     "output_type": "display_data"
    }
   ],
   "source": [
    "# #switch to k-ft units\n",
    "kip_ft_F = 4\n",
    "res = smodel.SetPresentUnits(kip_ft_F)\n",
    "display(res)"
   ]
  },
  {
   "cell_type": "markdown",
   "metadata": {},
   "source": [
    "**10. Se establece la geometria (vertices o coordenadas) y elementos**"
   ]
  },
  {
   "cell_type": "code",
   "execution_count": 36,
   "metadata": {},
   "outputs": [
    {
     "data": {
      "text/plain": [
       "['3', 0]"
      ]
     },
     "metadata": {},
     "output_type": "display_data"
    }
   ],
   "source": [
    "#add frame object by coordinates\n",
    "FrameName1 = ' '\n",
    "FrameName2 = ' '\n",
    "FrameName3 = ' '\n",
    "[FrameName1, res] = smodel.FrameObj.AddByCoord(0, 0, 0, 0, 0, 10, FrameName1, 'R1', '1', 'Global')\n",
    "[FrameName2, res] = smodel.FrameObj.AddByCoord(0, 0, 10, 8, 0, 16, FrameName2, 'R1', '2', 'Global')\n",
    "[FrameName3, res] = smodel.FrameObj.AddByCoord(-4, 0, 10, 0, 0, 10, FrameName3, 'R1', '3', 'Global')\n",
    "display([FrameName3, res])"
   ]
  },
  {
   "cell_type": "code",
   "execution_count": 37,
   "metadata": {},
   "outputs": [
    {
     "data": {
      "image/png": "[encoded data removed]",
      "text/plain": [
       "<Figure size 640x480 with 1 Axes>"
      ]
     },
     "metadata": {},
     "output_type": "display_data"
    }
   ],
   "source": [
    "import numpy as np\n",
    "from matplotlib import pyplot as plt\n",
    "# from mpl_toolkits.mplot3d import Axes3D\n",
    "\n",
    "coords = np.array([[0,0,0],[0,0,10],[8,0,16],[-4,0,10]]);\n",
    "i, j = None, None\n",
    "plt.figure(1)\n",
    "plt.axes(projection='3d')\n",
    "for e in range (1,4):\n",
    "    elems = smodel.FrameObj.GetPoints(str(e), i, j);\n",
    "    deNodo = int(elems[0])\n",
    "    alNodo = int(elems[1])\n",
    "    cxyz = np.array([\\\n",
    "        [coords[deNodo-1,0], coords[deNodo-1,1], coords[deNodo-1,2]], \n",
    "        [coords[alNodo-1,0], coords[alNodo-1,1], coords[alNodo-1,2]]\n",
    "    ]);\n",
    "    plt.plot(cxyz[:,0],cxyz[:,1], cxyz[:,2], 'k-', lw=1);\n",
    "\n",
    "plt.grid()"
   ]
  },
  {
   "cell_type": "markdown",
   "metadata": {},
   "source": [
    "**11. Se asigna las restricciones o condiciones de borde o apoyos**"
   ]
  },
  {
   "cell_type": "code",
   "execution_count": 38,
   "metadata": {},
   "outputs": [
    {
     "data": {
      "text/plain": [
       "['1', '2', 0]"
      ]
     },
     "metadata": {},
     "output_type": "display_data"
    },
    {
     "data": {
      "text/plain": [
       "[(True, True, True, True, False, False), 0]"
      ]
     },
     "metadata": {},
     "output_type": "display_data"
    }
   ],
   "source": [
    "#assign point object restraint at base\n",
    "PointName1 = ' '\n",
    "PointName2 = ' '\n",
    "#           [Fx,   Fy,   Fz,   Rx,   Ry,    Rz]\n",
    "Restraint = [True, True, True, True, False, False]\n",
    "[PointName1, PointName2, res] = smodel.FrameObj.GetPoints(FrameName1, PointName1, PointName2)\n",
    "display([PointName1, PointName2, res])\n",
    "\n",
    "res = smodel.PointObj.SetRestraint(PointName1, Restraint)\n",
    "display(res)"
   ]
  },
  {
   "cell_type": "code",
   "execution_count": 39,
   "metadata": {},
   "outputs": [
    {
     "data": {
      "text/plain": [
       "[(True, True, False, False, False, False), 0]"
      ]
     },
     "metadata": {},
     "output_type": "display_data"
    }
   ],
   "source": [
    "#assign point object restraint at top\n",
    "#           [Fx,   Fy,   Fz,   Rx,   Ry,    Rz]\n",
    "Restraint = [True, True, False, False, False, False]\n",
    "[PointName1, PointName2, res] = smodel.FrameObj.GetPoints(FrameName2, PointName1, PointName2)\n",
    "res = smodel.PointObj.SetRestraint(PointName2, Restraint)\n",
    "display(res)"
   ]
  },
  {
   "cell_type": "markdown",
   "metadata": {},
   "source": [
    "**12. Se refresca el modelo**"
   ]
  },
  {
   "cell_type": "code",
   "execution_count": 40,
   "metadata": {},
   "outputs": [
    {
     "data": {
      "text/plain": [
       "0"
      ]
     },
     "metadata": {},
     "output_type": "display_data"
    }
   ],
   "source": [
    "#refresh view, update (initialize) zoom\n",
    "res = smodel.View.RefreshView(0, False)\n",
    "display(res)"
   ]
  },
  {
   "cell_type": "markdown",
   "metadata": {},
   "source": [
    "**13. Se establece las cargas puntuales y distribuidas a la estructura**"
   ]
  },
  {
   "cell_type": "code",
   "execution_count": 41,
   "metadata": {},
   "outputs": [
    {
     "data": {
      "text/plain": [
       "0"
      ]
     },
     "metadata": {},
     "output_type": "display_data"
    },
    {
     "data": {
      "text/plain": [
       "0"
      ]
     },
     "metadata": {},
     "output_type": "display_data"
    },
    {
     "data": {
      "text/plain": [
       "[(0.0, 0.0, -17.2, 0.0, -54.4, 0.0), 0]"
      ]
     },
     "metadata": {},
     "output_type": "display_data"
    },
    {
     "data": {
      "text/plain": [
       "0"
      ]
     },
     "metadata": {},
     "output_type": "display_data"
    },
    {
     "data": {
      "text/plain": [
       "0"
      ]
     },
     "metadata": {},
     "output_type": "display_data"
    },
    {
     "data": {
      "text/plain": [
       "0"
      ]
     },
     "metadata": {},
     "output_type": "display_data"
    },
    {
     "data": {
      "text/plain": [
       "0"
      ]
     },
     "metadata": {},
     "output_type": "display_data"
    }
   ],
   "source": [
    "#add load patterns\n",
    "LTYPE_OTHER = 8\n",
    "res = smodel.LoadPatterns.Add('1', LTYPE_OTHER, 1, True)\n",
    "res = smodel.LoadPatterns.Add('2', LTYPE_OTHER, 0, True)\n",
    "res = smodel.LoadPatterns.Add('3', LTYPE_OTHER, 0, True)\n",
    "res = smodel.LoadPatterns.Add('4', LTYPE_OTHER, 0, True)\n",
    "res = smodel.LoadPatterns.Add('5', LTYPE_OTHER, 0, True)\n",
    "res = smodel.LoadPatterns.Add('6', LTYPE_OTHER, 0, True)\n",
    "res = smodel.LoadPatterns.Add('7', LTYPE_OTHER, 0, True)\n",
    "display(res)\n",
    "\n",
    "#assign loading for load pattern 2\n",
    "[PointName1, PointName2, res] = smodel.FrameObj.GetPoints(FrameName3, PointName1, PointName2)\n",
    "PointLoadValue = [0,0,-10,0,0,0]\n",
    "res = smodel.PointObj.SetLoadForce(PointName1, '2', PointLoadValue)\n",
    "res = smodel.FrameObj.SetLoadDistributed(FrameName3, '2', 1, 10, 0, 1, 1.8, 1.8)\n",
    "display(res)\n",
    "\n",
    "#assign loading for load pattern 3\n",
    "[PointName1, PointName2, res] = smodel.FrameObj.GetPoints(FrameName3, PointName1, PointName2)\n",
    "PointLoadValue = [0,0,-17.2,0,-54.4,0]\n",
    "res = smodel.PointObj.SetLoadForce(PointName2, '3', PointLoadValue)\n",
    "display(res)\n",
    "\n",
    "#assign loading for load pattern 4\n",
    "res = smodel.FrameObj.SetLoadDistributed(FrameName2, '4', 1, 11, 0, 1, 2, 2)\n",
    "display(res)\n",
    "\n",
    "#assign loading for load pattern 5\n",
    "res = smodel.FrameObj.SetLoadDistributed(FrameName1, '5', 1, 2, 0, 1, 2, 2, 'Local')\n",
    "res = smodel.FrameObj.SetLoadDistributed(FrameName2, '5', 1, 2, 0, 1, -2, -2, 'Local')\n",
    "display(res)\n",
    "\n",
    "#assign loading for load pattern 6\n",
    "res = smodel.FrameObj.SetLoadDistributed(FrameName1, '6', 1, 2, 0, 1, 0.9984, 0.3744, 'Local')\n",
    "res = smodel.FrameObj.SetLoadDistributed(FrameName2, '6', 1, 2, 0, 1, -0.3744, 0, 'Local')\n",
    "display(res)\n",
    "\n",
    "#assign loading for load pattern 7\n",
    "res = smodel.FrameObj.SetLoadPoint(FrameName2, '7', 1, 2, 0.5, -15, 'Local')\n",
    "display(res)\n"
   ]
  },
  {
   "cell_type": "markdown",
   "metadata": {},
   "source": [
    "**14. establecemos las unidades de las cargas**"
   ]
  },
  {
   "cell_type": "code",
   "execution_count": 42,
   "metadata": {},
   "outputs": [
    {
     "data": {
      "text/plain": [
       "0"
      ]
     },
     "execution_count": 42,
     "metadata": {},
     "output_type": "execute_result"
    }
   ],
   "source": [
    "#switch to k-in units\n",
    "kip_in_F = 3\n",
    "smodel.SetPresentUnits(kip_in_F)"
   ]
  },
  {
   "cell_type": "markdown",
   "metadata": {},
   "source": [
    "**15. Guardamos el modelo**"
   ]
  },
  {
   "cell_type": "code",
   "execution_count": 43,
   "metadata": {},
   "outputs": [],
   "source": [
    "APIPath = 'C:\\\\CSi_API_Example'\n",
    "if not os.path.exists(APIPath):\n",
    "    try:\n",
    "        os.makedirs(APIPath)\n",
    "    except OSError:\n",
    "        pass\n",
    "ModelPath = APIPath + os.sep + 'API_1-001.sdb'\n"
   ]
  },
  {
   "cell_type": "code",
   "execution_count": 44,
   "metadata": {},
   "outputs": [
    {
     "data": {
      "text/plain": [
       "0"
      ]
     },
     "execution_count": 44,
     "metadata": {},
     "output_type": "execute_result"
    }
   ],
   "source": [
    "#save model\n",
    "smodel.File.Save(ModelPath)"
   ]
  },
  {
   "cell_type": "markdown",
   "metadata": {},
   "source": [
    "**16. Ejecutar analisis**"
   ]
  },
  {
   "cell_type": "code",
   "execution_count": 45,
   "metadata": {},
   "outputs": [
    {
     "data": {
      "text/plain": [
       "0"
      ]
     },
     "execution_count": 45,
     "metadata": {},
     "output_type": "execute_result"
    }
   ],
   "source": [
    "#run model (this will create the analysis model)\n",
    "smodel.Analyze.RunAnalysis()"
   ]
  },
  {
   "cell_type": "markdown",
   "metadata": {},
   "source": [
    "**Acceso a metodo `SetModelIsLocked(arg)`, el argumento debe ser un boleano**"
   ]
  },
  {
   "cell_type": "code",
   "execution_count": 46,
   "metadata": {},
   "outputs": [
    {
     "name": "stdout",
     "output_type": "stream",
     "text": [
      "True\n"
     ]
    }
   ],
   "source": [
    "# Unlocking model | Abriendo modelo para establecer nueva ejecucion (hace referencia al candadito)\n",
    "# smodel.SetModelIsLocked(False)\n",
    "# get value | Optner el valor.\n",
    "print(smodel.GetModelIsLocked()) # False"
   ]
  },
  {
   "cell_type": "markdown",
   "metadata": {},
   "source": [
    "Cerramos la Coneccion o la aplicacion"
   ]
  },
  {
   "cell_type": "code",
   "execution_count": 51,
   "metadata": {},
   "outputs": [
    {
     "name": "stdout",
     "output_type": "stream",
     "text": [
      "Se cerro con exito.\n"
     ]
    }
   ],
   "source": [
    "if (SAP2000Object.ApplicationExit(False)):\n",
    "    print(\"SAP2000, No se pudo cerrar\")\n",
    "else:\n",
    "    print(\"Se cerro con exito.\")\n",
    "\n",
    "smodel = None\n",
    "SAP2000Object = None\n",
    "del smodel, SAP2000Object, res\n",
    "exit(-1)"
   ]
  },
  {
   "cell_type": "markdown",
   "metadata": {},
   "source": [
    "**17. desplazamientos**"
   ]
  },
  {
   "cell_type": "code",
   "execution_count": 50,
   "metadata": {},
   "outputs": [
    {
     "name": "stdout",
     "output_type": "stream",
     "text": [
      "[-0.02641139257979737, -0.02639, 0.0008106320499192687]\n",
      "[0.06295961111187433, 0.06296, -6.176749137165594e-06]\n",
      "[0.06295961111187433, 0.06296, -6.176749137165594e-06]\n",
      "[-0.2963018518554431, -0.2963, 6.2499339963384415e-06]\n",
      "[0.31250185185563956, 0.3125, 5.925938046491552e-06]\n",
      "[0.11555582518658579, 0.11556, -3.6126803515168504e-05]\n",
      "[0.006511371527856692, 0.00651, 0.00021068016231828857]\n"
     ]
    }
   ],
   "source": [
    "#initialize for results | \n",
    "ProgramResult = [0,0,0,0,0,0,0]\n",
    "[PointName1, PointName2, res] = smodel.FrameObj.GetPoints(FrameName2, PointName1, PointName2)\n",
    "\n",
    "#get results for load cases 1 through 7 | Optenemos los resultados para los casos de carga de 1 al 7\n",
    "for i in range(0,7):\n",
    "    NumberResults = 0\n",
    "    Obj = []\n",
    "    Elm = []\n",
    "    ACase = []\n",
    "    StepType = []\n",
    "    StepNum = []\n",
    "    U1 = []\n",
    "    U2 = []\n",
    "    U3 = []\n",
    "    R1 = []\n",
    "    R2 = []\n",
    "    R3 = []\n",
    "    ObjectElm = 0\n",
    "    res = smodel.Results.Setup.DeselectAllCasesAndCombosForOutput()\n",
    "    res = smodel.Results.Setup.SetCaseSelectedForOutput(str(i + 1))\n",
    "    if i <= 3:\n",
    "        [NumberResults, Obj, Elm, ACase, StepType, StepNum, U1, U2, U3, R1, R2, R3, res] = smodel.Results.JointDispl(PointName2, ObjectElm, NumberResults, Obj, Elm, ACase, StepType, StepNum, U1, U2, U3, R1, R2, R3)\n",
    "        ProgramResult[i] = U3[0]\n",
    "    else:\n",
    "        [NumberResults, Obj, Elm, ACase, StepType, StepNum, U1, U2, U3, R1, R2, R3, res] = smodel.Results.JointDispl(PointName1, ObjectElm, NumberResults, Obj, Elm, ACase, StepType, StepNum, U1, U2, U3, R1, R2, R3)\n",
    "        ProgramResult[i] = U1[0]"
   ]
  },
  {
   "cell_type": "markdown",
   "metadata": {},
   "source": [
    "Test o prueba de resultados"
   ]
  },
  {
   "cell_type": "code",
   "execution_count": null,
   "metadata": {},
   "outputs": [],
   "source": [
    "#fill independent results | Estos datos son para comparar o lo mismo que test\n",
    "IndResult = [0,0,0,0,0,0,0]\n",
    "IndResult[0] = -0.02639\n",
    "IndResult[1] = 0.06296\n",
    "IndResult[2] = 0.06296\n",
    "IndResult[3] = -0.2963\n",
    "IndResult[4] = 0.3125\n",
    "IndResult[5] = 0.11556\n",
    "IndResult[6] = 0.00651\n",
    "\n",
    "#fill percent difference | Porcentaje de error en calculo\n",
    "PercentDiff = [0,0,0,0,0,0,0]\n",
    "for i in range(0,7):\n",
    "    PercentDiff[i] = (ProgramResult[i] / IndResult[i]) - 1\n",
    "    #display results | se muestra los resultados optenidos\n",
    "    print([ ProgramResult[i], IndResult[i], PercentDiff[i] ])"
   ]
  },
  {
   "cell_type": "code",
   "execution_count": null,
   "metadata": {},
   "outputs": [],
   "source": [
    "correct_displacement = np.array(IndResult).round(4); # Datos de calculo manual\n",
    "calculated_disp = np.array(ProgramResult).round(4); # calculo generado\n",
    "assert np.allclose(calculated_disp, correct_displacement), \" Your scritp is probably wrong\"\n",
    "print(\"All correct. Good work !.\")"
   ]
  }
 ],
 "metadata": {
  "kernelspec": {
   "display_name": "Python 3",
   "language": "python",
   "name": "python3"
  },
  "language_info": {
   "codemirror_mode": {
    "name": "ipython",
    "version": 3
   },
   "file_extension": ".py",
   "mimetype": "text/x-python",
   "name": "python",
   "nbconvert_exporter": "python",
   "pygments_lexer": "ipython3",
   "version": "3.11.5"
  }
 },
 "nbformat": 4,
 "nbformat_minor": 2
}
