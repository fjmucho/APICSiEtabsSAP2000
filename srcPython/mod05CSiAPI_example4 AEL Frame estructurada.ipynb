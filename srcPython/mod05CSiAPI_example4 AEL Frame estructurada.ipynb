{
 "cells": [
  {
   "cell_type": "markdown",
   "metadata": {},
   "source": [
    "<center>\n",
    "    <h1 style=\"font-size: 12; font-weight: 900; \">--- 5 ---<h1>\n",
    "    <h2>CSiAPI - ETABS y SAP2000</h2>\n",
    "    <!-- <p><strong></strong</p> -->\n",
    "</center>"
   ]
  },
  {
   "cell_type": "markdown",
   "metadata": {},
   "source": [
    "## Marco Parametrico (Frame 2D)"
   ]
  },
  {
   "cell_type": "code",
   "execution_count": 244,
   "metadata": {},
   "outputs": [],
   "source": [
    "import os, sys"
   ]
  },
  {
   "cell_type": "code",
   "execution_count": 245,
   "metadata": {},
   "outputs": [],
   "source": [
    "import numpy as np"
   ]
  },
  {
   "cell_type": "code",
   "execution_count": 246,
   "metadata": {},
   "outputs": [],
   "source": [
    "import comtypes.client"
   ]
  },
  {
   "cell_type": "markdown",
   "metadata": {},
   "source": [
    "### 1. Uso de sistema de Unidades"
   ]
  },
  {
   "cell_type": "code",
   "execution_count": 247,
   "metadata": {},
   "outputs": [],
   "source": [
    "# Unidades Base mks\n",
    "m = 1\n",
    "kg = 1\n",
    "s = 1\n",
    "\n",
    "# Otras Unidades\n",
    "cm = 0.01*m\n",
    "kgf = 9.80665*kg*m/s**2\n",
    "tonf = 1000*kgf\n",
    "\n",
    "# Constantes Físicas\n",
    "g = 9.80665*m/s**2\n",
    "\n",
    "# configuraciones de unidades\n",
    "units = {\n",
    "    'kN_m_C': 6,\n",
    "    'kgf_m_C': 8,\n",
    "    'Tonf_m_C': 12,\n",
    "}"
   ]
  },
  {
   "cell_type": "markdown",
   "metadata": {},
   "source": [
    "### 2. Ejemplos o Modelos"
   ]
  },
  {
   "cell_type": "markdown",
   "metadata": {},
   "source": [
    "#### Ejemplo-01a (2D)"
   ]
  },
  {
   "cell_type": "markdown",
   "metadata": {},
   "source": [
    "Analizar completamente la estructura mostrada. Considerar que el marco es de concreto armado donde E = 217370.65 kg/cm2 y las propiedades geométricas de los elementos estructurales son para vigas: 25 × 50 cm2 y para columnas: 25 × 25 cm2. La zapata en el apoyo izquierdo\n",
    "es de 80 × 80 cm2 y en el apoyo derecho es de 100 × 100 cm2.\n",
    "\n",
    "<center>\n",
    "\n",
    "![e-02](./images/e2.png)\n",
    "\n",
    "</center>\n",
    "\n",
    "Nota: El presente ejercicio es resuelto en el PROBLEMA 10-10 con simulación de apoyo elástico. ref (Alder Jhosue Quispe Panca)"
   ]
  },
  {
   "cell_type": "code",
   "execution_count": 248,
   "metadata": {},
   "outputs": [],
   "source": [
    "fc = 210 * (kg/cm**2)   # Concrete strength [kg/cm2]\n",
    "# E = 151 * fc **0.5 *(kgf/cm**2)\n",
    "E = 217370.65 *(kg/cm**2);\n",
    "v = 0.2;\n",
    "G = 0.5 *E / (1+v); # Shear modulus [kgf/cm**2]\n",
    "coeficienteTermico = 0;\n",
    "\n",
    "material_name = f'fc={str(fc)} kg/cm^2'; # fc=280 kg/cm^2\n",
    "material_type = 2;\n",
    "\n",
    "# --- secciones para la viga y columna\n",
    "#     [Define > Section Properties > Frame Sections... > Add New Property... > ... ]\n",
    "secBeamb = 25*cm; # cm\n",
    "secBeamh = 50*cm; # cm\n",
    "beamName = f'V{str(secBeamb)}x{str(secBeamh)}'\n",
    "secColumnb = 25*cm; # cm\n",
    "secColumnh = 25*cm; # cm\n",
    "columnName = f'C{str(secColumnb)}x{str(secColumnh)}'\n",
    "\n",
    "coords = np.array([\n",
    "    [0.0, 0.0, 0.0],\n",
    "    [5.0, 0.0, 0.0],\n",
    "    [0.0, 0.0, 4.0],\n",
    "    [5.0, 0.0, 4.0],\n",
    "    [0.0, 0.0, 7.0],\n",
    "    [5.0, 0.0, 7.0],\n",
    "]);\n",
    "elems = np.array([\n",
    "    [0, 2, 1], # columna=1\n",
    "    [1, 3, 1], # columna\n",
    "    [2, 3, 2], # viga=2\n",
    "    [2, 4, 1], # columna\n",
    "    [3, 5, 1], # columna\n",
    "    [4, 5, 2], # viga\n",
    "]);\n",
    "\n",
    "apoyos = np.array([\n",
    "    [0, True, True, True, True, True, True],\n",
    "    [1, True, True, True, True, True, True],\n",
    "]);\n",
    "\n",
    "use_unit_point = units['kgf_m_C'] # kN_m_C\n",
    "# cargas puntuales --- [Assign > Joint Loads > Forces]\n",
    "NameLoadP, LTYPE = \"CPuntual\", 8 # LTYPE_OTHER=8\n",
    "#   cargasEnNodo[idNodo, Fx,Fy,Fz, Rx,Ry,Rz]\n",
    "cargasEnNodo = np.array([\n",
    "    [2, 700, 0.0, 0.0, 0.0, 0.0, 0.0],\n",
    "    [5, 1_000, 0.0, 0.0, 0.0, 0.0, 0.0],\n",
    "])\n",
    "\n",
    "use_unit_distr = units['kgf_m_C'] #\n",
    "DeadName, LiveName = \"CargaMuerta\", \"CargaViva\"\n",
    "# cargas distribuidas --- [Define > Frame Loads > Distributed...]\n",
    "#   cargasDistr{idElem, [tipoCarga, force (F/L) or moment (M/L), [1:g=X,2:r=Y,3:b=Z], iLoad,jLoad]\n",
    "cargasDistr = {\n",
    "    \"3\": [(), (LiveName, 1, 2, 0,1, -1200.0, -1200.0)],\n",
    "    \"6\": [(), (LiveName, 1, 2, 0,1, -1200.0, -1200.0)],\n",
    " } # [kg/m]\n",
    "\n",
    "nameModelProject = 'Marco de 2 Niveles Regular (2D)'\n",
    "connect_to = 1 # Coneccion: 1 para sap2000 y 2 para etabs\n",
    "\n",
    "# Variable para definir una instancia manual para el programa y definir la ruta.\n",
    "rutaEspecifica = False\n",
    "if rutaEspecifica:\n",
    "    ruta_app = \"C:\\\\Program Files\\\\Computers and Structures\\\\SAP2000 23\\\\SAP2000.exe\" if connect_to else \"C:\\\\Program Files\\\\Computers and Structures\\\\ETABS 21\\\\ETABS.exe\"\n",
    "else: \n",
    "    ruta_app = None"
   ]
  },
  {
   "cell_type": "markdown",
   "metadata": {},
   "source": [
    "#### Ejemplo-02a (3D)"
   ]
  },
  {
   "cell_type": "markdown",
   "metadata": {},
   "source": [
    "pag.298 Example 6.2"
   ]
  },
  {
   "cell_type": "code",
   "execution_count": 249,
   "metadata": {},
   "outputs": [],
   "source": [
    "# ton_m_C = 12\n",
    "# SapModel.SetPresentUnits(ton_m_C) # Tonf, m, C|\n",
    "\n",
    "# material_concrete = 2 # material_type = 2;\n",
    "# SapModel.SetMaterial('CONC280', material_concrete)\n",
    "\n",
    "# E= 15000*(280**0.5)*10000\n",
    "# SapModel.SetMaterialProperty('CONC280', \n",
    "#                              E, \n",
    "#                              0.2, \n",
    "#                              9.9e6)\n",
    "\n",
    "# H = 3.50\n",
    "# Lx = 4.50\n",
    "# Ly = 4.50\n",
    "# coords = np.array([\n",
    "#     '1': (0.0, 0.0, 0.0),\n",
    "#     '2': (Lx, 0.0, 0.0),\n",
    "#     '3': (Lx, Ly, 0.0),\n",
    "#     '4': (0.0, Ly, 0.0),\n",
    "#     '5': (0.0, 0.0, 1.2*H),\n",
    "#     '6': (Lx, 0.0, 5*H),\n",
    "#     '7': (Lx, Ly, 1.2*H),\n",
    "#     '8': (0.0, Ly, 5*H),\n",
    "# ])\n",
    "# for label, (x,y,z) in coords.items():\n",
    "#     SapModel.PointObj.AddCartesian(x, y, z, label)\n",
    "\n",
    "# for nodei in ['1','2','3','4']:\n",
    "#     SapModel.PointObj.SetRestraint(nodei, \n",
    "#         [True, True, True, \n",
    "#         True, True, True])  \n",
    "    \n",
    "# SapModel.FrameObj.AddByCoord(0,0,0,0,0,H, '', 'COL45x45')\n",
    "# SapModel.FrameObj.AddByCoord(Lx,0,0,Lx,0,H, '', 'COL45x45')\n",
    "# SapModel.FrameObj.AddByCoord(Lx,Ly,0,Lx,Ly,H, '', 'COL45x45')\n",
    "# SapModel.FrameObj.AddByCoord(0,Ly,0,0,Ly,H, '', 'COL45x45')\n",
    "\n",
    "# SapModel.FrameObj.AddByCoord(0,0,H, Lx,0,H, '', 'V1', 'VIG30x60')\n",
    "# SapModel.FrameObj.AddByCoord(Lx,0,H, Lx,Ly,H, '', 'V2', 'VIG30x60')\n",
    "# SapModel.FrameObj.AddByCoord(Lx,Ly,H, 0,Ly,H, '', 'V3', 'VIG30x60')\n",
    "# SapModel.FrameObj.AddByCoord(0,Ly,H, 0,0,H, '', 'V4', 'VIG30x60')\n",
    "\n",
    "# SapModel.LoadPatterns.Add('DEAD1', 1, True)\n",
    "# SapModel.LoadPatterns.Add('LIVE1', 3, True)\n",
    "\n",
    "# # carga distribuida\n",
    "# q=1.2 # ton/m\n",
    "# SapModel.FrameObj.SetLoadDistributed('5', 'DEAD1', 1, 10, 0, 1, q, q, 'Global')\n",
    "# SapModel.FrameObj.SetLoadDistributed('5', 'DEAD1', 1, 10, 0, 1, q, q, 'Global')\n",
    "# SapModel.FrameObj.SetLoadDistributed('6', 'DEAD1', 1, 10, 0, 1, q, q, 'Global')\n",
    "# SapModel.FrameObj.SetLoadDistributed('7', 'DEAD1', 1, 10, 0, 1, q, q, 'Global')\n",
    "# SapModel.FrameObj.SetLoadDistributed('8', 'DEAD1', 1, 10, 0, 1, q, q, 'Global')\n",
    "\n",
    "# SapModel.PointObj.SetLoadForce('5', 'LIVE1', [2.0, 0.0, 0.0, 0.0, 0.0, 0.0])\n",
    "# SapModel.PointObj.SetLoadForce('6', 'LIVE1', [2.0, 0.0, 0.0, 0.0, 0.0, 0.0])\n",
    "\n",
    "# SapModel.RespCombo.Add('COMBO1', 0)\n",
    "# SapModel.RespCombo.SetCaseList('COMBO1', 0, 'DEAD1', 1.0)\n",
    "# SapModel.RespCombo.SetCaseList('COMBO1', 0, 'LIVE1', 1.0)\n",
    "\n",
    "\n"
   ]
  },
  {
   "cell_type": "markdown",
   "metadata": {},
   "source": [
    "### 3. Coneccion al API CSI (SAP2000 or ETABS)"
   ]
  },
  {
   "cell_type": "markdown",
   "metadata": {},
   "source": [
    "#### PlotModel"
   ]
  },
  {
   "cell_type": "code",
   "execution_count": 250,
   "metadata": {},
   "outputs": [
    {
     "data": {
      "image/png": "[encoded data removed]",
      "text/plain": [
       "<Figure size 640x480 with 1 Axes>"
      ]
     },
     "metadata": {},
     "output_type": "display_data"
    }
   ],
   "source": [
    "from utilities.plotModel import plotModel2d, plotModel3d\n",
    "\n",
    "plotModel2d(coords, elems, nameModelProject)"
   ]
  },
  {
   "cell_type": "markdown",
   "metadata": {},
   "source": [
    "#### Conexion al API"
   ]
  },
  {
   "cell_type": "code",
   "execution_count": 251,
   "metadata": {},
   "outputs": [],
   "source": [
    "from utilities.connectcsi import ConnectCSiAPI"
   ]
  },
  {
   "cell_type": "code",
   "execution_count": 252,
   "metadata": {},
   "outputs": [
    {
     "name": "stdout",
     "output_type": "stream",
     "text": [
      "Software: SAP2000\n",
      "No se encontró ninguna instancia en ejecución del programa(SAP2000).\n",
      "Coneccion establecida para SAP2000!.\n"
     ]
    }
   ],
   "source": [
    "smodel, response = None, None\n",
    "\n",
    "connection = ConnectCSiAPI(connect_to)\n",
    "response, connect_to_app = connection.attach_to_instance()\n",
    "if not(response):\n",
    "    response, connect_to_app = connection.connect_default()"
   ]
  },
  {
   "cell_type": "code",
   "execution_count": 253,
   "metadata": {},
   "outputs": [],
   "source": [
    "connect_to_app.ApplicationStart()\n",
    "\n",
    "smodel = connect_to_app.SapModel"
   ]
  },
  {
   "cell_type": "markdown",
   "metadata": {},
   "source": [
    "### 4. Se crea un nuevo Lienzo y Modelo"
   ]
  },
  {
   "cell_type": "code",
   "execution_count": 254,
   "metadata": {},
   "outputs": [
    {
     "name": "stdout",
     "output_type": "stream",
     "text": [
      "dict_items([('kN_m_C', 6), ('kgf_m_C', 8), ('Tonf_m_C', 12)])\n",
      "12\n",
      "Success\n"
     ]
    }
   ],
   "source": [
    "# ------------------- creacion de nuevo modelo ------------------\n",
    "\n",
    "# Se crea un nuevo lienzo\n",
    "# smodel.InitializeNewModel;\n",
    "smodel.InitializeNewModel(units['Tonf_m_C']); # esto es equivalente a la anterios \n",
    "response = smodel.SetModelIsLocked(False)\n",
    "\n",
    "print(f\"{units.items()}\\n{smodel.GetPresentUnits()}\")\n",
    "\n",
    "if connect_to == 2: \n",
    "    response = smodel.File.NewGridOnly(3, 3*m,3*m, 5*m,4*m, 4*m,4*m)\n",
    "else: response = smodel.File.NewBlank()\n",
    "\n",
    "print(f\"{'Success' if not(response) else 'Error'}\")"
   ]
  },
  {
   "cell_type": "code",
   "execution_count": 255,
   "metadata": {},
   "outputs": [],
   "source": [
    "smodel.View.RefreshView(0, False);"
   ]
  },
  {
   "cell_type": "markdown",
   "metadata": {},
   "source": [
    "### 5. Definimos o establecemos las propiedades del material (Concrete or Steel)"
   ]
  },
  {
   "cell_type": "code",
   "execution_count": 256,
   "metadata": {},
   "outputs": [
    {
     "name": "stdout",
     "output_type": "stream",
     "text": [
      "TIPO DE MATERIAL: success\n",
      "Propiedades mecanicas del material: success\n"
     ]
    }
   ],
   "source": [
    "# definicion del material\n",
    "response_status = smodel.PropMaterial.SetMaterial( material_name, material_type )\n",
    "print(f\"TIPO DE MATERIAL: {'success' if not(response_status) else 'Error'}\")\n",
    "\n",
    "# propiedades mecanicas del material\n",
    "response_status = smodel.PropMaterial.SetMPIsotropic( material_name, E, v, coeficienteTermico )\n",
    "print(f\"Propiedades mecanicas del material: {'success' if not(response_status) else 'Error'}\")"
   ]
  },
  {
   "cell_type": "code",
   "execution_count": 257,
   "metadata": {},
   "outputs": [
    {
     "name": "stdout",
     "output_type": "stream",
     "text": [
      "Secciones viga: success\n",
      "Secciones columna: success\n"
     ]
    }
   ],
   "source": [
    "# Secciones de viga y columna\n",
    "response_status_v = smodel.PropFrame.SetRectangle(beamName, material_name, secBeamb, secBeamh) # seccion para la viga\n",
    "response_status_c = smodel.PropFrame.SetRectangle(columnName, material_name, secColumnb, secColumnh) # seccion para la columna\n",
    "\n",
    "print(f\"Secciones viga: {'success' if not(response_status_v) else 'Error'}\\nSecciones columna: {'success' if not(response_status_c) else 'Error'}\")"
   ]
  },
  {
   "cell_type": "code",
   "execution_count": 258,
   "metadata": {},
   "outputs": [],
   "source": [
    "smodel.View.RefreshView(0, False);"
   ]
  },
  {
   "cell_type": "markdown",
   "metadata": {},
   "source": [
    "### 6. Geometria de la estructura"
   ]
  },
  {
   "cell_type": "code",
   "execution_count": 259,
   "metadata": {},
   "outputs": [
    {
     "name": "stdout",
     "output_type": "stream",
     "text": [
      "All frames deleted successfully. []\n"
     ]
    }
   ],
   "source": [
    "# Delete each frame object\n",
    "_, all_frames, _ = smodel.FrameObj.GetNameList()\n",
    "estado = []\n",
    "for frame in all_frames:\n",
    "    response = smodel.FrameObj.Delete(frame)\n",
    "    estado.append(response)\n",
    "print(f\"All frames deleted successfully. {estado}\")"
   ]
  },
  {
   "cell_type": "code",
   "execution_count": 260,
   "metadata": {},
   "outputs": [
    {
     "name": "stdout",
     "output_type": "stream",
     "text": [
      "FrameName1: C0.25x0.25 [x(0.0, 0.0)), (y(0.0, 0.0)),(z(0.0, 4.0))]: success\n",
      "FrameName2: C0.25x0.25 [x(5.0, 5.0)), (y(0.0, 0.0)),(z(0.0, 4.0))]: success\n",
      "FrameName3: V0.25x0.5 [x(0.0, 5.0)), (y(0.0, 0.0)),(z(4.0, 4.0))]: success\n",
      "FrameName4: C0.25x0.25 [x(0.0, 0.0)), (y(0.0, 0.0)),(z(4.0, 7.0))]: success\n",
      "FrameName5: C0.25x0.25 [x(5.0, 5.0)), (y(0.0, 0.0)),(z(4.0, 7.0))]: success\n",
      "FrameName6: V0.25x0.5 [x(0.0, 5.0)), (y(0.0, 0.0)),(z(7.0, 7.0))]: success\n"
     ]
    }
   ],
   "source": [
    "# 2da forma de ingreso por coordenadas (vertices y aristas)\n",
    "FrameName1, mbrName = '', ''\n",
    "for idx, mbr in enumerate(elems):\n",
    "    deNodo = int(mbr[0])\n",
    "    alNodo = int(mbr[1])\n",
    "    xi, yi, zi = coords[deNodo, 0].item(), coords[deNodo, 1].item(), coords[deNodo, 2].item()\n",
    "    xf, yf, zf = coords[alNodo, 0].item(), coords[alNodo, 1].item(), coords[alNodo, 2].item()\n",
    "\n",
    "    identificador = int(mbr[2]) # columna o viga\n",
    "    if identificador == 1: mbrName = columnName # columnas\n",
    "    elif identificador == 2: mbrName = beamName # vigas\n",
    "    else: pass\n",
    "\n",
    "    [FrameName1, response_status] = smodel.FrameObj.AddByCoord(\n",
    "        xi,yi,zi, xf,yf,zf, \"\"+str(idx+1), mbrName, str(idx+1), 'Global'\n",
    "        # xi,yi,zi, xf,yf,zf, str(idx+1), mbrName, str(idx+1), 'Global'\n",
    "    )\n",
    "\n",
    "    print(fr\"{\"FrameName\"+str(idx+1)}: {mbrName} [x{xi,xf}), (y{yi, yf}),(z{zi, zf})]: {'success' if not response_status else 'Error'}\")"
   ]
  },
  {
   "cell_type": "code",
   "execution_count": 261,
   "metadata": {},
   "outputs": [],
   "source": [
    "smodel.View.RefreshView(0, False);"
   ]
  },
  {
   "cell_type": "code",
   "execution_count": 262,
   "metadata": {},
   "outputs": [],
   "source": [
    "# restr = [True, True, True, True, True, True];\n",
    "# smodel.Pointobj.SetRestraint(point1, restr);\n",
    "# smodel.Pointobj.SetRestraint(point2, restr);\n",
    "\n",
    "# lpName = \"Test\";\n",
    "# # 1 = Force per unit length\n",
    "# # 2 = Moment per unit length\n",
    "# # smodel.FrameObj.SetLoadDistributed(FrameName, \"DEAD\", 1, 10, 0.0, 1.0, 15.0, 5.0);\n",
    "# smodel.FrameObj.SetLoadDistributed(frameName, lpName, 1, 10, 0.0, 1.0, 15.0, 5.0);\n"
   ]
  },
  {
   "cell_type": "markdown",
   "metadata": {},
   "source": [
    "### 7. Restricciones o condiciones de borde (apoyos)"
   ]
  },
  {
   "cell_type": "code",
   "execution_count": 263,
   "metadata": {},
   "outputs": [
    {
     "name": "stdout",
     "output_type": "stream",
     "text": [
      "0 [(True, True, True, True, True, True), 0] ['FrameName1', [1, 1, 1, 1, 1, 1]]\n",
      "0 [(True, True, True, True, True, True), 0] ['FrameName2', [1, 1, 1, 1, 1, 1]]\n"
     ]
    }
   ],
   "source": [
    "# nrestrict = apoyos.shape[0]\n",
    "\n",
    "node_i, node_j = ' ', ' '\n",
    "for node, restricts in enumerate(apoyos):\n",
    "\n",
    "    [node_i, node_j, response_status1] = smodel.FrameObj.GetPoints(\n",
    "        str(int(restricts[0])+1), \n",
    "        node_i, \n",
    "        node_j\n",
    "    )\n",
    "    response_status = smodel.Pointobj.SetRestraint(\n",
    "        node_i, \n",
    "        [*apoyos[node,1::].tolist()]\n",
    "    );\n",
    "    \n",
    "    print(response_status1, response_status, [\"FrameName\"+str(restricts[0]+1), apoyos[node,1::].tolist()])"
   ]
  },
  {
   "cell_type": "code",
   "execution_count": 264,
   "metadata": {},
   "outputs": [],
   "source": [
    "smodel.View.RefreshView(0, False);"
   ]
  },
  {
   "cell_type": "markdown",
   "metadata": {},
   "source": [
    "### 8. Se establece las cargas"
   ]
  },
  {
   "cell_type": "markdown",
   "metadata": {},
   "source": [
    "#### Carga Puntual en Horizontal o Vertical y Momento"
   ]
  },
  {
   "cell_type": "markdown",
   "metadata": {},
   "source": [
    "establecemos las unidades de las cargas"
   ]
  },
  {
   "cell_type": "code",
   "execution_count": 265,
   "metadata": {},
   "outputs": [
    {
     "name": "stdout",
     "output_type": "stream",
     "text": [
      "dict_items([('kN_m_C', 6), ('kgf_m_C', 8), ('Tonf_m_C', 12)])\n",
      "8\n"
     ]
    }
   ],
   "source": [
    "smodel.SetPresentUnits(use_unit_point) # configuracion de unidades para la carga\n",
    "print(f\"{units.items()}\\n{smodel.GetPresentUnits()}\")"
   ]
  },
  {
   "cell_type": "markdown",
   "metadata": {},
   "source": [
    "patron de carga"
   ]
  },
  {
   "cell_type": "code",
   "execution_count": 266,
   "metadata": {},
   "outputs": [
    {
     "data": {
      "text/plain": [
       "0"
      ]
     },
     "execution_count": 266,
     "metadata": {},
     "output_type": "execute_result"
    }
   ],
   "source": [
    "# eLoadPatternType\n",
    "smodel.LoadPatterns.Add(NameLoadP, LTYPE, True) # patron para la cargas puntuales (LTYPE_OTHER = 8)"
   ]
  },
  {
   "cell_type": "markdown",
   "metadata": {},
   "source": [
    "Asignamos la carga"
   ]
  },
  {
   "cell_type": "code",
   "execution_count": 267,
   "metadata": {},
   "outputs": [
    {
     "name": "stdout",
     "output_type": "stream",
     "text": [
      "[700.0, 0.0, 0.0, 0.0, 0.0, 0.0] estado = ok\n",
      "[1000.0, 0.0, 0.0, 0.0, 0.0, 0.0] estado = ok\n"
     ]
    }
   ],
   "source": [
    "#  --- cargas en nodos ---\n",
    "\n",
    "# altura_entrepiso = [2.5, 2.5, 3]\n",
    "# altura_acumulada = [sum(altura_entrepiso[:i]) for i in range(len(altura_entrepiso)+1)]\n",
    "# Colimna_i = [[(0,0,i), f'col_i_{i}'] for i in altura_acumulada]\n",
    "# for a,b in zip(Colimna_i, [0,5,10,12]):\n",
    "#     print(a[1])\n",
    "\n",
    "# response_status = smodel.FrameObj.SetLoadPoint('carga_puntual_horizontal_or_vertical', 'LIVE', 1, 40, 0.5, 1)\n",
    "for _, carga_en_nudo in enumerate(cargasEnNodo):\n",
    "    PointName1 = int(carga_en_nudo[0])\n",
    "    node_load = carga_en_nudo[1:].tolist()\n",
    "    response = smodel.PointObj.SetLoadForce(\n",
    "        str(PointName1), \n",
    "        NameLoadP, \n",
    "        node_load\n",
    "    )\n",
    "    \n",
    "    print( f\"{node_load} estado = {'ok' if not response[1] else 'Error'}\" )"
   ]
  },
  {
   "cell_type": "markdown",
   "metadata": {},
   "source": [
    "#### Carga Distribuidas"
   ]
  },
  {
   "cell_type": "code",
   "execution_count": 268,
   "metadata": {},
   "outputs": [
    {
     "data": {
      "text/plain": [
       "0"
      ]
     },
     "execution_count": 268,
     "metadata": {},
     "output_type": "execute_result"
    }
   ],
   "source": [
    "smodel.LoadPatterns.Add(\"DEAD\", 1, 0, True)       # Dead load\n",
    "smodel.LoadPatterns.Add(DeadName, 1, 0, True) # patron para la carga muerta (LTYPE_DEAD = 1)\n",
    "smodel.LoadPatterns.Add(LiveName, 3, 0, True) # patron para la carga distribuida viva (LTYPE_LIVE = 3)"
   ]
  },
  {
   "cell_type": "code",
   "execution_count": 269,
   "metadata": {},
   "outputs": [
    {
     "name": "stdout",
     "output_type": "stream",
     "text": [
      "dict_items([('kN_m_C', 6), ('kgf_m_C', 8), ('Tonf_m_C', 12)])\n",
      "8\n"
     ]
    }
   ],
   "source": [
    "smodel.SetPresentUnits(use_unit_distr)\n",
    "print(f\"{units.items()}\\n{smodel.GetPresentUnits()}\")"
   ]
  },
  {
   "cell_type": "code",
   "execution_count": 270,
   "metadata": {},
   "outputs": [
    {
     "name": "stdout",
     "output_type": "stream",
     "text": [
      "Patrones de carga en el modelo: ('DEAD', 'CPuntual', 'CargaMuerta', 'CargaViva')\n",
      "Marcos en el modelo: ('1', '2', '3', '4', '5', '6')\n"
     ]
    }
   ],
   "source": [
    "# traemos los ids de los PATRONES de carga y nombre de los Elementos o aristas (viga, columna)\n",
    "ret, nPat, patterns = smodel.LoadPatterns.GetNameList()\n",
    "print(\"Patrones de carga en el modelo:\", nPat)\n",
    "ret, nFrames, frames = smodel.FrameObj.GetNameList()\n",
    "print(\"Marcos en el modelo:\", nFrames)"
   ]
  },
  {
   "cell_type": "markdown",
   "metadata": {},
   "source": [
    "`Sintax` para la carga distribuida\n",
    "\n",
    "```py\n",
    "SetLoadDistributed(\n",
    "\tName: str,                  # Nombre del elemento o idElemento\n",
    "\tLoadPat: str,               # Nombre de patron de la carga o idCargaDistribuida\n",
    "\tMyType: int,                # 1: Fuerza por unidad de longitud (F/L), o 2: Momento por unidad de longitud (M/L)\n",
    "\tDir: int,                   # las opciones son de 1 a 11, ... (Loacl axis: 1=X, 2=Y, 3=Z, ...) \n",
    "\tDist1: float,               # punto incial de la carga distribuida\n",
    "\tDist2: float,               # punto final de la carga distribuida\n",
    "\tVal1: float,                # valor de carga en el nodo inicial\n",
    "\tVal2: float,                # valor de carga en el nodo final\n",
    "\tCSys = \"Global\",            # opcional, Sistema de referencia (Local o Global) ...\n",
    "\tRelDist = true, # bool\n",
    "\tReplace = true, # bool\n",
    "\tItemType = eItemType.Objects # eItemType \n",
    ") -> int\n",
    "```"
   ]
  },
  {
   "cell_type": "code",
   "execution_count": 271,
   "metadata": {},
   "outputs": [
    {
     "name": "stdout",
     "output_type": "stream",
     "text": [
      "carga muerta: (), Error\n",
      "carga viva: 3,(2,4), ('CargaViva', 1, 2, 0, 1, -1200.0, -1200.0), estado=ok\n",
      "carga muerta: (), Error\n",
      "carga viva: 6,(5,6), ('CargaViva', 1, 2, 0, 1, -1200.0, -1200.0), estado=ok\n"
     ]
    }
   ],
   "source": [
    "# --- Cargas distribuidas ---\n",
    "\n",
    "# --- cargas viva y muerta (distribuida) ---\n",
    "#     cargasDistr[idElem, tipoCarga, [1:g,2:r,3:b], i,j, F/L, iLoad,jLoad]\n",
    "FrameName4, FrameName5 = ' ', ' '\n",
    "for idElem, bd_params in cargasDistr.items():\n",
    "    node_i, node_j, _ = smodel.FrameObj.GetPoints(idElem)\n",
    "\n",
    "    if (len(bd_params[0]) != 0 ) and DeadName in smodel.LoadPatterns.GetNameList()[1]: \n",
    "        name_pat, type_load, dir_load, i, j, iLoad, jLoad = bd_params[0] # carga muerta\n",
    "        response_status = smodel.FrameObj.SetLoadDistributed( \n",
    "            idElem, name_pat, type_load, dir_load, i,j, iLoad, jLoad, \"Local\" )\n",
    "    else:\n",
    "        response_status = -1\n",
    "    print(f\"carga muerta: {bd_params[0]}, {'ok' if not(response_status) else 'Error'}\")\n",
    "\n",
    "    name_pat, type_load, dir_load, i,j, iLoad, jLoad = bd_params[1] # carga viva\n",
    "    response_status = smodel.FrameObj.SetLoadDistributed( \n",
    "        idElem, name_pat, type_load, dir_load, i,j, \n",
    "        iLoad, jLoad, \"Local\", True)\n",
    "    \n",
    "    print(f\"carga viva: {idElem},({node_i},{node_j}), {name_pat, type_load, dir_load, i,j, iLoad, jLoad}, estado={'ok' if not(response_status) else 'Error'}\")\n",
    "    del (name_pat, type_load, dir_load, node_i, node_j, iLoad, jLoad)"
   ]
  },
  {
   "cell_type": "code",
   "execution_count": 272,
   "metadata": {},
   "outputs": [
    {
     "data": {
      "text/plain": [
       "0"
      ]
     },
     "execution_count": 272,
     "metadata": {},
     "output_type": "execute_result"
    }
   ],
   "source": [
    "smodel.View.RefreshView(0, False)"
   ]
  },
  {
   "cell_type": "code",
   "execution_count": 242,
   "metadata": {},
   "outputs": [],
   "source": [
    "# ret = smodel.FrameObj.GetLoadDistributed(\"3\")\n",
    "# print(\"Cargas distribuidas en marco 3:\", ret)"
   ]
  },
  {
   "cell_type": "markdown",
   "metadata": {},
   "source": [
    "### 8. Guardamos el modelo"
   ]
  },
  {
   "cell_type": "code",
   "execution_count": null,
   "metadata": {},
   "outputs": [],
   "source": [
    "# full path to the model, set it to the desired path of your model\n",
    "APIPath = 'C:\\\\CSi_API_Example'\n",
    "\n",
    "msg = None\n",
    "if not os.path.exists(APIPath):\n",
    "    try: os.makedirs(APIPath)\n",
    "    except OSError: pass\n",
    "\n",
    "    ModelPath = APIPath + os.sep + 'Frame3D.edb'\n",
    "    smodel.File.Save(ModelPath)\n",
    "    ms = f\"{ModelPath}\"\n",
    "else:\n",
    "    print(f\"{msg}, sucesss\")"
   ]
  },
  {
   "cell_type": "markdown",
   "metadata": {},
   "source": [
    "### 9. Ejecutar análisis"
   ]
  },
  {
   "cell_type": "code",
   "execution_count": 274,
   "metadata": {},
   "outputs": [],
   "source": [
    "# ------------------ Analisis y ejecucion del modelo -----------------\n",
    "# # una ves ejecutado una primera vez ya se peude \n",
    "# # comentar de la linia 26 a 56 y descomentar 60 a 63\n",
    "# smodel.SetModelIsLocked(false);\n",
    "# for i in range(3):\n",
    "#     smodel.FrameObj.SetEndLengthOffset(str(i), flase, 0.0, 0.0, 0.0);\n",
    "\n",
    "# 'run analysis\n",
    "smodel.Analyze.RunAnalysis();"
   ]
  },
  {
   "cell_type": "markdown",
   "metadata": {},
   "source": [
    "### 10. Mostramos los resultados y Cerramos la coneccion o la aplicacion"
   ]
  },
  {
   "cell_type": "code",
   "execution_count": 276,
   "metadata": {},
   "outputs": [
    {
     "data": {
      "text/plain": [
       "(6, 2, 6)"
      ]
     },
     "execution_count": 276,
     "metadata": {},
     "output_type": "execute_result"
    }
   ],
   "source": [
    "nele, nres, nnode = np.array(elems).shape[0], np.array(apoyos).shape[0], len(coords)\n",
    "nele, nres, nnode"
   ]
  },
  {
   "cell_type": "code",
   "execution_count": 283,
   "metadata": {},
   "outputs": [
    {
     "data": {
      "text/plain": [
       "((8.962704398807363e-06,), (-3.1221945539304315e-08,))"
      ]
     },
     "execution_count": 283,
     "metadata": {},
     "output_type": "execute_result"
    }
   ],
   "source": [
    "response = smodel.Results.Setup.DeselectAllCasesAndCombosForOutput()\n",
    "# se le pasa el nombre del load pattern o caso de carga [NameLoadP, DeadName, LiveName]\n",
    "response = smodel.Results.Setup.SetCaseSelectedForOutput(NameLoadP) \n",
    "\n",
    "res = smodel.Results.JointDispl(\"2\",0) # desplazamiento\n",
    "ux, uy = res[6], res[8] \n",
    "ux, uy"
   ]
  },
  {
   "cell_type": "code",
   "execution_count": 284,
   "metadata": {},
   "outputs": [
    {
     "name": "stdout",
     "output_type": "stream",
     "text": [
      "Se cerro con exito.\n"
     ]
    }
   ],
   "source": [
    "# Close the program | Cerrar la aplicacio\n",
    "if(connect_to_app.ApplicationExit(False)): print(\"No se pudo cerrar la coneccion!\")\n",
    "else: print(\"Se cerro con exito.\")\n",
    "    \n",
    "onnect_to_app, smodel = None, None\n",
    "del (connect_to_app, smodel)"
   ]
  },
  {
   "cell_type": "markdown",
   "metadata": {},
   "source": [
    "## Referencia."
   ]
  },
  {
   "cell_type": "markdown",
   "metadata": {},
   "source": [
    "- [1] ..."
   ]
  }
 ],
 "metadata": {
  "kernelspec": {
   "display_name": "Python 3",
   "language": "python",
   "name": "python3"
  },
  "language_info": {
   "codemirror_mode": {
    "name": "ipython",
    "version": 3
   },
   "file_extension": ".py",
   "mimetype": "text/x-python",
   "name": "python",
   "nbconvert_exporter": "python",
   "pygments_lexer": "ipython3",
   "version": "3.12.7"
  }
 },
 "nbformat": 4,
 "nbformat_minor": 2
}
