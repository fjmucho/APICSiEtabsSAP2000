{
 "cells": [
  {
   "cell_type": "markdown",
   "metadata": {},
   "source": [
    "# Modelo con uso de `API de CSi`"
   ]
  },
  {
   "cell_type": "markdown",
   "metadata": {},
   "source": [
    "## Dependecias"
   ]
  },
  {
   "cell_type": "code",
   "execution_count": null,
   "metadata": {},
   "outputs": [],
   "source": [
    "# !pip install comtypes"
   ]
  },
  {
   "cell_type": "code",
   "execution_count": null,
   "metadata": {},
   "outputs": [],
   "source": [
    "import os, sys, ctypes\n",
    "import numpy as np\n",
    "import comtypes.client"
   ]
  },
  {
   "cell_type": "markdown",
   "metadata": {},
   "source": [
    "## Entrada de datos"
   ]
  },
  {
   "cell_type": "code",
   "execution_count": null,
   "metadata": {},
   "outputs": [],
   "source": [
    "fc = 280;\n",
    "material_type = 2;\n",
    "material_name = f'fc={str(fc)} kg/cm^2'; # fc=280kg/cm^2\n",
    "# \n",
    "E = 150000*fc*0.5; # kg/cm^2\n",
    "v = 0.2\n",
    "coeficienteTermico = 0.0000055 #T\n",
    "\n",
    "# secciones para la viga y columna\n",
    "secBeamb = 0.3 # cm\n",
    "secBeamh = 0.6 # cm\n",
    "beamName = f'V{str(secBeamb)}x{str(secBeamh)}'\n",
    "secColumnb = 0.3 # cm\n",
    "secColumnh = 0.6 # cm\n",
    "columnName = f'C{str(secColumnb)}x{str(secColumnh)}'\n",
    "\n",
    "pisos = 7  # numero de pisos\n",
    "banos = 10\n",
    "baseX, baseY, alturaZ = 3, 1, 4 # a partir del 2do piso\n",
    "gridsx, gridsy = 11, 1 # grillas en X y Y\n",
    "\n",
    "# Indicar el programa a usar\n",
    "connect_to = 1; #1 para SAP2000-v26 y 2 para ETABS-v21\n",
    "# Variable para definir una instancia manual para el programa y definir la ruta.\n",
    "rutaEspecifica = False"
   ]
  },
  {
   "cell_type": "markdown",
   "metadata": {},
   "source": [
    "### Coneccion"
   ]
  },
  {
   "cell_type": "code",
   "execution_count": null,
   "metadata": {},
   "outputs": [],
   "source": [
    "smodel, ret = None, None\n",
    "conn = {};\n",
    "if connect_to == 1:  # SAP2000\n",
    "    name_app=\"SAP2000\"\n",
    "    conn = {\n",
    "        'app_ruta': \"C:\\\\Program Files\\\\Computers and Structures\\\\SAP2000 26\\\\SAP2000.exe\",\n",
    "        'app_adjunto': \"CSI.SAP2000.API.SapObject\",\n",
    "        'app_helper': 'SAP2000v1.Helper'\n",
    "        }\n",
    "elif (connect_to == 2): # ETABS\n",
    "    name_app=\"ETABS\"\n",
    "    conn = {\n",
    "        'app_ruta': \"C:\\\\Program Files\\\\Computers and Structures\\\\ETABS 21\\\\ETABS.exe\",\n",
    "        'app_adjunto': \"CSI.ETABS.API.ETABSObject\",\n",
    "        'app_helper': \"ETABSv1.Helper\"\n",
    "        }\n",
    "else: \n",
    "    print(\"No tenemos soporte aun\")\n",
    "    sys.exit()"
   ]
  },
  {
   "cell_type": "code",
   "execution_count": null,
   "metadata": {},
   "outputs": [
    {
     "name": "stdout",
     "output_type": "stream",
     "text": [
      "No se encontró ninguna instancia en ejecución del programa(ETABS).\n",
      "Tratando de Ejecutar ETABS!.\n",
      "Coneccion establecida!.\n",
      "Ejecutando!.\n"
     ]
    }
   ],
   "source": [
    "try:\n",
    "    connect_to_app = comtypes.client.GetActiveObject(conn['app_adjunto'])\n",
    "    print(\"Coneccion exitosa!.\\nadjuntando a una instancia existente.\")\n",
    "    # ctypes.windll.user32.MessageBox(0,\"mesnaje ...\", 64) # error: 16\n",
    "except (OSError, comtypes.COMError):\n",
    "    print(f\"No se encontró ninguna instancia en ejecución del programa({name_app}).\")\n",
    "\n",
    "    print(f\"Tratando de Ejecutar {name_app}!.\")\n",
    "    #create API helper object\n",
    "    # helper = comtypes.client.CreateObject(conn['app_helper']).QueryInterface()\n",
    "    helper = comtypes.client.CreateObject(conn['app_helper'])\n",
    "    if connect_to == 1:\n",
    "        helper = helper.QueryInterface(comtypes.gen.SAP2000v1.cHelper)\n",
    "    else:\n",
    "        helper = helper.QueryInterface(comtypes.gen.ETABSv1.cHelper);\n",
    "    if rutaEspecifica: # para versiones anteriores a la ultima version instalada\n",
    "        ProgramPath = conn['app_ruta'];\n",
    "        try:\n",
    "            connect_to_app = helper.CreateObject(ProgramPath)\n",
    "            print(\"Coneccion establecida!.\\nConexion Manual\")\n",
    "        except (OSError, comtypes.COMError):\n",
    "            print(\"Cannot start a new instance of the program from \" + ProgramPath)\n",
    "            sys.exit(-1)\n",
    "    else:\n",
    "        try: \n",
    "            connect_to_app = helper.CreateObjectProgID(conn['app_adjunto']) \n",
    "            print(\"Coneccion establecida!.\")\n",
    "        except (OSError, comtypes.COMError):\n",
    "            print(\"Cannot start a new instance of the program.\")\n",
    "            sys.exit(-1)\n",
    "    print(\"Ejecutando!.\")\n",
    "    #start ETABS application | ejecutar la Aplicacion ETABS.\n",
    "    connect_to_app.ApplicationStart()\n",
    "\n",
    "smodel = connect_to_app.SapModel;\n"
   ]
  },
  {
   "cell_type": "markdown",
   "metadata": {},
   "source": [
    "## Se crea un nuevo Lienzo y Modelo"
   ]
  },
  {
   "cell_type": "code",
   "execution_count": 82,
   "metadata": {},
   "outputs": [],
   "source": [
    "# unidades\n",
    "kN_m_C = 6\n",
    "kgf_m_C = 8\n",
    "Tonf_m_C = 12"
   ]
  },
  {
   "cell_type": "code",
   "execution_count": 83,
   "metadata": {},
   "outputs": [
    {
     "data": {
      "text/plain": [
       "0"
      ]
     },
     "execution_count": 83,
     "metadata": {},
     "output_type": "execute_result"
    }
   ],
   "source": [
    "smodel.SetModelIsLocked(False)\n",
    "\n",
    "# Se crea un nuevo lienzo\n",
    "# smodel.InitializeNewModel; # esto es valido tambien\n",
    "smodel.InitializeNewModel(Tonf_m_C)\n",
    "\n",
    "# create grid-only template model - [pisos, ]\n",
    "response_status = smodel.File.NewGridOnly( \n",
    "    pisos, # numero de pisos\n",
    "    baseX, alturaZ, # altura tipica de piso a partir del segundo y altura del primer nivel\n",
    "    gridsx, gridsy,  # numero de grillas en X y Y\n",
    "    baseX, baseY # Espaciamiento en X y Y\n",
    ")\n",
    "\n",
    "response_status"
   ]
  },
  {
   "cell_type": "code",
   "execution_count": 84,
   "metadata": {},
   "outputs": [],
   "source": [
    "smodel.View.RefreshView(0, False);"
   ]
  },
  {
   "cell_type": "markdown",
   "metadata": {},
   "source": [
    "## Se establece las propiedades del concreto"
   ]
  },
  {
   "cell_type": "code",
   "execution_count": 85,
   "metadata": {},
   "outputs": [
    {
     "data": {
      "text/plain": [
       "0"
      ]
     },
     "metadata": {},
     "output_type": "display_data"
    }
   ],
   "source": [
    "# definicion del material\n",
    "response_status = smodel.PropMaterial.SetMaterial( material_name, material_type )\n",
    "# propiedades mecanicas del material\n",
    "response_status = smodel.PropMaterial.SetMPIsotropic( material_name, E, v, coeficienteTermico )\n",
    "display(response_status)"
   ]
  },
  {
   "cell_type": "code",
   "execution_count": 86,
   "metadata": {},
   "outputs": [
    {
     "data": {
      "text/plain": [
       "0"
      ]
     },
     "metadata": {},
     "output_type": "display_data"
    }
   ],
   "source": [
    "# Secciones de viga y columna\n",
    "response_status = smodel.PropFrame.SetRectangle(beamName, material_name, secBeamb, secBeamh) # seecion para la viga\n",
    "response_status = smodel.PropFrame.SetRectangle(columnName, material_name, secColumnb, secColumnh) # seccion para la columna\n",
    "display(response_status)"
   ]
  },
  {
   "cell_type": "code",
   "execution_count": 87,
   "metadata": {},
   "outputs": [],
   "source": [
    "# # modificadores de propiedad de seccion de marco\n",
    "# ModValue = [1000, 0,0,1,1,1,1,1]\n",
    "# response_status = smodel.PropFrame.SetModifiers(nombreViga, ModValue)\n",
    "# response_status = smodel.PropFrame.SetModifiers(nombreColumna, ModValue)"
   ]
  },
  {
   "cell_type": "markdown",
   "metadata": {},
   "source": [
    "## Geometria de la estructura"
   ]
  },
  {
   "cell_type": "markdown",
   "metadata": {},
   "source": [
    "`Sintax` vertice o coordenadas\n",
    "\n",
    "En lenguaje `C#` \n",
    "```c#\n",
    "int AddCartesian(\n",
    "\tdouble X,\n",
    "\tdouble Y,\n",
    "\tdouble Z,\n",
    "\tref string Name,\n",
    "\tstring UserName = \"\",\n",
    "\tstring CSys = \"Global\",\n",
    "\tbool MergeOff = false,\n",
    "\tint MergeNumber = 0\n",
    ")\n",
    "```\n",
    "Su equivalente en `python`\n",
    "```py\n",
    "AddCartesian(\n",
    "\tX: float,\n",
    "\tY: float,\n",
    "\tZ: float,\n",
    "\tName: str,\n",
    "\tUserName = \"\",      # referencia a un str\n",
    "\tCSys = \"Global\",    # referencia a un str\n",
    "\tMergeOff = false,   # referencia a un bool\n",
    "\tMergeNumber = 0     # referencia a un int\n",
    ") -> int\n",
    "```\n",
    "\n",
    "`Sintax` Elementos o miembros de coneccion\n",
    "\n",
    "En lenguaje `C#` \n",
    "```c#\n",
    "int AddByPoint(\n",
    "\tstring Point1,\n",
    "\tstring Point2,\n",
    "\tref string Name,\n",
    "\tstring PropName = \"Default\",\n",
    "\tstring UserName = \"\"\n",
    ")\n",
    "```\n",
    "Su equivalente en `python`\n",
    "```py\n",
    "AddByPoint(\n",
    "\tPoint1: str,\n",
    "\tPoint2: str,\n",
    "\tName: str, # referncia\n",
    "\tPropName = \"Default\",\n",
    "\tUserName = \"\"\n",
    ") -> int\n",
    "```"
   ]
  },
  {
   "cell_type": "code",
   "execution_count": 101,
   "metadata": {},
   "outputs": [],
   "source": [
    "for piso in range(1, pisos+1):\n",
    "    for banoCol in range(banos+1): # columnas\n",
    "        FrameName = ''\n",
    "        [FrameName, response_status] = smodel.FrameObj.AddByCoord(\n",
    "            # idx*b, 0, 0, idx*b, 0, h, \"FrameName\"+str(idx+1), columnName, str(idx+1), 'Global'\n",
    "            banoCol*baseX, 0, piso*alturaZ, banoCol*baseX, 0, (piso)*alturaZ, FrameName, columnName, '', 'Global'\n",
    "        )\n",
    "        # display(response_status)\n",
    "\n",
    "    for banoBeam in range(banos): # vigas\n",
    "        FrameName = ''\n",
    "        [FrameName, response_status] = smodel.FrameObj.AddByCoord(\n",
    "            #  idx*b, 0, h, (idx+1)*b, 0, h, \"FrameName\"+str(idx+1), beamName, str(idx+1), 'Global'\n",
    "            banoBeam*baseX, 0, (piso)*alturaZ, (banoBeam+1)*baseX, 0, (piso)*alturaZ, FrameName, columnName, '', 'Global'\n",
    "        )\n",
    "        # display(response_status)\n",
    "\n",
    "    # # Creacion de muros o placas de concreto tipo Shell\n",
    "    # name_wall = \"\"\n",
    "    # x = [0, baseX, 0, baseX] #b: longitud de base\n",
    "    # y = [0,0,0,0]\n",
    "    # z = [piso, piso, (piso+1)*alturaZ, (piso+1)*alturaZ]\n",
    "    # response_status = smodel.AreaObj.AddByCoord(4, x, y, z, name_wall)\n",
    "    # # diviciones en area\n",
    "    \n",
    "    # x = [(banos-1)*baseX, banos*baseX, banos*baseX, (banos-1)*baseX] #b: longitud de base\n",
    "    # y = [0,0,0,0]\n",
    "    # z = [piso, piso, (piso+1)*alturaZ, (piso+1)*alturaZ]\n",
    "    # response_status = smodel.AreaObj.AddByCoord(4, x, y, z, name_wall)\n",
    "    # # divisiones en area"
   ]
  },
  {
   "cell_type": "code",
   "execution_count": 102,
   "metadata": {},
   "outputs": [],
   "source": [
    "smodel.View.RefreshView(0, False);"
   ]
  },
  {
   "cell_type": "markdown",
   "metadata": {},
   "source": [
    "## Restricciones o condiciones de borde (apoyos)"
   ]
  },
  {
   "cell_type": "code",
   "execution_count": 90,
   "metadata": {},
   "outputs": [],
   "source": [
    "restrictValues = [1, 1, 1, 1, 1, 1]\n",
    "\n",
    "nr = banos+1\n",
    "for idx in range(nr):\n",
    "    node_i, node_j = ' ', ' '\n",
    "    [node_i, node_j, response_status] = smodel.FrameObj.GetPoints(str(idx+1), node_i, node_j)\n",
    "    response_status = smodel.Pointobj.SetRestraint(node_i, restrictValues);\n",
    "    # display(response_status)"
   ]
  },
  {
   "cell_type": "code",
   "execution_count": 65,
   "metadata": {},
   "outputs": [],
   "source": [
    "smodel.View.RefreshView(0, False);"
   ]
  },
  {
   "cell_type": "markdown",
   "metadata": {},
   "source": [
    "## Se establece carga puntual y distribuida"
   ]
  },
  {
   "cell_type": "code",
   "execution_count": 66,
   "metadata": {},
   "outputs": [
    {
     "data": {
      "text/plain": [
       "0"
      ]
     },
     "execution_count": 66,
     "metadata": {},
     "output_type": "execute_result"
    }
   ],
   "source": [
    "# Establecemos patron de carga\n",
    "LTYPE_OTHER = 8\n",
    "nombreF = \"FuerzaH\"\n",
    "response_status = smodel.LoadPatterns.Add(nombreF, LTYPE_OTHER, 1, True)\n",
    "response_status"
   ]
  },
  {
   "cell_type": "code",
   "execution_count": 67,
   "metadata": {},
   "outputs": [
    {
     "data": {
      "text/plain": [
       "[(1.0, 0.0, 0.0, 0.0, 0.0, 0.0), 0]"
      ]
     },
     "execution_count": 67,
     "metadata": {},
     "output_type": "execute_result"
    }
   ],
   "source": [
    "# Cargas puntuales\n",
    "PointName1, PointName2 = ' ',' '\n",
    "PointLoadValue = [1, 0, 0, 0, 0, 0]\n",
    "[PointName1, PointName2, response_status] = smodel.FrameObj.GetPoints(\"1\", PointName1, PointName2)\n",
    "response_status = smodel.PointObj.SetLoadForce(PointName2, \"FuerzaH\", PointLoadValue)\n",
    "response_status\n",
    "\n",
    "# enBano, enPiso = 0, 0\n",
    "# for piso in range(pisos):\n",
    "#     [PointName1, PointName2, response_status] = smodel.FrameObj.GetPoints(str(piso+1), PointName1, PointName2)\n",
    "#     # response_status = smodel.PointObj.SetLoadForce(PointName2, \"FuerzaH\", PointLoadValue)\n",
    "#     # print(response_status)\n",
    "#     # enPiso = 2*((piso+1)*banos) + (piso+1)\n",
    "#     print([PointName1, PointName2, response_status])"
   ]
  },
  {
   "cell_type": "code",
   "execution_count": 68,
   "metadata": {},
   "outputs": [],
   "source": [
    "# Cargas distribuidas (Dead and Live)\n",
    "enBano, enPiso = 0, 0\n",
    "for piso in range(pisos):\n",
    "    for bano in range(banos):\n",
    "        enBano = ( (banos+2) + bano ) + enPiso\n",
    "        response_status = smodel.FrameObj.SetLoadDistributed( str(enBano), \"Live\", 1, 2, 0,1, -0.25, -0.25, \"Local\");\n",
    "        response_status = smodel.FrameObj.SetLoadDistributed( str(enBano), \"Dead\", 1, 2, 0,1, -0.4, -0.4, \"Local\");\n",
    "        # display(response_status)\n",
    "    enPiso = 2*((piso+1)*banos) + (piso+1)"
   ]
  },
  {
   "cell_type": "markdown",
   "metadata": {},
   "source": [
    "## guardar el modelo"
   ]
  },
  {
   "cell_type": "code",
   "execution_count": null,
   "metadata": {},
   "outputs": [],
   "source": [
    "APIPath = 'C:\\\\CSi_API_Example'\n",
    "if not os.path.exists(APIPath):\n",
    "    try: os.makedirs(APIPath)\n",
    "    except OSError: pass\n",
    "ModelPath = APIPath + os.sep + 'API_frame-001.edb'\n",
    "#save model\n",
    "smodel.File.Save(ModelPath)"
   ]
  },
  {
   "cell_type": "markdown",
   "metadata": {},
   "source": [
    "## Analisis"
   ]
  },
  {
   "cell_type": "code",
   "execution_count": 18,
   "metadata": {},
   "outputs": [],
   "source": [
    "smodel.Analyze.RunAnalysis();"
   ]
  },
  {
   "cell_type": "markdown",
   "metadata": {},
   "source": [
    "## Calculamos resultdos"
   ]
  },
  {
   "cell_type": "code",
   "execution_count": null,
   "metadata": {},
   "outputs": [],
   "source": []
  },
  {
   "cell_type": "markdown",
   "metadata": {},
   "source": [
    "## Cerramos la coneccion"
   ]
  },
  {
   "cell_type": "code",
   "execution_count": 77,
   "metadata": {},
   "outputs": [
    {
     "name": "stdout",
     "output_type": "stream",
     "text": [
      "Se cerro con exito.\n"
     ]
    }
   ],
   "source": [
    "if (connect_to_app.ApplicationExit(False)):\n",
    "    print(\"No se pudo cerrar\")\n",
    "else:\n",
    "    print(\"Se cerro con exito.\")\n",
    "\n",
    "smodel, connect_to_app = None, None\n",
    "del smodel, connect_to_app\n",
    "exit(-1)"
   ]
  },
  {
   "cell_type": "markdown",
   "metadata": {},
   "source": [
    "## Referencias."
   ]
  },
  {
   "cell_type": "markdown",
   "metadata": {},
   "source": [
    "- [1] [Archivo de video]: https://youtu.be/yxljs6hWr-o, https://youtu.be/Za4I0leC7F8, https://youtu.be/QeAdkCaRn1c"
   ]
  }
 ],
 "metadata": {
  "kernelspec": {
   "display_name": "Python 3",
   "language": "python",
   "name": "python3"
  },
  "language_info": {
   "codemirror_mode": {
    "name": "ipython",
    "version": 3
   },
   "file_extension": ".py",
   "mimetype": "text/x-python",
   "name": "python",
   "nbconvert_exporter": "python",
   "pygments_lexer": "ipython3",
   "version": "3.11.5"
  }
 },
 "nbformat": 4,
 "nbformat_minor": 2
}
