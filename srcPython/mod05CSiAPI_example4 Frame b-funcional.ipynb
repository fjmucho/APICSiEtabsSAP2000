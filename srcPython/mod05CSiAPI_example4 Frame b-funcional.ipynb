{
 "cells": [
  {
   "cell_type": "markdown",
   "metadata": {},
   "source": [
    "<center>\n",
    "    <h1 style=\"font-size: 12; font-weight: 900; \">--- 5 ---<h1>\n",
    "    <h2>CSiAPI - ETABS y SAP2000</h2>\n",
    "    <!-- <p><strong></strong</p> -->\n",
    "</center>"
   ]
  },
  {
   "cell_type": "code",
   "execution_count": 7,
   "metadata": {},
   "outputs": [],
   "source": [
    "import os, sys\n",
    "\n",
    "import comtypes.client\n",
    "import ctypes"
   ]
  },
  {
   "cell_type": "markdown",
   "metadata": {},
   "source": [
    "7. Funciones utiles de limpiesa y restamblecimiento"
   ]
  },
  {
   "cell_type": "code",
   "execution_count": 8,
   "metadata": {},
   "outputs": [],
   "source": [
    "# Elimina objetos existentes FrameObj\n",
    "def delete_all_frames(smodel):\n",
    "    # Get the names of all frame objects\n",
    "    ret, all_frames, ret = smodel.FrameObj.GetNameList()\n",
    "\n",
    "    # Delete each frame object\n",
    "    for frame in all_frames:\n",
    "        smodel.FrameObj.Delete(frame)\n",
    "\n",
    "    print(\"All frames deleted successfully\")"
   ]
  },
  {
   "cell_type": "code",
   "execution_count": 9,
   "metadata": {},
   "outputs": [],
   "source": [
    "# Generacion e la geometria de la estructura\n",
    "def create_structural_system(smodel, bay_width=10, story_height=10, num_bays=2, num_stories=2):\n",
    "    # Delete existing frames\n",
    "    delete_all_frames(smodel)\n",
    "    base_points = []\n",
    "\n",
    "    # Define material and section properties\n",
    "    smodel.PropMaterial.SetMaterial(\"Concrete\", 2)\n",
    "    smodel.PropFrame.SetRectangle(\"Beam\", \"Concrete\", 0.3, 0.5)\n",
    "    smodel.PropFrame.SetRectangle(\"Column\", \"Concrete\", 0.5, 0.5)\n",
    "\n",
    "    # Create columns and beams\n",
    "    for i in range(num_bays + 1):\n",
    "        for j in range(num_stories):\n",
    "            x_coord = i * bay_width\n",
    "            z_coord = j * story_height\n",
    "            smodel.FrameObj.AddByCoord(x_coord, 0, z_coord, x_coord, 0, z_coord + story_height, \"\", \"Column\", f\"C{i}{j}\")\n",
    "            if j == 0:\n",
    "                base_points.append(f\"{x_coord}_0_{z_coord}\")\n",
    "\n",
    "    # Create beams\n",
    "    for j in range(1, num_stories + 1):\n",
    "        z_coord = j * story_height\n",
    "        for i in range(num_bays):\n",
    "            x_start = i * bay_width\n",
    "            x_end = (i + 1) * bay_width\n",
    "            smodel.FrameObj.AddByCoord(x_start, 0, z_coord, x_end, 0, z_coord, \"\", \"Beam\", f\"B{j}{i}\")\n",
    "\n",
    "    print(\"Structural system created successfully\")\n",
    "    return base_points"
   ]
  },
  {
   "cell_type": "markdown",
   "metadata": {},
   "source": [
    "8. Analisis y solicitud de resultados"
   ]
  },
  {
   "cell_type": "code",
   "execution_count": 10,
   "metadata": {},
   "outputs": [],
   "source": [
    "def run_analysis_and_get_joint_reactions(smodel):\n",
    "    smodel.Analyze.RunAnalysis()\n",
    "    smodel.Results.Setup.DeselectAllCasesAndCombosForOutput()\n",
    "    smodel.Results.Setup.SetCaseSelectedForOutput(\"Dead\")\n",
    "    smodel.Results.Setup.SetCaseSelectedForOutput(\"Live\")\n",
    "\n",
    "    for each in base_points:\n",
    "        print(smodel.Results.JointReact(each, 0))"
   ]
  },
  {
   "cell_type": "markdown",
   "metadata": {},
   "source": [
    "Desbloque del modelo para implementar modificaciones"
   ]
  },
  {
   "cell_type": "code",
   "execution_count": 11,
   "metadata": {},
   "outputs": [],
   "source": [
    "def unlocked_model(smodel):\n",
    "    # Unlock the model before running the analysis\n",
    "    smodel.SetModelIsLocked(False)"
   ]
  },
  {
   "cell_type": "markdown",
   "metadata": {},
   "source": []
  },
  {
   "cell_type": "code",
   "execution_count": null,
   "metadata": {},
   "outputs": [
    {
     "name": "stdout",
     "output_type": "stream",
     "text": [
      "All frames deleted successfully\n",
      "Structural system created successfully\n",
      "[0, (), (), (), (), (), (), (), (), (), (), (), 1]\n",
      "[0, (), (), (), (), (), (), (), (), (), (), (), 1]\n",
      "[0, (), (), (), (), (), (), (), (), (), (), (), 1]\n",
      "[0, (), (), (), (), (), (), (), (), (), (), (), 1]\n",
      "[0, (), (), (), (), (), (), (), (), (), (), (), 1]\n",
      "[0, (), (), (), (), (), (), (), (), (), (), (), 1]\n",
      "[0, (), (), (), (), (), (), (), (), (), (), (), 1]\n",
      "[0, (), (), (), (), (), (), (), (), (), (), (), 1]\n",
      "[0, (), (), (), (), (), (), (), (), (), (), (), 1]\n",
      "[0, (), (), (), (), (), (), (), (), (), (), (), 1]\n",
      "[0, (), (), (), (), (), (), (), (), (), (), (), 1]\n",
      "[0, (), (), (), (), (), (), (), (), (), (), (), 1]\n",
      "[0, (), (), (), (), (), (), (), (), (), (), (), 1]\n",
      "[0, (), (), (), (), (), (), (), (), (), (), (), 1]\n",
      "[0, (), (), (), (), (), (), (), (), (), (), (), 1]\n",
      "[0, (), (), (), (), (), (), (), (), (), (), (), 1]\n",
      "[0, (), (), (), (), (), (), (), (), (), (), (), 1]\n",
      "[0, (), (), (), (), (), (), (), (), (), (), (), 1]\n",
      "[0, (), (), (), (), (), (), (), (), (), (), (), 1]\n",
      "[0, (), (), (), (), (), (), (), (), (), (), (), 1]\n"
     ]
    }
   ],
   "source": [
    "# Initialize SAP2000\n",
    "helper = comtypes.client.CreateObject('SAP2000v1.Helper')\n",
    "helper = helper.QueryInterface(comtypes.gen.SAP2000v1.cHelper)\n",
    "Sap2000Object = helper.CreateObjectProgID(\"CSI.SAP2000.API.SapObject\")\n",
    "Sap2000Object.ApplicationStart()\n",
    "smodel = Sap2000Object.SapModel\n",
    "\n",
    "# Initialize the model\n",
    "smodel.InitializeNewModel()\n",
    "KN_m_C = 6\n",
    "smodel.SetPresentUnits(KN_m_C)\n",
    "smodel.File.NewBlank()\n",
    "\n",
    "# Save the model before analysis\n",
    "# smodel.File.Save(r\"C:\\path\\to\\save\\example.sdb\")\n",
    "# Se definen registros de salida\n",
    "projectPath = r'C:\\\\CSi_API_Example';\n",
    "if not os.path.exists(projectPath):\n",
    "    try: os.makedirs(projectPath)\n",
    "    except OSError: pass\n",
    "ModelPath = projectPath + os.sep + 'Frame-e1.edb'\n",
    "# save model | guardar nuestro modelo\n",
    "ret = smodel.File.Save(ModelPath)\n",
    "\n",
    "# Create the structural system and apply loads\n",
    "base_points = create_structural_system(\n",
    "    smodel, \n",
    "    bay_width=4, \n",
    "    story_height=8, \n",
    "    num_bays=9, \n",
    "    num_stories=18\n",
    "    )\n",
    "\n",
    "# Run the analysis and get joint reactions\n",
    "run_analysis_and_get_joint_reactions(smodel)\n",
    "\n",
    "# Unlock and run the analysis again (if needed)\n",
    "unlocked_model(smodel)\n",
    "run_analysis_and_get_joint_reactions(smodel)"
   ]
  },
  {
   "cell_type": "code",
   "execution_count": null,
   "metadata": {},
   "outputs": [
    {
     "name": "stdout",
     "output_type": "stream",
     "text": [
      "Se cerro con exito.\n"
     ]
    }
   ],
   "source": [
    "if (Sap2000Object.ApplicationExit(False)):\n",
    "    print(\"SAP2000, No se pudo cerrar\")\n",
    "else:\n",
    "    print(\"Se cerro con exito.\")\n",
    "\n",
    "smodel = None\n",
    "del smodel"
   ]
  }
 ],
 "metadata": {
  "kernelspec": {
   "display_name": "Python 3",
   "language": "python",
   "name": "python3"
  },
  "language_info": {
   "codemirror_mode": {
    "name": "ipython",
    "version": 3
   },
   "file_extension": ".py",
   "mimetype": "text/x-python",
   "name": "python",
   "nbconvert_exporter": "python",
   "pygments_lexer": "ipython3",
   "version": "3.12.7"
  }
 },
 "nbformat": 4,
 "nbformat_minor": 2
}
