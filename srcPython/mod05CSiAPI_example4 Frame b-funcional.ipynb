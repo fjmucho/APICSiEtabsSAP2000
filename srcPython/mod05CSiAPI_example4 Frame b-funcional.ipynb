{
 "cells": [
  {
   "cell_type": "markdown",
   "metadata": {},
   "source": [
    "<center>\n",
    "    <h1 style=\"font-size: 12; font-weight: 900; \">--- 5 ---<h1>\n",
    "    <h2>CSiAPI - ETABS y SAP2000</h2>\n",
    "    <!-- <p><strong></strong</p> -->\n",
    "</center>"
   ]
  },
  {
   "cell_type": "code",
   "execution_count": 16,
   "metadata": {},
   "outputs": [],
   "source": [
    "import os, sys\n",
    "\n",
    "import comtypes.client\n",
    "\n",
    "import ctypes"
   ]
  },
  {
   "cell_type": "markdown",
   "metadata": {},
   "source": [
    "## 0. Funciones."
   ]
  },
  {
   "cell_type": "markdown",
   "metadata": {},
   "source": [
    "Funciones utiles de limpiesa y restamblecimiento"
   ]
  },
  {
   "cell_type": "code",
   "execution_count": 17,
   "metadata": {},
   "outputs": [],
   "source": [
    "# Elimina objetos existentes FrameObj\n",
    "def delete_all_frames(smodel):\n",
    "    # Get the names of all frame objects\n",
    "    ret, all_frames, ret = smodel.FrameObj.GetNameList()\n",
    "\n",
    "    # Delete each frame object\n",
    "    for frame in all_frames:\n",
    "        smodel.FrameObj.Delete(frame)\n",
    "\n",
    "    print(\"All frames deleted successfully\")\n",
    "    \n",
    "# Generacion e la geometria de la estructura\n",
    "def create_structural_system(smodel, bay_width=10, story_height=10, num_bays=2, num_stories=2):\n",
    "    # Delete existing frames\n",
    "    delete_all_frames(smodel)\n",
    "    base_points = []\n",
    "\n",
    "    # Define material and section properties\n",
    "    smodel.PropMaterial.SetMaterial(\"Concrete\", 2)\n",
    "    smodel.PropFrame.SetRectangle(\"Beam\", \"Concrete\", 0.3, 0.5)\n",
    "    smodel.PropFrame.SetRectangle(\"Column\", \"Concrete\", 0.5, 0.5)\n",
    "\n",
    "    # Create columns and beams\n",
    "    for i in range(num_bays + 1):\n",
    "        for j in range(num_stories):\n",
    "            x_coord = i * bay_width\n",
    "            z_coord = j * story_height\n",
    "            smodel.FrameObj.AddByCoord(x_coord, 0, z_coord, x_coord, 0, z_coord + story_height, \"\", \"Column\", f\"C{i}{j}\")\n",
    "            if j == 0:\n",
    "                base_points.append(f\"{x_coord}_0_{z_coord}\")\n",
    "\n",
    "    # Create beams\n",
    "    for j in range(1, num_stories + 1):\n",
    "        z_coord = j * story_height\n",
    "        for i in range(num_bays):\n",
    "            x_start = i * bay_width\n",
    "            x_end = (i + 1) * bay_width\n",
    "            smodel.FrameObj.AddByCoord(x_start, 0, z_coord, x_end, 0, z_coord, \"\", \"Beam\", f\"B{j}{i}\")\n",
    "\n",
    "    print(\"Structural system created successfully\")\n",
    "    return base_points"
   ]
  },
  {
   "cell_type": "markdown",
   "metadata": {},
   "source": [
    "Analisis y solicitud de resultados y Desbloque del modelo para implementar modificaciones"
   ]
  },
  {
   "cell_type": "code",
   "execution_count": 18,
   "metadata": {},
   "outputs": [],
   "source": [
    "def run_analysis_and_get_joint_reactions(smodel, base_points):\n",
    "    smodel.Analyze.RunAnalysis()\n",
    "    smodel.Results.Setup.DeselectAllCasesAndCombosForOutput()\n",
    "    smodel.Results.Setup.SetCaseSelectedForOutput(\"Dead\")\n",
    "    smodel.Results.Setup.SetCaseSelectedForOutput(\"Live\")\n",
    "\n",
    "    for each in base_points:\n",
    "        print(smodel.Results.JointReact(each, 0))\n",
    "\n",
    "def unlocked_model(smodel):\n",
    "    # Unlock the model before running the analysis\n",
    "    smodel.SetModelIsLocked(False)"
   ]
  },
  {
   "cell_type": "markdown",
   "metadata": {},
   "source": [
    "## 1. API-CSI"
   ]
  },
  {
   "cell_type": "code",
   "execution_count": 19,
   "metadata": {},
   "outputs": [],
   "source": [
    "# Unidades Base mks\n",
    "m = 1\n",
    "kg = 1\n",
    "s = 1\n",
    "\n",
    "# Otras Unidades\n",
    "cm = 0.01*m\n",
    "kgf = 9.80665*kg*m/s**2\n",
    "tonf = 1000*kgf\n",
    "\n",
    "# Constantes Físicas\n",
    "g = 9.80665*m/s**2\n",
    "\n",
    "# configuraciones de unidades\n",
    "KN_m_C = 6\n",
    "kgf_m_C = 8\n",
    "Tonf_m_C = 12"
   ]
  },
  {
   "cell_type": "code",
   "execution_count": 20,
   "metadata": {},
   "outputs": [],
   "source": [
    "connect_software = 2 # 1 para ETABS, 2 para SAP2000\n"
   ]
  },
  {
   "cell_type": "code",
   "execution_count": 21,
   "metadata": {},
   "outputs": [],
   "source": [
    "if connect_software == 1:\n",
    "    software = \"SAP2000\"\n",
    "    conn = { 'app_adjunto': \"CSI.SAP2000.API.SapObject\", 'app_helper': 'SAP2000v1.Helper' }\n",
    "elif (connect_software == 2):\n",
    "    software = \"ETABS\"\n",
    "    conn = { 'app_adjunto': \"CSI.ETABS.API.ETABSObject\", 'app_helper': \"ETABSv1.Helper\" }\n",
    "else: \n",
    "    print(\"No tenemos soporte aun\")\n",
    "    sys.exit()\n",
    "\n",
    "helper = comtypes.client.CreateObject(conn['app_helper'])\n",
    "if connect_software == 1: helper = helper.QueryInterface(comtypes.gen.SAP2000v1.cHelper)\n",
    "if connect_software == 2: helper = helper.QueryInterface(comtypes.gen.ETABSv1.cHelper);\n",
    "try: Sap2000Object = helper.CreateObjectProgID(conn[\"app_adjunto\"])\n",
    "except (OSError, comtypes.COMError): print(f\"Cannot start a new instance of the program({software}).\")\n",
    "\n",
    "Sap2000Object.ApplicationStart()\n",
    "\n",
    "smodel = Sap2000Object.SapModel"
   ]
  },
  {
   "cell_type": "code",
   "execution_count": 22,
   "metadata": {},
   "outputs": [
    {
     "data": {
      "text/plain": [
       "0"
      ]
     },
     "execution_count": 22,
     "metadata": {},
     "output_type": "execute_result"
    }
   ],
   "source": [
    "# Initialize the model\n",
    "smodel.InitializeNewModel()\n",
    "\n",
    "smodel.File.NewBlank()"
   ]
  },
  {
   "cell_type": "code",
   "execution_count": 23,
   "metadata": {},
   "outputs": [
    {
     "data": {
      "text/plain": [
       "0"
      ]
     },
     "execution_count": 23,
     "metadata": {},
     "output_type": "execute_result"
    }
   ],
   "source": [
    "smodel.SetPresentUnits(KN_m_C)"
   ]
  },
  {
   "cell_type": "code",
   "execution_count": 24,
   "metadata": {},
   "outputs": [
    {
     "name": "stdout",
     "output_type": "stream",
     "text": [
      "All frames deleted successfully\n",
      "Structural system created successfully\n"
     ]
    }
   ],
   "source": [
    "# Creacion de materiales y geometria | Create the structural system\n",
    "base_points = create_structural_system(\n",
    "    smodel, \n",
    "    bay_width=4, \n",
    "    story_height=8, \n",
    "    num_bays=4, \n",
    "    num_stories=4\n",
    ")\n",
    "\n",
    "# carga en portico | apply loads\n",
    "\n",
    "# Condiciones de borde o apoyos | restraints\n",
    "\n",
    "smodel.View.RefreshView(\n",
    "    0, \n",
    "    False\n",
    "    );"
   ]
  },
  {
   "cell_type": "code",
   "execution_count": null,
   "metadata": {},
   "outputs": [],
   "source": [
    "# Save the model before analysis\n",
    "\n",
    "# Se definen registros de salida\n",
    "projectPath = r'C:\\\\CSi_API_Example';\n",
    "if not os.path.exists(projectPath):\n",
    "    try: os.makedirs(projectPath)\n",
    "    except OSError: pass\n",
    "\n",
    "ModelPath = projectPath + os.sep\n",
    "# save model | guardar nuestro modelo\n",
    "if connect_software == 1: ret = smodel.File.Save(ModelPath+'Frame-e2.sdb')\n",
    "if connect_software == 2: ret = smodel.File.Save(ModelPath+'Frame-e2.edb', True)"
   ]
  },
  {
   "cell_type": "markdown",
   "metadata": {},
   "source": [
    "## 2. Resultados"
   ]
  },
  {
   "cell_type": "code",
   "execution_count": null,
   "metadata": {},
   "outputs": [
    {
     "name": "stdout",
     "output_type": "stream",
     "text": [
      "All frames deleted successfully\n",
      "Structural system created successfully\n",
      "[0, (), (), (), (), (), (), (), (), (), (), (), 1]\n",
      "[0, (), (), (), (), (), (), (), (), (), (), (), 1]\n",
      "[0, (), (), (), (), (), (), (), (), (), (), (), 1]\n",
      "[0, (), (), (), (), (), (), (), (), (), (), (), 1]\n",
      "[0, (), (), (), (), (), (), (), (), (), (), (), 1]\n",
      "[0, (), (), (), (), (), (), (), (), (), (), (), 1]\n",
      "[0, (), (), (), (), (), (), (), (), (), (), (), 1]\n",
      "[0, (), (), (), (), (), (), (), (), (), (), (), 1]\n",
      "[0, (), (), (), (), (), (), (), (), (), (), (), 1]\n",
      "[0, (), (), (), (), (), (), (), (), (), (), (), 1]\n",
      "[0, (), (), (), (), (), (), (), (), (), (), (), 1]\n",
      "[0, (), (), (), (), (), (), (), (), (), (), (), 1]\n",
      "[0, (), (), (), (), (), (), (), (), (), (), (), 1]\n",
      "[0, (), (), (), (), (), (), (), (), (), (), (), 1]\n",
      "[0, (), (), (), (), (), (), (), (), (), (), (), 1]\n",
      "[0, (), (), (), (), (), (), (), (), (), (), (), 1]\n",
      "[0, (), (), (), (), (), (), (), (), (), (), (), 1]\n",
      "[0, (), (), (), (), (), (), (), (), (), (), (), 1]\n",
      "[0, (), (), (), (), (), (), (), (), (), (), (), 1]\n",
      "[0, (), (), (), (), (), (), (), (), (), (), (), 1]\n"
     ]
    }
   ],
   "source": [
    "# Run the analysis and get joint reactions\n",
    "run_analysis_and_get_joint_reactions(smodel, base_points)\n",
    "\n",
    "# Unlock and run the analysis again (if needed)\n",
    "unlocked_model(smodel)\n",
    "run_analysis_and_get_joint_reactions(smodel, base_points)"
   ]
  },
  {
   "cell_type": "markdown",
   "metadata": {},
   "source": [
    "## 3. Cerrar la conneccion"
   ]
  },
  {
   "cell_type": "code",
   "execution_count": 25,
   "metadata": {},
   "outputs": [
    {
     "name": "stdout",
     "output_type": "stream",
     "text": [
      "Se cerro con exito.\n"
     ]
    }
   ],
   "source": [
    "if (smodel.ApplicationExit(False)): print(\"SAP2000, No se pudo cerrar\")\n",
    "else: print(\"Se cerro con exito.\")\n",
    "\n",
    "smodel = None\n",
    "del smodel"
   ]
  }
 ],
 "metadata": {
  "kernelspec": {
   "display_name": "Python 3",
   "language": "python",
   "name": "python3"
  },
  "language_info": {
   "codemirror_mode": {
    "name": "ipython",
    "version": 3
   },
   "file_extension": ".py",
   "mimetype": "text/x-python",
   "name": "python",
   "nbconvert_exporter": "python",
   "pygments_lexer": "ipython3",
   "version": "3.12.7"
  }
 },
 "nbformat": 4,
 "nbformat_minor": 2
}
